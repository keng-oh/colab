{
  "nbformat": 4,
  "nbformat_minor": 0,
  "metadata": {
    "colab": {
      "name": " principal_component_analysis.ipynb",
      "version": "0.3.2",
      "provenance": [],
      "collapsed_sections": [],
      "include_colab_link": true
    },
    "kernelspec": {
      "name": "python3",
      "display_name": "Python 3"
    }
  },
  "cells": [
    {
      "cell_type": "markdown",
      "metadata": {
        "id": "view-in-github",
        "colab_type": "text"
      },
      "source": [
        "<a href=\"https://colab.research.google.com/github/keng-oh/colab/blob/master/principal_component_analysis.ipynb\" target=\"_parent\"><img src=\"https://colab.research.google.com/assets/colab-badge.svg\" alt=\"Open In Colab\"/></a>"
      ]
    },
    {
      "cell_type": "markdown",
      "metadata": {
        "id": "AwieqsyqY-yn",
        "colab_type": "text"
      },
      "source": [
        "# 主成分分析"
      ]
    },
    {
      "cell_type": "code",
      "metadata": {
        "id": "KSJz3xTIYtbv",
        "colab_type": "code",
        "outputId": "a9195a15-ed24-4d6b-bd94-0606ec35fa9d",
        "colab": {
          "base_uri": "https://localhost:8080/",
          "height": 85
        }
      },
      "source": [
        "# 必要なライブラリを読み込み\n",
        "import numpy as np\n",
        "import matplotlib.pyplot as plt\n",
        "%matplotlib inline\n",
        "\n",
        "# 不要な警告を非表示にする\n",
        "import warnings\n",
        "warnings.filterwarnings('ignore')\n",
        "\n",
        "# irisデータのロード\n",
        "from sklearn.datasets import load_iris\n",
        "iris = load_iris()\n",
        "X = iris.data\n",
        "y = iris.target\n",
        "\n",
        "# データに含まれている特徴量を確認\n",
        "feature_names = iris.feature_names\n",
        "\n",
        "iris.feature_names"
      ],
      "execution_count": 0,
      "outputs": [
        {
          "output_type": "execute_result",
          "data": {
            "text/plain": [
              "['sepal length (cm)',\n",
              " 'sepal width (cm)',\n",
              " 'petal length (cm)',\n",
              " 'petal width (cm)']"
            ]
          },
          "metadata": {
            "tags": []
          },
          "execution_count": 1
        }
      ]
    },
    {
      "cell_type": "code",
      "metadata": {
        "id": "qL7B-Ldwhh-V",
        "colab_type": "code",
        "outputId": "f0c8e880-9b7e-408c-a916-7d373e86552a",
        "colab": {
          "base_uri": "https://localhost:8080/",
          "height": 187
        }
      },
      "source": [
        "# Xを確認(１０個)\n",
        "\n",
        "X[:10]"
      ],
      "execution_count": 0,
      "outputs": [
        {
          "output_type": "execute_result",
          "data": {
            "text/plain": [
              "array([[5.1, 3.5, 1.4, 0.2],\n",
              "       [4.9, 3. , 1.4, 0.2],\n",
              "       [4.7, 3.2, 1.3, 0.2],\n",
              "       [4.6, 3.1, 1.5, 0.2],\n",
              "       [5. , 3.6, 1.4, 0.2],\n",
              "       [5.4, 3.9, 1.7, 0.4],\n",
              "       [4.6, 3.4, 1.4, 0.3],\n",
              "       [5. , 3.4, 1.5, 0.2],\n",
              "       [4.4, 2.9, 1.4, 0.2],\n",
              "       [4.9, 3.1, 1.5, 0.1]])"
            ]
          },
          "metadata": {
            "tags": []
          },
          "execution_count": 2
        }
      ]
    },
    {
      "cell_type": "code",
      "metadata": {
        "id": "ZqrwNsB4hnLr",
        "colab_type": "code",
        "outputId": "0b30f430-f559-43ca-8709-b67197a9b8e7",
        "colab": {
          "base_uri": "https://localhost:8080/",
          "height": 558
        }
      },
      "source": [
        "# 特徴選択による可視化\n",
        "# 4つの特徴量のうち､2つを選んで2次元にする\n",
        "import matplotlib.pyplot as plt\n",
        "\n",
        "# 4つの特徴量の組み合わせを定義（合計6通り）\n",
        "# 0: sepal length\n",
        "# 1: sepal width\n",
        "# 2: petal length\n",
        "# 3: petal width\n",
        "pairs = [(0, 1), (0, 2), (0, 3), (1, 2), (1, 3), (2, 3)]\n",
        "\n",
        "# 各組み合わせに対して散布図を表示\n",
        "# グラフのサイズを指定\n",
        "plt.figure(figsize=(12, 9))\n",
        "\n",
        "# グラフを特徴量のpairごとに表示\n",
        "# クラスラベルごとに色を分けてプロット\n",
        "# 赤: setosa \n",
        "# 青: versicolor\n",
        "# 緑: verginica\n",
        "for i, (p0, p1) in enumerate(pairs):\n",
        "    plt.subplot(2, 3, i + 1)\n",
        "    # クラスラベルごとに色分けしてプロット\n",
        "    for target, marker, color in zip(list(range(3)), \">ox\", \"rgb\"):\n",
        "        plt.scatter(X[iris.target == target, p0], X[iris.target == target, p1], marker=marker, c=color)\n",
        "    plt.xlabel(feature_names[p0])\n",
        "    plt.ylabel(feature_names[p1])\n",
        "    plt.xticks([])\n",
        "    plt.yticks([])\n",
        "\n",
        "plt.show()"
      ],
      "execution_count": 0,
      "outputs": [
        {
          "output_type": "display_data",
          "data": {
            "image/png": "[encoded data removed]",
            "text/plain": [
              "<Figure size 864x648 with 6 Axes>"
            ]
          },
          "metadata": {
            "tags": []
          }
        }
      ]
    },
    {
      "cell_type": "code",
      "metadata": {
        "id": "ZrK4fzGhh3B0",
        "colab_type": "code",
        "outputId": "71905c82-815e-48e8-fa23-1d54c39d2445",
        "colab": {
          "base_uri": "https://localhost:8080/",
          "height": 187
        }
      },
      "source": [
        "# データの標準化\n",
        "from sklearn.preprocessing import StandardScaler\n",
        "scaler = StandardScaler()\n",
        "# 与えられた行列の各特徴量について､平均と標準偏差を算出\n",
        "scaler.fit(X)\n",
        "# Xを標準化した行列を生成\n",
        "X_std = scaler.fit_transform(X)\n",
        "\n",
        "# 主成分分析を実行\n",
        "from sklearn.decomposition import PCA\n",
        "pca = PCA(n_components=4) # 主成分を4つまで取得\n",
        "X_pca = pca.fit_transform(X_std)\n",
        "\n",
        "# 抽出した特徴量の値を出力(１０個)\n",
        "X_pca[:10]"
      ],
      "execution_count": 0,
      "outputs": [
        {
          "output_type": "execute_result",
          "data": {
            "text/plain": [
              "array([[-2.26470281,  0.4800266 , -0.12770602, -0.0241682 ],\n",
              "       [-2.08096115, -0.67413356, -0.23460885, -0.10300677],\n",
              "       [-2.36422905, -0.34190802,  0.04420148, -0.02837705],\n",
              "       [-2.29938422, -0.59739451,  0.09129011,  0.06595556],\n",
              "       [-2.38984217,  0.64683538,  0.0157382 ,  0.03592281],\n",
              "       [-2.07563095,  1.48917752,  0.02696829, -0.00660818],\n",
              "       [-2.44402884,  0.0476442 ,  0.3354704 ,  0.03677556],\n",
              "       [-2.23284716,  0.22314807, -0.0886955 ,  0.0246121 ],\n",
              "       [-2.33464048, -1.11532768,  0.14507686,  0.02685922],\n",
              "       [-2.18432817, -0.46901356, -0.25376557,  0.03989929]])"
            ]
          },
          "metadata": {
            "tags": []
          },
          "execution_count": 5
        }
      ]
    },
    {
      "cell_type": "code",
      "metadata": {
        "id": "WfYt94MTiBcx",
        "colab_type": "code",
        "outputId": "44409328-0ec9-44d3-98ea-0158f6dd93c5",
        "colab": {
          "base_uri": "https://localhost:8080/",
          "height": 375
        }
      },
      "source": [
        "# 特徴抽出による可視化\n",
        "# PC0とPC1について散布図を表示\n",
        "plt.figure(figsize=(6, 6))\n",
        "for target, marker, color in zip(range(3), '>ox', 'rgb'):\n",
        "    plt.scatter(X_pca[iris.target==target, 0], X_pca[iris.target==target, 1], marker=marker, color=color)\n",
        "plt.xlabel('PC 0')\n",
        "plt.ylabel('PC 1')\n",
        "plt.xticks([])\n",
        "plt.yticks([])\n",
        "plt.show()"
      ],
      "execution_count": 0,
      "outputs": [
        {
          "output_type": "display_data",
          "data": {
            "image/png": "[encoded data removed]",
            "text/plain": [
              "<Figure size 432x432 with 1 Axes>"
            ]
          },
          "metadata": {
            "tags": []
          }
        }
      ]
    },
    {
      "cell_type": "code",
      "metadata": {
        "id": "TjLEUdBjjP95",
        "colab_type": "code",
        "outputId": "227ec885-c8bd-43cb-8691-f948440ddb12",
        "colab": {
          "base_uri": "https://localhost:8080/",
          "height": 34
        }
      },
      "source": [
        "# 寄与率を出力\n",
        "# 各主成分の寄与率がarrayの形式で入っている\n",
        "# [第一主成分の寄与率 第二主成分の寄与率 ...]\n",
        "print(pca.explained_variance_ratio_)"
      ],
      "execution_count": 0,
      "outputs": [
        {
          "output_type": "stream",
          "text": [
            "[0.72962445 0.22850762 0.03668922 0.00517871]\n"
          ],
          "name": "stdout"
        }
      ]
    },
    {
      "cell_type": "code",
      "metadata": {
        "id": "56B2oo3skB0O",
        "colab_type": "code",
        "outputId": "42c1ceb6-0e4b-44c9-de20-24879133dd3d",
        "colab": {
          "base_uri": "https://localhost:8080/",
          "height": 34
        }
      },
      "source": [
        "# 累積寄与率を出力\n",
        "# np.cumsum()で固有値の累積をとる\n",
        "# [第1主成分までの累積寄与率 第2主成分までの累積寄与率 ...]\n",
        "print(np.cumsum(pca.explained_variance_ratio_))"
      ],
      "execution_count": 0,
      "outputs": [
        {
          "output_type": "stream",
          "text": [
            "[0.72962445 0.95813207 0.99482129 1.        ]\n"
          ],
          "name": "stdout"
        }
      ]
    },
    {
      "cell_type": "code",
      "metadata": {
        "id": "RLlAP9bXkJby",
        "colab_type": "code",
        "outputId": "9ace1a2e-e88b-4ad7-adfb-998bcc972fd4",
        "colab": {
          "base_uri": "https://localhost:8080/",
          "height": 375
        }
      },
      "source": [
        "# 特徴抽出による可視化\n",
        "# PC3とPC4について散布図を表示\n",
        "plt.figure(figsize=(6, 6))\n",
        "for target, marker, color in zip(range(3), '>ox', 'rgb'):\n",
        "    plt.scatter(X_pca[iris.target==target, 2], X_pca[iris.target==target, 3], marker=marker, color=color)\n",
        "plt.xlabel('PC 2')\n",
        "plt.ylabel('PC 3')\n",
        "plt.xticks([])\n",
        "plt.yticks([])\n",
        "plt.show()"
      ],
      "execution_count": 0,
      "outputs": [
        {
          "output_type": "display_data",
          "data": {
            "image/png": "[encoded data removed]",
            "text/plain": [
              "<Figure size 432x432 with 1 Axes>"
            ]
          },
          "metadata": {
            "tags": []
          }
        }
      ]
    },
    {
      "cell_type": "code",
      "metadata": {
        "id": "xKXX-8YNk5J3",
        "colab_type": "code",
        "outputId": "fa1b2b21-8576-4a88-ae6a-4a734c13d253",
        "colab": {
          "base_uri": "https://localhost:8080/",
          "height": 85
        }
      },
      "source": [
        "# 主成分の係数h_jを出力\n",
        "pca.components_"
      ],
      "execution_count": 0,
      "outputs": [
        {
          "output_type": "execute_result",
          "data": {
            "text/plain": [
              "array([[ 0.52106591, -0.26934744,  0.5804131 ,  0.56485654],\n",
              "       [ 0.37741762,  0.92329566,  0.02449161,  0.06694199],\n",
              "       [-0.71956635,  0.24438178,  0.14212637,  0.63427274],\n",
              "       [-0.26128628,  0.12350962,  0.80144925, -0.52359713]])"
            ]
          },
          "metadata": {
            "tags": []
          },
          "execution_count": 10
        }
      ]
    },
    {
      "cell_type": "code",
      "metadata": {
        "id": "ysrinPOOlBzV",
        "colab_type": "code",
        "outputId": "1d99dabc-bd60-4b0d-d6cc-382a48606152",
        "colab": {
          "base_uri": "https://localhost:8080/",
          "height": 34
        }
      },
      "source": [
        "# 固有値lのルートを取る\n",
        "np.sqrt(pca.explained_variance_)"
      ],
      "execution_count": 0,
      "outputs": [
        {
          "output_type": "execute_result",
          "data": {
            "text/plain": [
              "array([1.71408432, 0.95925226, 0.38437198, 0.14440866])"
            ]
          },
          "metadata": {
            "tags": []
          },
          "execution_count": 11
        }
      ]
    },
    {
      "cell_type": "code",
      "metadata": {
        "id": "1bpQZqSZlFJK",
        "colab_type": "code",
        "outputId": "6297be95-ce48-401b-99a0-e8404ba41bd5",
        "colab": {
          "base_uri": "https://localhost:8080/",
          "height": 85
        }
      },
      "source": [
        "# 因子負荷量を出力\n",
        "# ['sepal length', 'sepal width', 'petal length', 'petal width']\n",
        "pca.components_ * np.sqrt(pca.explained_variance_)[:, np.newaxis]"
      ],
      "execution_count": 0,
      "outputs": [
        {
          "output_type": "execute_result",
          "data": {
            "text/plain": [
              "array([[ 0.89315091, -0.46168423,  0.99487699,  0.96821173],\n",
              "       [ 0.3620387 ,  0.88567345,  0.02349363,  0.06421425],\n",
              "       [-0.27658115,  0.09393351,  0.05462939,  0.24379667],\n",
              "       [-0.037732  ,  0.01783586,  0.11573621, -0.07561196]])"
            ]
          },
          "metadata": {
            "tags": []
          },
          "execution_count": 12
        }
      ]
    },
    {
      "cell_type": "code",
      "metadata": {
        "id": "b6kGT1A0le8s",
        "colab_type": "code",
        "outputId": "daba7259-af4c-4987-e611-75a4d52bbb27",
        "colab": {
          "base_uri": "https://localhost:8080/",
          "height": 187
        }
      },
      "source": [
        "# PCA前のデータを確認\n",
        "# 標準化をしたとこまでのデータを利用\n",
        "X_std[:10]"
      ],
      "execution_count": 0,
      "outputs": [
        {
          "output_type": "execute_result",
          "data": {
            "text/plain": [
              "array([[-0.90068117,  1.01900435, -1.34022653, -1.3154443 ],\n",
              "       [-1.14301691, -0.13197948, -1.34022653, -1.3154443 ],\n",
              "       [-1.38535265,  0.32841405, -1.39706395, -1.3154443 ],\n",
              "       [-1.50652052,  0.09821729, -1.2833891 , -1.3154443 ],\n",
              "       [-1.02184904,  1.24920112, -1.34022653, -1.3154443 ],\n",
              "       [-0.53717756,  1.93979142, -1.16971425, -1.05217993],\n",
              "       [-1.50652052,  0.78880759, -1.34022653, -1.18381211],\n",
              "       [-1.02184904,  0.78880759, -1.2833891 , -1.3154443 ],\n",
              "       [-1.74885626, -0.36217625, -1.34022653, -1.3154443 ],\n",
              "       [-1.14301691,  0.09821729, -1.2833891 , -1.44707648]])"
            ]
          },
          "metadata": {
            "tags": []
          },
          "execution_count": 13
        }
      ]
    },
    {
      "cell_type": "code",
      "metadata": {
        "id": "NDJ3zY69liRl",
        "colab_type": "code",
        "outputId": "e42a3607-42f4-41fa-9dda-1c12c6428537",
        "colab": {
          "base_uri": "https://localhost:8080/",
          "height": 85
        }
      },
      "source": [
        "# 特徴量選択のために､特徴量を確認\n",
        "iris.feature_names"
      ],
      "execution_count": 0,
      "outputs": [
        {
          "output_type": "execute_result",
          "data": {
            "text/plain": [
              "['sepal length (cm)',\n",
              " 'sepal width (cm)',\n",
              " 'petal length (cm)',\n",
              " 'petal width (cm)']"
            ]
          },
          "metadata": {
            "tags": []
          },
          "execution_count": 14
        }
      ]
    },
    {
      "cell_type": "code",
      "metadata": {
        "id": "NVmsDsEgllEs",
        "colab_type": "code",
        "outputId": "5d55bdf3-bade-47b4-a3ae-e02ced4e3890",
        "colab": {
          "base_uri": "https://localhost:8080/",
          "height": 187
        }
      },
      "source": [
        "# 特徴選択(１０個)\n",
        "X_std[:, 0:2][:10]"
      ],
      "execution_count": 0,
      "outputs": [
        {
          "output_type": "execute_result",
          "data": {
            "text/plain": [
              "array([[-0.90068117,  1.01900435],\n",
              "       [-1.14301691, -0.13197948],\n",
              "       [-1.38535265,  0.32841405],\n",
              "       [-1.50652052,  0.09821729],\n",
              "       [-1.02184904,  1.24920112],\n",
              "       [-0.53717756,  1.93979142],\n",
              "       [-1.50652052,  0.78880759],\n",
              "       [-1.02184904,  0.78880759],\n",
              "       [-1.74885626, -0.36217625],\n",
              "       [-1.14301691,  0.09821729]])"
            ]
          },
          "metadata": {
            "tags": []
          },
          "execution_count": 15
        }
      ]
    },
    {
      "cell_type": "code",
      "metadata": {
        "id": "gt3x6s3WloNJ",
        "colab_type": "code",
        "outputId": "ca9680e6-6734-4bcf-c7a2-e44ebc705dd3",
        "colab": {
          "base_uri": "https://localhost:8080/",
          "height": 34
        }
      },
      "source": [
        "# SVMで分類\n",
        "from sklearn.svm import SVC\n",
        "from sklearn.model_selection import cross_val_score\n",
        "scores_1 = cross_val_score(SVC(), X_std[:, [0,2]], y, cv=5)\n",
        "scores_1.mean()"
      ],
      "execution_count": 0,
      "outputs": [
        {
          "output_type": "execute_result",
          "data": {
            "text/plain": [
              "0.9400000000000001"
            ]
          },
          "metadata": {
            "tags": []
          },
          "execution_count": 16
        }
      ]
    },
    {
      "cell_type": "code",
      "metadata": {
        "id": "OCN7z8i7lrex",
        "colab_type": "code",
        "outputId": "bcbb9e52-1d07-4c25-bb32-78786b4a6262",
        "colab": {
          "base_uri": "https://localhost:8080/",
          "height": 187
        }
      },
      "source": [
        "# PCA後のデータを確認(１０個)\n",
        "\n",
        "X_pca[:10]"
      ],
      "execution_count": 0,
      "outputs": [
        {
          "output_type": "execute_result",
          "data": {
            "text/plain": [
              "array([[-2.26470281,  0.4800266 , -0.12770602, -0.0241682 ],\n",
              "       [-2.08096115, -0.67413356, -0.23460885, -0.10300677],\n",
              "       [-2.36422905, -0.34190802,  0.04420148, -0.02837705],\n",
              "       [-2.29938422, -0.59739451,  0.09129011,  0.06595556],\n",
              "       [-2.38984217,  0.64683538,  0.0157382 ,  0.03592281],\n",
              "       [-2.07563095,  1.48917752,  0.02696829, -0.00660818],\n",
              "       [-2.44402884,  0.0476442 ,  0.3354704 ,  0.03677556],\n",
              "       [-2.23284716,  0.22314807, -0.0886955 ,  0.0246121 ],\n",
              "       [-2.33464048, -1.11532768,  0.14507686,  0.02685922],\n",
              "       [-2.18432817, -0.46901356, -0.25376557,  0.03989929]])"
            ]
          },
          "metadata": {
            "tags": []
          },
          "execution_count": 17
        }
      ]
    },
    {
      "cell_type": "code",
      "metadata": {
        "id": "ym7TUIBGluil",
        "colab_type": "code",
        "outputId": "3c595621-d596-4716-a7f5-5a2e3c4ae2e1",
        "colab": {
          "base_uri": "https://localhost:8080/",
          "height": 187
        }
      },
      "source": [
        "# 第2主成分までを選択(１０個)\n",
        "\n",
        "X_pca[:, 0:2][:10]"
      ],
      "execution_count": 0,
      "outputs": [
        {
          "output_type": "execute_result",
          "data": {
            "text/plain": [
              "array([[-2.26470281,  0.4800266 ],\n",
              "       [-2.08096115, -0.67413356],\n",
              "       [-2.36422905, -0.34190802],\n",
              "       [-2.29938422, -0.59739451],\n",
              "       [-2.38984217,  0.64683538],\n",
              "       [-2.07563095,  1.48917752],\n",
              "       [-2.44402884,  0.0476442 ],\n",
              "       [-2.23284716,  0.22314807],\n",
              "       [-2.33464048, -1.11532768],\n",
              "       [-2.18432817, -0.46901356]])"
            ]
          },
          "metadata": {
            "tags": []
          },
          "execution_count": 18
        }
      ]
    },
    {
      "cell_type": "code",
      "metadata": {
        "id": "JRSAZTS4l0jc",
        "colab_type": "code",
        "outputId": "05b599f6-d62e-4d87-e06f-f9aba10f2287",
        "colab": {
          "base_uri": "https://localhost:8080/",
          "height": 34
        }
      },
      "source": [
        "# SVMで分類\n",
        "from sklearn.svm import SVC\n",
        "from sklearn.model_selection import cross_val_score\n",
        "scores_2 = cross_val_score(SVC(), X_pca[:, [0,2]], y, cv=5)\n",
        "scores_2.mean()"
      ],
      "execution_count": 0,
      "outputs": [
        {
          "output_type": "execute_result",
          "data": {
            "text/plain": [
              "0.96"
            ]
          },
          "metadata": {
            "tags": []
          },
          "execution_count": 19
        }
      ]
    },
    {
      "cell_type": "code",
      "metadata": {
        "id": "tmh88kYjl4TP",
        "colab_type": "code",
        "outputId": "2badae0e-43bc-4a47-d83d-1ea068e48689",
        "colab": {
          "base_uri": "https://localhost:8080/",
          "height": 51
        }
      },
      "source": [
        "# 両者の精度を比較\n",
        "print('特徴選択: {}'.format(scores_1.mean()))\n",
        "print('特徴抽出: {}'.format(scores_2.mean()))"
      ],
      "execution_count": 0,
      "outputs": [
        {
          "output_type": "stream",
          "text": [
            "特徴選択: 0.9400000000000001\n",
            "特徴抽出: 0.96\n"
          ],
          "name": "stdout"
        }
      ]
    }
  ]
}