{
  "nbformat": 4,
  "nbformat_minor": 0,
  "metadata": {
    "colab": {
      "name": "mnist.ipynb",
      "version": "0.3.2",
      "provenance": [],
      "collapsed_sections": [],
      "include_colab_link": true
    },
    "kernelspec": {
      "name": "python3",
      "display_name": "Python 3"
    },
    "accelerator": "TPU"
  },
  "cells": [
    {
      "cell_type": "markdown",
      "metadata": {
        "id": "view-in-github",
        "colab_type": "text"
      },
      "source": [
        "<a href=\"https://colab.research.google.com/github/keng-oh/colab/blob/master/mnist.ipynb\" target=\"_parent\"><img src=\"https://colab.research.google.com/assets/colab-badge.svg\" alt=\"Open In Colab\"/></a>"
      ]
    },
    {
      "cell_type": "markdown",
      "metadata": {
        "id": "XGcQudLgBez7",
        "colab_type": "text"
      },
      "source": [
        "# ニューラルネットワークの基礎\n",
        "## MNISTデータセット"
      ]
    },
    {
      "cell_type": "code",
      "metadata": {
        "id": "0dhFXmAyBHS7",
        "colab_type": "code",
        "outputId": "1d6baed6-c32d-4ee7-b461-7068c7a3edbf",
        "colab": {
          "base_uri": "https://localhost:8080/",
          "height": 1241
        }
      },
      "source": [
        "# tensorflowのインストール(初回のみコメントアウトを外して実行してください。)\n",
        "# version 1.6を使用\n",
        "! pip install -U tensorflow==1.6.0\n",
        "# Kerasのインストール(初回のみコメントアウトを外して実行してください。)\n",
        "# version 2.0を使用\n",
        "! pip install -U keras==2.0"
      ],
      "execution_count": 0,
      "outputs": [
        {
          "output_type": "stream",
          "text": [
            "Collecting tensorflow==1.6.0\n",
            "\u001b[?25l  Downloading https://files.pythonhosted.org/packages/d9/0f/fbd8bb92459c75db93040f80702ebe4ba83a52cdb6ad930654c31dc0b711/tensorflow-1.6.0-cp36-cp36m-manylinux1_x86_64.whl (45.8MB)\n",
            "\u001b[K     |████████████████████████████████| 45.9MB 1.2MB/s \n",
            "\u001b[?25hRequirement already satisfied, skipping upgrade: wheel>=0.26 in /usr/local/lib/python3.6/dist-packages (from tensorflow==1.6.0) (0.33.4)\n",
            "Requirement already satisfied, skipping upgrade: protobuf>=3.4.0 in /usr/local/lib/python3.6/dist-packages (from tensorflow==1.6.0) (3.7.1)\n",
            "Requirement already satisfied, skipping upgrade: astor>=0.6.0 in /usr/local/lib/python3.6/dist-packages (from tensorflow==1.6.0) (0.8.0)\n",
            "Requirement already satisfied, skipping upgrade: grpcio>=1.8.6 in /usr/local/lib/python3.6/dist-packages (from tensorflow==1.6.0) (1.15.0)\n",
            "Requirement already satisfied, skipping upgrade: absl-py>=0.1.6 in /usr/local/lib/python3.6/dist-packages (from tensorflow==1.6.0) (0.7.1)\n",
            "Requirement already satisfied, skipping upgrade: six>=1.10.0 in /usr/local/lib/python3.6/dist-packages (from tensorflow==1.6.0) (1.12.0)\n",
            "Requirement already satisfied, skipping upgrade: gast>=0.2.0 in /usr/local/lib/python3.6/dist-packages (from tensorflow==1.6.0) (0.2.2)\n",
            "Collecting tensorboard<1.7.0,>=1.6.0 (from tensorflow==1.6.0)\n",
            "\u001b[?25l  Downloading https://files.pythonhosted.org/packages/b0/67/a8c91665987d359211dcdca5c8b2a7c1e0876eb0702a4383c1e4ff76228d/tensorboard-1.6.0-py3-none-any.whl (3.0MB)\n",
            "\u001b[K     |████████████████████████████████| 3.1MB 31.6MB/s \n",
            "\u001b[?25hRequirement already satisfied, skipping upgrade: termcolor>=1.1.0 in /usr/local/lib/python3.6/dist-packages (from tensorflow==1.6.0) (1.1.0)\n",
            "Requirement already satisfied, skipping upgrade: numpy>=1.13.3 in /usr/local/lib/python3.6/dist-packages (from tensorflow==1.6.0) (1.16.4)\n",
            "Requirement already satisfied, skipping upgrade: setuptools in /usr/local/lib/python3.6/dist-packages (from protobuf>=3.4.0->tensorflow==1.6.0) (41.0.1)\n",
            "Collecting bleach==1.5.0 (from tensorboard<1.7.0,>=1.6.0->tensorflow==1.6.0)\n",
            "  Downloading https://files.pythonhosted.org/packages/33/70/86c5fec937ea4964184d4d6c4f0b9551564f821e1c3575907639036d9b90/bleach-1.5.0-py2.py3-none-any.whl\n",
            "Requirement already satisfied, skipping upgrade: werkzeug>=0.11.10 in /usr/local/lib/python3.6/dist-packages (from tensorboard<1.7.0,>=1.6.0->tensorflow==1.6.0) (0.15.4)\n",
            "Requirement already satisfied, skipping upgrade: markdown>=2.6.8 in /usr/local/lib/python3.6/dist-packages (from tensorboard<1.7.0,>=1.6.0->tensorflow==1.6.0) (3.1.1)\n",
            "Collecting html5lib==0.9999999 (from tensorboard<1.7.0,>=1.6.0->tensorflow==1.6.0)\n",
            "\u001b[?25l  Downloading https://files.pythonhosted.org/packages/ae/ae/bcb60402c60932b32dfaf19bb53870b29eda2cd17551ba5639219fb5ebf9/html5lib-0.9999999.tar.gz (889kB)\n",
            "\u001b[K     |████████████████████████████████| 890kB 38.9MB/s \n",
            "\u001b[?25hBuilding wheels for collected packages: html5lib\n",
            "  Building wheel for html5lib (setup.py) ... \u001b[?25l\u001b[?25hdone\n",
            "  Stored in directory: /root/.cache/pip/wheels/50/ae/f9/d2b189788efcf61d1ee0e36045476735c838898eef1cad6e29\n",
            "Successfully built html5lib\n",
            "\u001b[31mERROR: magenta 0.3.19 has requirement tensorflow>=1.12.0, but you'll have tensorflow 1.6.0 which is incompatible.\u001b[0m\n",
            "Installing collected packages: html5lib, bleach, tensorboard, tensorflow\n",
            "  Found existing installation: html5lib 1.0.1\n",
            "    Uninstalling html5lib-1.0.1:\n",
            "      Successfully uninstalled html5lib-1.0.1\n",
            "  Found existing installation: bleach 3.1.0\n",
            "    Uninstalling bleach-3.1.0:\n",
            "      Successfully uninstalled bleach-3.1.0\n",
            "  Found existing installation: tensorboard 1.13.1\n",
            "    Uninstalling tensorboard-1.13.1:\n",
            "      Successfully uninstalled tensorboard-1.13.1\n",
            "  Found existing installation: tensorflow 1.14.0rc1\n",
            "    Uninstalling tensorflow-1.14.0rc1:\n",
            "      Successfully uninstalled tensorflow-1.14.0rc1\n",
            "Successfully installed bleach-1.5.0 html5lib-0.9999999 tensorboard-1.6.0 tensorflow-1.6.0\n",
            "Collecting keras==2.0\n",
            "\u001b[?25l  Downloading https://files.pythonhosted.org/packages/95/bf/98ce2f2ab1364f6e83c0ffc5216fff3058fd990d8a3b957ebad3a6cedeeb/Keras-2.0.0.tar.gz (191kB)\n",
            "\u001b[K     |████████████████████████████████| 194kB 3.5MB/s \n",
            "\u001b[?25hRequirement already satisfied, skipping upgrade: tensorflow in /usr/local/lib/python3.6/dist-packages (from keras==2.0) (1.6.0)\n",
            "Requirement already satisfied, skipping upgrade: pyyaml in /usr/local/lib/python3.6/dist-packages (from keras==2.0) (3.13)\n",
            "Requirement already satisfied, skipping upgrade: six in /usr/local/lib/python3.6/dist-packages (from keras==2.0) (1.12.0)\n",
            "Requirement already satisfied, skipping upgrade: grpcio>=1.8.6 in /usr/local/lib/python3.6/dist-packages (from tensorflow->keras==2.0) (1.15.0)\n",
            "Requirement already satisfied, skipping upgrade: termcolor>=1.1.0 in /usr/local/lib/python3.6/dist-packages (from tensorflow->keras==2.0) (1.1.0)\n",
            "Requirement already satisfied, skipping upgrade: numpy>=1.13.3 in /usr/local/lib/python3.6/dist-packages (from tensorflow->keras==2.0) (1.16.4)\n",
            "Requirement already satisfied, skipping upgrade: tensorboard<1.7.0,>=1.6.0 in /usr/local/lib/python3.6/dist-packages (from tensorflow->keras==2.0) (1.6.0)\n",
            "Requirement already satisfied, skipping upgrade: astor>=0.6.0 in /usr/local/lib/python3.6/dist-packages (from tensorflow->keras==2.0) (0.8.0)\n",
            "Requirement already satisfied, skipping upgrade: protobuf>=3.4.0 in /usr/local/lib/python3.6/dist-packages (from tensorflow->keras==2.0) (3.7.1)\n",
            "Requirement already satisfied, skipping upgrade: absl-py>=0.1.6 in /usr/local/lib/python3.6/dist-packages (from tensorflow->keras==2.0) (0.7.1)\n",
            "Requirement already satisfied, skipping upgrade: gast>=0.2.0 in /usr/local/lib/python3.6/dist-packages (from tensorflow->keras==2.0) (0.2.2)\n",
            "Requirement already satisfied, skipping upgrade: wheel>=0.26 in /usr/local/lib/python3.6/dist-packages (from tensorflow->keras==2.0) (0.33.4)\n",
            "Requirement already satisfied, skipping upgrade: bleach==1.5.0 in /usr/local/lib/python3.6/dist-packages (from tensorboard<1.7.0,>=1.6.0->tensorflow->keras==2.0) (1.5.0)\n",
            "Requirement already satisfied, skipping upgrade: markdown>=2.6.8 in /usr/local/lib/python3.6/dist-packages (from tensorboard<1.7.0,>=1.6.0->tensorflow->keras==2.0) (3.1.1)\n",
            "Requirement already satisfied, skipping upgrade: html5lib==0.9999999 in /usr/local/lib/python3.6/dist-packages (from tensorboard<1.7.0,>=1.6.0->tensorflow->keras==2.0) (0.9999999)\n",
            "Requirement already satisfied, skipping upgrade: werkzeug>=0.11.10 in /usr/local/lib/python3.6/dist-packages (from tensorboard<1.7.0,>=1.6.0->tensorflow->keras==2.0) (0.15.4)\n",
            "Requirement already satisfied, skipping upgrade: setuptools in /usr/local/lib/python3.6/dist-packages (from protobuf>=3.4.0->tensorflow->keras==2.0) (41.0.1)\n",
            "Building wheels for collected packages: keras\n",
            "  Building wheel for keras (setup.py) ... \u001b[?25l\u001b[?25hdone\n",
            "  Stored in directory: /root/.cache/pip/wheels/b0/a1/f4/f5f6a53dd71728cae0176b860f8c4304dd5d3fc2b8387ef59c\n",
            "Successfully built keras\n",
            "\u001b[31mERROR: textgenrnn 1.4.1 has requirement keras>=2.1.5, but you'll have keras 2.0.0 which is incompatible.\u001b[0m\n",
            "Installing collected packages: keras\n",
            "  Found existing installation: Keras 2.2.4\n",
            "    Uninstalling Keras-2.2.4:\n",
            "      Successfully uninstalled Keras-2.2.4\n",
            "Successfully installed keras-2.0.0\n"
          ],
          "name": "stdout"
        }
      ]
    },
    {
      "cell_type": "code",
      "metadata": {
        "id": "ivn2w_PFBrxY",
        "colab_type": "code",
        "outputId": "8f51f8ce-980a-4792-9b8b-891676625b75",
        "colab": {
          "base_uri": "https://localhost:8080/",
          "height": 34
        }
      },
      "source": [
        "import numpy as np\n",
        "import matplotlib.pyplot as plt\n",
        "%matplotlib inline\n",
        "\n",
        "# 不要な警告を非表示にする\n",
        "import warnings\n",
        "warnings.filterwarnings('ignore')\n",
        "\n",
        "#kerasではバックエンドでTensorFlowを回しているのでkeras使用時は毎回importする。\n",
        "import tensorflow as tf\n",
        "import keras\n",
        "\n",
        "#層構造のモデルを定義するためのメソッド（kerasのモデル構築で必ず使う）\n",
        "from keras.models import Sequential\n",
        "\n",
        "# Denseは層の生成メソッド、Activationは活性化関数を定義するためのメソッド\n",
        "#Flattenは二次元配列を一次元配列に変換する層\n",
        "from keras.layers import Dense, Activation, Flatten\n",
        "\n",
        "#SGD：ディープラーニングにおいて最も基本的な最適化手法\n",
        "from keras.optimizers import SGD"
      ],
      "execution_count": 0,
      "outputs": [
        {
          "output_type": "stream",
          "text": [
            "Using TensorFlow backend.\n"
          ],
          "name": "stderr"
        }
      ]
    },
    {
      "cell_type": "code",
      "metadata": {
        "id": "5TTMquWmB5PD",
        "colab_type": "code",
        "outputId": "ee937f3d-00ed-4484-886f-e02626cd5e41",
        "colab": {
          "base_uri": "https://localhost:8080/",
          "height": 34
        }
      },
      "source": [
        "# tensorflowのバージョン確認（1.6.0）\n",
        "tf.__version__"
      ],
      "execution_count": 0,
      "outputs": [
        {
          "output_type": "execute_result",
          "data": {
            "text/plain": [
              "'1.6.0'"
            ]
          },
          "metadata": {
            "tags": []
          },
          "execution_count": 4
        }
      ]
    },
    {
      "cell_type": "code",
      "metadata": {
        "id": "MCCOXir5B7vh",
        "colab_type": "code",
        "outputId": "854e43da-9a1f-4b12-bfdf-232b46285136",
        "colab": {
          "base_uri": "https://localhost:8080/",
          "height": 34
        }
      },
      "source": [
        "# kerasのバージョンを確認（2.0.0）\n",
        "keras.__version__"
      ],
      "execution_count": 0,
      "outputs": [
        {
          "output_type": "execute_result",
          "data": {
            "text/plain": [
              "'2.0.0'"
            ]
          },
          "metadata": {
            "tags": []
          },
          "execution_count": 5
        }
      ]
    },
    {
      "cell_type": "code",
      "metadata": {
        "id": "1cWrwvbRCGqz",
        "colab_type": "code",
        "outputId": "170acb26-5d8f-40dd-c7b2-ebd5887c997e",
        "colab": {
          "base_uri": "https://localhost:8080/",
          "height": 34
        }
      },
      "source": [
        "#keras内のMNISTデータセット\n",
        "from keras.datasets import mnist\n",
        "#one-hot-encoding用のライブラリ(＊後述)\n",
        "from keras.utils import np_utils\n",
        "\n",
        "# MNISTデータのロード\n",
        "(X_train, y_train), (X_test, y_test) = mnist.load_data()"
      ],
      "execution_count": 0,
      "outputs": [
        {
          "output_type": "stream",
          "text": [
            "Downloading data from https://s3.amazonaws.com/img-datasets/mnist.npz\n"
          ],
          "name": "stdout"
        }
      ]
    },
    {
      "cell_type": "code",
      "metadata": {
        "id": "JyTPl09ICMvp",
        "colab_type": "code",
        "outputId": "93505ba7-8fd2-44cf-e377-ef4dda2c5ec3",
        "colab": {
          "base_uri": "https://localhost:8080/",
          "height": 34
        }
      },
      "source": [
        "# 画像データ（X_train, X_test)の形を確認\n",
        "X_train.shape, X_test.shape"
      ],
      "execution_count": 0,
      "outputs": [
        {
          "output_type": "execute_result",
          "data": {
            "text/plain": [
              "((60000, 28, 28), (10000, 28, 28))"
            ]
          },
          "metadata": {
            "tags": []
          },
          "execution_count": 7
        }
      ]
    },
    {
      "cell_type": "code",
      "metadata": {
        "id": "BrbntKrQCPdc",
        "colab_type": "code",
        "outputId": "4bee12f6-7236-4296-f89e-e776ad0914e3",
        "colab": {
          "base_uri": "https://localhost:8080/",
          "height": 34
        }
      },
      "source": [
        "# 正解ラベルデータ（y_train, y_test)の形を確認\n",
        "y_train.shape, y_test.shape"
      ],
      "execution_count": 0,
      "outputs": [
        {
          "output_type": "execute_result",
          "data": {
            "text/plain": [
              "((60000,), (10000,))"
            ]
          },
          "metadata": {
            "tags": []
          },
          "execution_count": 8
        }
      ]
    },
    {
      "cell_type": "code",
      "metadata": {
        "id": "HKaDafZiCoWd",
        "colab_type": "code",
        "outputId": "384a66f9-b196-4cbc-9a6b-caf68f9baf00",
        "colab": {
          "base_uri": "https://localhost:8080/",
          "height": 1445
        }
      },
      "source": [
        "# ベクトル化されたモノクロ画像の一枚目を確認\n",
        "# 0〜255の整数値が入っている\n",
        "X_train[0]"
      ],
      "execution_count": 0,
      "outputs": [
        {
          "output_type": "execute_result",
          "data": {
            "text/plain": [
              "array([[  0,   0,   0,   0,   0,   0,   0,   0,   0,   0,   0,   0,   0,\n",
              "          0,   0,   0,   0,   0,   0,   0,   0,   0,   0,   0,   0,   0,\n",
              "          0,   0],\n",
              "       [  0,   0,   0,   0,   0,   0,   0,   0,   0,   0,   0,   0,   0,\n",
              "          0,   0,   0,   0,   0,   0,   0,   0,   0,   0,   0,   0,   0,\n",
              "          0,   0],\n",
              "       [  0,   0,   0,   0,   0,   0,   0,   0,   0,   0,   0,   0,   0,\n",
              "          0,   0,   0,   0,   0,   0,   0,   0,   0,   0,   0,   0,   0,\n",
              "          0,   0],\n",
              "       [  0,   0,   0,   0,   0,   0,   0,   0,   0,   0,   0,   0,   0,\n",
              "          0,   0,   0,   0,   0,   0,   0,   0,   0,   0,   0,   0,   0,\n",
              "          0,   0],\n",
              "       [  0,   0,   0,   0,   0,   0,   0,   0,   0,   0,   0,   0,   0,\n",
              "          0,   0,   0,   0,   0,   0,   0,   0,   0,   0,   0,   0,   0,\n",
              "          0,   0],\n",
              "       [  0,   0,   0,   0,   0,   0,   0,   0,   0,   0,   0,   0,   3,\n",
              "         18,  18,  18, 126, 136, 175,  26, 166, 255, 247, 127,   0,   0,\n",
              "          0,   0],\n",
              "       [  0,   0,   0,   0,   0,   0,   0,   0,  30,  36,  94, 154, 170,\n",
              "        253, 253, 253, 253, 253, 225, 172, 253, 242, 195,  64,   0,   0,\n",
              "          0,   0],\n",
              "       [  0,   0,   0,   0,   0,   0,   0,  49, 238, 253, 253, 253, 253,\n",
              "        253, 253, 253, 253, 251,  93,  82,  82,  56,  39,   0,   0,   0,\n",
              "          0,   0],\n",
              "       [  0,   0,   0,   0,   0,   0,   0,  18, 219, 253, 253, 253, 253,\n",
              "        253, 198, 182, 247, 241,   0,   0,   0,   0,   0,   0,   0,   0,\n",
              "          0,   0],\n",
              "       [  0,   0,   0,   0,   0,   0,   0,   0,  80, 156, 107, 253, 253,\n",
              "        205,  11,   0,  43, 154,   0,   0,   0,   0,   0,   0,   0,   0,\n",
              "          0,   0],\n",
              "       [  0,   0,   0,   0,   0,   0,   0,   0,   0,  14,   1, 154, 253,\n",
              "         90,   0,   0,   0,   0,   0,   0,   0,   0,   0,   0,   0,   0,\n",
              "          0,   0],\n",
              "       [  0,   0,   0,   0,   0,   0,   0,   0,   0,   0,   0, 139, 253,\n",
              "        190,   2,   0,   0,   0,   0,   0,   0,   0,   0,   0,   0,   0,\n",
              "          0,   0],\n",
              "       [  0,   0,   0,   0,   0,   0,   0,   0,   0,   0,   0,  11, 190,\n",
              "        253,  70,   0,   0,   0,   0,   0,   0,   0,   0,   0,   0,   0,\n",
              "          0,   0],\n",
              "       [  0,   0,   0,   0,   0,   0,   0,   0,   0,   0,   0,   0,  35,\n",
              "        241, 225, 160, 108,   1,   0,   0,   0,   0,   0,   0,   0,   0,\n",
              "          0,   0],\n",
              "       [  0,   0,   0,   0,   0,   0,   0,   0,   0,   0,   0,   0,   0,\n",
              "         81, 240, 253, 253, 119,  25,   0,   0,   0,   0,   0,   0,   0,\n",
              "          0,   0],\n",
              "       [  0,   0,   0,   0,   0,   0,   0,   0,   0,   0,   0,   0,   0,\n",
              "          0,  45, 186, 253, 253, 150,  27,   0,   0,   0,   0,   0,   0,\n",
              "          0,   0],\n",
              "       [  0,   0,   0,   0,   0,   0,   0,   0,   0,   0,   0,   0,   0,\n",
              "          0,   0,  16,  93, 252, 253, 187,   0,   0,   0,   0,   0,   0,\n",
              "          0,   0],\n",
              "       [  0,   0,   0,   0,   0,   0,   0,   0,   0,   0,   0,   0,   0,\n",
              "          0,   0,   0,   0, 249, 253, 249,  64,   0,   0,   0,   0,   0,\n",
              "          0,   0],\n",
              "       [  0,   0,   0,   0,   0,   0,   0,   0,   0,   0,   0,   0,   0,\n",
              "          0,  46, 130, 183, 253, 253, 207,   2,   0,   0,   0,   0,   0,\n",
              "          0,   0],\n",
              "       [  0,   0,   0,   0,   0,   0,   0,   0,   0,   0,   0,   0,  39,\n",
              "        148, 229, 253, 253, 253, 250, 182,   0,   0,   0,   0,   0,   0,\n",
              "          0,   0],\n",
              "       [  0,   0,   0,   0,   0,   0,   0,   0,   0,   0,  24, 114, 221,\n",
              "        253, 253, 253, 253, 201,  78,   0,   0,   0,   0,   0,   0,   0,\n",
              "          0,   0],\n",
              "       [  0,   0,   0,   0,   0,   0,   0,   0,  23,  66, 213, 253, 253,\n",
              "        253, 253, 198,  81,   2,   0,   0,   0,   0,   0,   0,   0,   0,\n",
              "          0,   0],\n",
              "       [  0,   0,   0,   0,   0,   0,  18, 171, 219, 253, 253, 253, 253,\n",
              "        195,  80,   9,   0,   0,   0,   0,   0,   0,   0,   0,   0,   0,\n",
              "          0,   0],\n",
              "       [  0,   0,   0,   0,  55, 172, 226, 253, 253, 253, 253, 244, 133,\n",
              "         11,   0,   0,   0,   0,   0,   0,   0,   0,   0,   0,   0,   0,\n",
              "          0,   0],\n",
              "       [  0,   0,   0,   0, 136, 253, 253, 253, 212, 135, 132,  16,   0,\n",
              "          0,   0,   0,   0,   0,   0,   0,   0,   0,   0,   0,   0,   0,\n",
              "          0,   0],\n",
              "       [  0,   0,   0,   0,   0,   0,   0,   0,   0,   0,   0,   0,   0,\n",
              "          0,   0,   0,   0,   0,   0,   0,   0,   0,   0,   0,   0,   0,\n",
              "          0,   0],\n",
              "       [  0,   0,   0,   0,   0,   0,   0,   0,   0,   0,   0,   0,   0,\n",
              "          0,   0,   0,   0,   0,   0,   0,   0,   0,   0,   0,   0,   0,\n",
              "          0,   0],\n",
              "       [  0,   0,   0,   0,   0,   0,   0,   0,   0,   0,   0,   0,   0,\n",
              "          0,   0,   0,   0,   0,   0,   0,   0,   0,   0,   0,   0,   0,\n",
              "          0,   0]], dtype=uint8)"
            ]
          },
          "metadata": {
            "tags": []
          },
          "execution_count": 9
        }
      ]
    },
    {
      "cell_type": "code",
      "metadata": {
        "id": "-Ox0E9lpCtde",
        "colab_type": "code",
        "colab": {}
      },
      "source": [
        "# 画像データはuintなのでkerasへの入力用にfloatにデータを変換\n",
        "\n",
        "# .astype('float')でも可。intへの変換なら.astype('i')と記述することも可能。\n",
        "X_train = X_train.astype('f')\n",
        "# この書き方はNumpy形式でのみ使える。\n",
        "X_test = X_test.astype('f')\n",
        "\n",
        "# 画素を0.0-1.0の範囲に正規化\n",
        "X_train /= 255\n",
        "X_test /= 255"
      ],
      "execution_count": 0,
      "outputs": []
    },
    {
      "cell_type": "code",
      "metadata": {
        "id": "SK90yQRPDGYg",
        "colab_type": "code",
        "outputId": "ed63832d-0f97-4902-8b9f-e9ff64b18d89",
        "colab": {
          "base_uri": "https://localhost:8080/",
          "height": 34
        }
      },
      "source": [
        "# One-Hot-Encoding（クラス数値表現　＝＞　One-Hot表現）\n",
        "\n",
        "# Kerasに入力するためにyをOne-Hot表現に変換。今回変換にはKerasのup_utilsモジュールを使用します。\n",
        "# （例：[1, 0, 2] -> [[0, 1, 0],[1, 0, 0],[0, 0, 1]])\n",
        "\n",
        "Y_train = np_utils.to_categorical(y_train, num_classes=10).astype('i') \n",
        "Y_test = np_utils.to_categorical(y_test, num_classes=10).astype('i')\n",
        "\n",
        "# One-Hot表現になっているか確認 -> shapeメソッド\n",
        "Y_train.shape, Y_test.shape"
      ],
      "execution_count": 0,
      "outputs": [
        {
          "output_type": "execute_result",
          "data": {
            "text/plain": [
              "((60000, 10), (10000, 10))"
            ]
          },
          "metadata": {
            "tags": []
          },
          "execution_count": 11
        }
      ]
    },
    {
      "cell_type": "code",
      "metadata": {
        "id": "p6xsPJ68DNLi",
        "colab_type": "code",
        "outputId": "5c642aa3-2d2d-4a6f-e438-85e49d02b4e7",
        "colab": {
          "base_uri": "https://localhost:8080/",
          "height": 34
        }
      },
      "source": [
        "# Y_trainの0番目の行でOne-Hot表現を確認してみる\n",
        "Y_train[0]"
      ],
      "execution_count": 0,
      "outputs": [
        {
          "output_type": "execute_result",
          "data": {
            "text/plain": [
              "array([0, 0, 0, 0, 0, 1, 0, 0, 0, 0], dtype=int32)"
            ]
          },
          "metadata": {
            "tags": []
          },
          "execution_count": 12
        }
      ]
    },
    {
      "cell_type": "code",
      "metadata": {
        "id": "AtZi1Vs5DROA",
        "colab_type": "code",
        "outputId": "8cc3aab1-2d67-4a35-effa-72819d0a833b",
        "colab": {
          "base_uri": "https://localhost:8080/",
          "height": 34
        }
      },
      "source": [
        "# One-Hot-Encoding前のクラス数値表現な正解ラベルデータ\n",
        "y_train[0]"
      ],
      "execution_count": 0,
      "outputs": [
        {
          "output_type": "execute_result",
          "data": {
            "text/plain": [
              "5"
            ]
          },
          "metadata": {
            "tags": []
          },
          "execution_count": 13
        }
      ]
    },
    {
      "cell_type": "code",
      "metadata": {
        "id": "SwXuhmdmDQ-z",
        "colab_type": "code",
        "outputId": "b945f696-d140-4fcb-cc9b-a33f073a1a1c",
        "colab": {
          "base_uri": "https://localhost:8080/",
          "height": 34
        }
      },
      "source": [
        "# One-Hot表現から数値表現へ戻す方法\n",
        "#データが１つの場合（axisが0しかないので）： Y_train[0].argmax()\n",
        "y_train_return = Y_train.argmax(axis=1) \n",
        "\n",
        "#全て元の数値と同じか確認\n",
        "(y_train_return == y_train).all()"
      ],
      "execution_count": 0,
      "outputs": [
        {
          "output_type": "execute_result",
          "data": {
            "text/plain": [
              "True"
            ]
          },
          "metadata": {
            "tags": []
          },
          "execution_count": 14
        }
      ]
    },
    {
      "cell_type": "code",
      "metadata": {
        "id": "D-ToP7eDDWbC",
        "colab_type": "code",
        "outputId": "f6cc7104-78d0-431a-dc7e-35cd4467f42b",
        "colab": {
          "base_uri": "https://localhost:8080/",
          "height": 269
        }
      },
      "source": [
        "# 画像を出力\n",
        "# indexを指定\n",
        "index = 0\n",
        "plt.imshow(X_train[index])\n",
        "plt.gray()\n",
        "plt.show()"
      ],
      "execution_count": 0,
      "outputs": [
        {
          "output_type": "display_data",
          "data": {
            "image/png": "[encoded data removed]",
            "text/plain": [
              "<Figure size 432x288 with 1 Axes>"
            ]
          },
          "metadata": {
            "tags": []
          }
        }
      ]
    },
    {
      "cell_type": "code",
      "metadata": {
        "id": "5yqzFDn1De-r",
        "colab_type": "code",
        "outputId": "4a06f652-a2d5-463b-b90f-971cc9400df4",
        "colab": {
          "base_uri": "https://localhost:8080/",
          "height": 34
        }
      },
      "source": [
        "# 出力した画像の正解ラベルを確認(One-hot表現なのでargmax()で列の番号を出力）\n",
        "Y_train[index].argmax()"
      ],
      "execution_count": 0,
      "outputs": [
        {
          "output_type": "execute_result",
          "data": {
            "text/plain": [
              "5"
            ]
          },
          "metadata": {
            "tags": []
          },
          "execution_count": 16
        }
      ]
    },
    {
      "cell_type": "code",
      "metadata": {
        "id": "1P5AHwUtFYIo",
        "colab_type": "code",
        "colab": {}
      },
      "source": [
        "# ミニバッチに含まれるサンプル数を指定\n",
        "# データからサンプルを100個ずつ取り出して学習する（経験則的だが分類するクラス数以上にすると良いことが多い）\n",
        "batch_size = 100"
      ],
      "execution_count": 0,
      "outputs": []
    },
    {
      "cell_type": "code",
      "metadata": {
        "id": "DJDsTvNnFcYD",
        "colab_type": "code",
        "colab": {}
      },
      "source": [
        "# epoch数を指定（計算リソースと相談、過学習が起きることもあるので多ければ良いというわけではないが基本は多い方が精度が高い）\n",
        "n_epoch = 20"
      ],
      "execution_count": 0,
      "outputs": []
    },
    {
      "cell_type": "code",
      "metadata": {
        "id": "pmdAC7HSHdRT",
        "colab_type": "code",
        "outputId": "5ac3336a-b3eb-46ad-ffda-c68870dae80d",
        "colab": {
          "base_uri": "https://localhost:8080/",
          "height": 68
        }
      },
      "source": [
        "#-----------\n",
        "# MLPモデル\n",
        "#-----------\n",
        "\n",
        "model = Sequential()  # モデルのインスタンスを作成（モデルを作る度に作成する必要がある）\n",
        "# addメソッドで層を追加していく。\n",
        "# Flatten: 二次元配列を一次元配列に変換する層\n",
        "# 入力層に配置しているときはinput_shapeに入力サイズを指定。\n",
        "model.add(Flatten(input_shape=(28, 28)))\n",
        "\n",
        "# Dense: 全結合（線形結合）レイヤーです。引数に出力サイズ（1次元）を指定する。\n",
        "model.add(Dense(900))\n",
        "\n",
        "# Activation: 活性化関数を定義。今回は最もポピュラーなReLU関数。他にも\"sigmoid\"：シグモイド関数などがある。\n",
        "model.add(Activation('relu'))\n",
        "\n",
        "# 以下同じような要領で層を重ねていく\n",
        "model.add(Dense(1000))\n",
        "model.add(Activation('relu'))\n",
        "\n",
        "model.add(Dense(500))\n",
        "model.add(Activation('relu'))\n",
        "\n",
        "# 出力層：最後の線形結合レイヤーは分類するクラス数に指定。\n",
        "# 活性化関数は分類なのでSoftmax関数（回帰なら恒等関数＝そのまま出力）\n",
        "model.add(Dense(10))\n",
        "model.add(Activation('softmax'))"
      ],
      "execution_count": 0,
      "outputs": [
        {
          "output_type": "stream",
          "text": [
            "WARNING:tensorflow:From /usr/local/lib/python3.6/dist-packages/keras/backend/tensorflow_backend.py:1062: calling reduce_prod (from tensorflow.python.ops.math_ops) with keep_dims is deprecated and will be removed in a future version.\n",
            "Instructions for updating:\n",
            "keep_dims is deprecated, use keepdims instead\n"
          ],
          "name": "stdout"
        }
      ]
    },
    {
      "cell_type": "code",
      "metadata": {
        "id": "BqkO2EKFH2PT",
        "colab_type": "code",
        "outputId": "10e35535-006c-4810-88ad-1f7ee7dd5860",
        "colab": {
          "base_uri": "https://localhost:8080/",
          "height": 119
        }
      },
      "source": [
        "# 損失関数(＝誤差関数）は分類では定番の交差エントロピー誤差（回帰ならRMSEが定番）\n",
        "# 最適化手法は基本的な確率的勾配降下法(SGD)（一番ポピュラーなのはAdam　＊後述）\n",
        "# 評価方法は精度（Accuracy）に指定。学習時での出力評価に使われる。\n",
        "\n",
        "model.compile(loss='categorical_crossentropy',\n",
        "              optimizer=SGD(),\n",
        "              metrics=['accuracy'])"
      ],
      "execution_count": 0,
      "outputs": [
        {
          "output_type": "stream",
          "text": [
            "WARNING:tensorflow:From /usr/local/lib/python3.6/dist-packages/keras/backend/tensorflow_backend.py:2550: calling reduce_sum (from tensorflow.python.ops.math_ops) with keep_dims is deprecated and will be removed in a future version.\n",
            "Instructions for updating:\n",
            "keep_dims is deprecated, use keepdims instead\n",
            "WARNING:tensorflow:From /usr/local/lib/python3.6/dist-packages/keras/backend/tensorflow_backend.py:1123: calling reduce_mean (from tensorflow.python.ops.math_ops) with keep_dims is deprecated and will be removed in a future version.\n",
            "Instructions for updating:\n",
            "keep_dims is deprecated, use keepdims instead\n"
          ],
          "name": "stdout"
        }
      ]
    },
    {
      "cell_type": "markdown",
      "metadata": {
        "id": "4h2B_liXIDqD",
        "colab_type": "text"
      },
      "source": [
        "* 訓練用入力データ（X_train）\n",
        "* 訓練用出力データ（Y_train）\n",
        "* epochs：エポック数\n",
        "* validation_data：テストデータのタプル（X_test, Y_test）\n",
        "* varbose：学習時の表示について（1:通常表示、0:表示なし、2:エポックと出力のみ表示）\n",
        "* batch_size：バッチサイズ"
      ]
    },
    {
      "cell_type": "code",
      "metadata": {
        "id": "1ZAdSe_qICEQ",
        "colab_type": "code",
        "outputId": "eb3a9f02-dbfc-41d7-a138-d1045e49b72c",
        "colab": {
          "base_uri": "https://localhost:8080/",
          "height": 714
        }
      },
      "source": [
        "#実際に学習させる（注意：hist変数は学習終了後生成されるので中断したら参照できない）\n",
        "hist = model.fit(X_train,\n",
        "                 Y_train,\n",
        "                 epochs=n_epoch,\n",
        "                 validation_data=(X_test, Y_test),\n",
        "                 verbose=1,\n",
        "                 batch_size=batch_size)"
      ],
      "execution_count": 0,
      "outputs": [
        {
          "output_type": "stream",
          "text": [
            "Train on 60000 samples, validate on 10000 samples\n",
            "Epoch 1/20\n",
            "60000/60000 [==============================] - 36s - loss: 0.9387 - acc: 0.7959 - val_loss: 0.3905 - val_acc: 0.8984\n",
            "Epoch 2/20\n",
            "60000/60000 [==============================] - 36s - loss: 0.3529 - acc: 0.9033 - val_loss: 0.2959 - val_acc: 0.9172\n",
            "Epoch 3/20\n",
            "60000/60000 [==============================] - 36s - loss: 0.2886 - acc: 0.9192 - val_loss: 0.2584 - val_acc: 0.9259\n",
            "Epoch 4/20\n",
            "60000/60000 [==============================] - 36s - loss: 0.2533 - acc: 0.9281 - val_loss: 0.2324 - val_acc: 0.9346\n",
            "Epoch 5/20\n",
            "60000/60000 [==============================] - 36s - loss: 0.2276 - acc: 0.9355 - val_loss: 0.2134 - val_acc: 0.9390\n",
            "Epoch 6/20\n",
            "60000/60000 [==============================] - 36s - loss: 0.2068 - acc: 0.9408 - val_loss: 0.1966 - val_acc: 0.9450\n",
            "Epoch 7/20\n",
            "60000/60000 [==============================] - 36s - loss: 0.1895 - acc: 0.9457 - val_loss: 0.1809 - val_acc: 0.9473\n",
            "Epoch 8/20\n",
            "60000/60000 [==============================] - 36s - loss: 0.1747 - acc: 0.9504 - val_loss: 0.1706 - val_acc: 0.9504\n",
            "Epoch 9/20\n",
            "60000/60000 [==============================] - 36s - loss: 0.1621 - acc: 0.9542 - val_loss: 0.1585 - val_acc: 0.9531\n",
            "Epoch 10/20\n",
            "60000/60000 [==============================] - 36s - loss: 0.1510 - acc: 0.9573 - val_loss: 0.1507 - val_acc: 0.9558\n",
            "Epoch 11/20\n",
            "60000/60000 [==============================] - 36s - loss: 0.1407 - acc: 0.9601 - val_loss: 0.1412 - val_acc: 0.9587\n",
            "Epoch 12/20\n",
            "60000/60000 [==============================] - 36s - loss: 0.1323 - acc: 0.9621 - val_loss: 0.1373 - val_acc: 0.9598\n",
            "Epoch 13/20\n",
            "60000/60000 [==============================] - 36s - loss: 0.1240 - acc: 0.9655 - val_loss: 0.1280 - val_acc: 0.9630\n",
            "Epoch 14/20\n",
            "60000/60000 [==============================] - 36s - loss: 0.1168 - acc: 0.9674 - val_loss: 0.1229 - val_acc: 0.9630\n",
            "Epoch 15/20\n",
            "60000/60000 [==============================] - 36s - loss: 0.1102 - acc: 0.9691 - val_loss: 0.1190 - val_acc: 0.9644\n",
            "Epoch 16/20\n",
            "60000/60000 [==============================] - 36s - loss: 0.1045 - acc: 0.9708 - val_loss: 0.1169 - val_acc: 0.9653\n",
            "Epoch 17/20\n",
            "60000/60000 [==============================] - 36s - loss: 0.0988 - acc: 0.9723 - val_loss: 0.1131 - val_acc: 0.9650\n",
            "Epoch 18/20\n",
            "60000/60000 [==============================] - 36s - loss: 0.0940 - acc: 0.9733 - val_loss: 0.1062 - val_acc: 0.9669\n",
            "Epoch 19/20\n",
            "60000/60000 [==============================] - 36s - loss: 0.0893 - acc: 0.9747 - val_loss: 0.1031 - val_acc: 0.9698\n",
            "Epoch 20/20\n",
            "60000/60000 [==============================] - 36s - loss: 0.0847 - acc: 0.9769 - val_loss: 0.1007 - val_acc: 0.9693\n"
          ],
          "name": "stdout"
        }
      ]
    },
    {
      "cell_type": "code",
      "metadata": {
        "id": "qeUKrMpXNI6n",
        "colab_type": "code",
        "outputId": "fa69736b-225b-4cfb-eeab-473c06c5442f",
        "colab": {
          "base_uri": "https://localhost:8080/",
          "height": 34
        }
      },
      "source": [
        "# 学習精度をテストデータで確認できる（学習時にvalidation_dataとして入力していたら必要ない）\n",
        "loss_and_metrics = model.evaluate(X_test, Y_test)\n",
        "loss_and_metrics #（損失値、精度）を返す"
      ],
      "execution_count": 0,
      "outputs": [
        {
          "output_type": "stream",
          "text": [
            " 9920/10000 [============================>.] - ETA: 0s"
          ],
          "name": "stdout"
        },
        {
          "output_type": "execute_result",
          "data": {
            "text/plain": [
              "[0.10067658730279654, 0.9693]"
            ]
          },
          "metadata": {
            "tags": []
          },
          "execution_count": 22
        }
      ]
    },
    {
      "cell_type": "code",
      "metadata": {
        "id": "29Bqyh5iNR9u",
        "colab_type": "code",
        "outputId": "619fb469-238c-45de-bb80-2e758c8c518d",
        "colab": {
          "base_uri": "https://localhost:8080/",
          "height": 1377
        }
      },
      "source": [
        "# エポックごとの精度と損失値を確認できる。コンパイル時に損失関数や評価関数は変更可能。\n",
        "# val_〜はテストデータに対する精度と損失値。それ以外は訓練データに対する精度、損失値。\n",
        "hist.history"
      ],
      "execution_count": 0,
      "outputs": [
        {
          "output_type": "execute_result",
          "data": {
            "text/plain": [
              "{'acc': [0.7958999997253219,\n",
              "  0.9033166678746541,\n",
              "  0.919166668454806,\n",
              "  0.9281333354115486,\n",
              "  0.9355000016093254,\n",
              "  0.9408000014225641,\n",
              "  0.945716668665409,\n",
              "  0.9503500018517176,\n",
              "  0.9541833360989889,\n",
              "  0.9572500027219455,\n",
              "  0.9600833381215731,\n",
              "  0.9620666706562042,\n",
              "  0.965450004140536,\n",
              "  0.9673500070969264,\n",
              "  0.9691000071167946,\n",
              "  0.9707833414276441,\n",
              "  0.9723333417375882,\n",
              "  0.9733333419760068,\n",
              "  0.9747333422303199,\n",
              "  0.9769000095129013],\n",
              " 'loss': [0.9386502607663473,\n",
              "  0.352861731822292,\n",
              "  0.2885679629445076,\n",
              "  0.25333124183118344,\n",
              "  0.22757761082301536,\n",
              "  0.20680496451134484,\n",
              "  0.18951363369822502,\n",
              "  0.1746620008846124,\n",
              "  0.16212350685149432,\n",
              "  0.15100050430744885,\n",
              "  0.14067943767334024,\n",
              "  0.13227985829114913,\n",
              "  0.12397724523519477,\n",
              "  0.11678096749509374,\n",
              "  0.11018010848512252,\n",
              "  0.10449804591014981,\n",
              "  0.098787982002832,\n",
              "  0.09399973734902839,\n",
              "  0.08930831823808451,\n",
              "  0.08472960556857288],\n",
              " 'val_acc': [0.8984000033140183,\n",
              "  0.9172000008821487,\n",
              "  0.9259000021219254,\n",
              "  0.9345999985933304,\n",
              "  0.9390000027418136,\n",
              "  0.9450000029802322,\n",
              "  0.9473000025749206,\n",
              "  0.950400003194809,\n",
              "  0.953100003004074,\n",
              "  0.9558000046014786,\n",
              "  0.9587000042200089,\n",
              "  0.9598000037670136,\n",
              "  0.9630000054836273,\n",
              "  0.9630000042915344,\n",
              "  0.9644000071287155,\n",
              "  0.9653000056743621,\n",
              "  0.965000006556511,\n",
              "  0.9669000053405762,\n",
              "  0.9698000067472458,\n",
              "  0.9693000054359436],\n",
              " 'val_loss': [0.3904699635505676,\n",
              "  0.2959044500440359,\n",
              "  0.25841235120780764,\n",
              "  0.23244052386377007,\n",
              "  0.21343214851338416,\n",
              "  0.1965961289545521,\n",
              "  0.18090413270983846,\n",
              "  0.17058911547996103,\n",
              "  0.1585379796102643,\n",
              "  0.15065906926756725,\n",
              "  0.14124153409386053,\n",
              "  0.1373406682733912,\n",
              "  0.1279524762229994,\n",
              "  0.12293531746137887,\n",
              "  0.11896067957393824,\n",
              "  0.11694362871348858,\n",
              "  0.113128996968735,\n",
              "  0.10619444621377624,\n",
              "  0.1031307124136947,\n",
              "  0.10067658736021258]}"
            ]
          },
          "metadata": {
            "tags": []
          },
          "execution_count": 23
        }
      ]
    },
    {
      "cell_type": "code",
      "metadata": {
        "id": "itHSCYyLNbzK",
        "colab_type": "code",
        "outputId": "5ced4e2e-b4f3-494f-c666-3da40d4a5c8e",
        "colab": {
          "base_uri": "https://localhost:8080/",
          "height": 573
        }
      },
      "source": [
        "# プロットして損失値と精度の推移を視覚化するのは非常に重要な作業なので特に理由がなければ毎度表示する。\n",
        "# 過学習や学習不足が確認できる。\n",
        "\n",
        "\n",
        "# 損失値(Loss)の遷移のプロット\n",
        "def plot_history_loss(hist):\n",
        "    \n",
        "    # hist.historyに辞書型で損失値や精度が入っているので取得して表示\n",
        "    plt.plot(hist.history['loss'],label=\"loss for training\")\n",
        "    plt.plot(hist.history['val_loss'],label=\"loss for validation\")\n",
        "    \n",
        "    #matplotlibの細かい設定\n",
        "    plt.title('model loss')\n",
        "    plt.xlabel('epoch')\n",
        "    plt.ylabel('loss')\n",
        "    plt.legend(loc='best')\n",
        "    \n",
        "    plt.show()\n",
        "\n",
        "    \n",
        "# 精度(Accuracy)の遷移のプロット\n",
        "def plot_history_acc(hist):\n",
        "    plt.plot(hist.history['acc'],label=\"loss for training\")\n",
        "    plt.plot(hist.history['val_acc'],label=\"loss for validation\")\n",
        "    plt.title('model accuracy')\n",
        "    plt.xlabel('epoch')\n",
        "    plt.ylabel('accuracy')\n",
        "    plt.legend(loc='best')\n",
        "    plt.ylim([0, 1])\n",
        "    plt.show()\n",
        "\n",
        "plot_history_loss(hist)\n",
        "plot_history_acc(hist)"
      ],
      "execution_count": 0,
      "outputs": [
        {
          "output_type": "display_data",
          "data": {
            "image/png": "[encoded data removed]",
            "text/plain": [
              "<Figure size 432x288 with 1 Axes>"
            ]
          },
          "metadata": {
            "tags": []
          }
        },
        {
          "output_type": "display_data",
          "data": {
            "image/png": "[encoded data removed]",
            "text/plain": [
              "<Figure size 432x288 with 1 Axes>"
            ]
          },
          "metadata": {
            "tags": []
          }
        }
      ]
    },
    {
      "cell_type": "code",
      "metadata": {
        "id": "tIAwc_AaNhUZ",
        "colab_type": "code",
        "outputId": "5816db4d-6915-49cf-fef2-4bb5fe698a03",
        "colab": {
          "base_uri": "https://localhost:8080/",
          "height": 269
        }
      },
      "source": [
        "# testデータ内のサンプルをピックアップ\n",
        "# indexを指定して任意の画像を選択\n",
        "index = 1230\n",
        "plt.imshow(X_test[index])\n",
        "plt.show()"
      ],
      "execution_count": 0,
      "outputs": [
        {
          "output_type": "display_data",
          "data": {
            "image/png": "[encoded data removed]",
            "text/plain": [
              "<Figure size 432x288 with 1 Axes>"
            ]
          },
          "metadata": {
            "tags": []
          }
        }
      ]
    },
    {
      "cell_type": "code",
      "metadata": {
        "id": "f3dHY4PsNmVE",
        "colab_type": "code",
        "outputId": "ae9a4d48-1192-4515-bcf9-3ee2678a440f",
        "colab": {
          "base_uri": "https://localhost:8080/",
          "height": 68
        }
      },
      "source": [
        "# 予測を行い､答え合わせをする\n",
        "\n",
        "# 予測はクラスの確率的表現（softmax関数より）で出てくるのでargmaxで最大の列番号を取得\n",
        "pred = model.predict(X_test[index].reshape(1, 28, 28)).argmax()\n",
        "ans  = Y_test[index].argmax()\n",
        "\n",
        "print('predict: ', pred)\n",
        "print('answer : ', ans)\n",
        "\n",
        "if pred == ans:\n",
        "    print('正解です｡')\n",
        "else:\n",
        "    print('不正解です')"
      ],
      "execution_count": 0,
      "outputs": [
        {
          "output_type": "stream",
          "text": [
            "predict:  4\n",
            "answer :  4\n",
            "正解です｡\n"
          ],
          "name": "stdout"
        }
      ]
    },
    {
      "cell_type": "code",
      "metadata": {
        "id": "Ru7AHC3SNtuy",
        "colab_type": "code",
        "outputId": "90d5138c-816a-4539-a8bb-225e19a2ba6c",
        "colab": {
          "base_uri": "https://localhost:8080/",
          "height": 187
        }
      },
      "source": [
        "# 混同行列を出力\n",
        "# testデータに対して行うことに注意\n",
        "from sklearn.metrics import confusion_matrix as cm\n",
        "result = model.predict(X_test).argmax(axis=1)\n",
        "cm(y_test, result)  # y_testはOne-Hot表現にする前のデータ形式に注意"
      ],
      "execution_count": 0,
      "outputs": [
        {
          "output_type": "execute_result",
          "data": {
            "text/plain": [
              "array([[ 969,    0,    2,    0,    1,    2,    2,    2,    2,    0],\n",
              "       [   0, 1119,    3,    1,    0,    0,    4,    2,    6,    0],\n",
              "       [   5,    1, 1008,    3,    4,    0,    1,    7,    2,    1],\n",
              "       [   1,    0,    6,  984,    0,    3,    0,    8,    5,    3],\n",
              "       [   1,    0,    8,    0,  954,    0,    1,    2,    2,   14],\n",
              "       [   5,    1,    1,   11,    2,  851,    8,    1,    8,    4],\n",
              "       [   6,    3,    3,    1,    7,   11,  921,    2,    4,    0],\n",
              "       [   0,    7,   11,    3,    2,    1,    0,  994,    1,    9],\n",
              "       [   3,    1,    5,   11,    3,    4,    4,    5,  936,    2],\n",
              "       [   6,    5,    2,   12,   14,    0,    0,   11,    2,  957]])"
            ]
          },
          "metadata": {
            "tags": []
          },
          "execution_count": 27
        }
      ]
    },
    {
      "cell_type": "code",
      "metadata": {
        "id": "h_l71M42Nzry",
        "colab_type": "code",
        "outputId": "958741a7-1839-4fbe-f9de-c166d6cbf45a",
        "colab": {
          "base_uri": "https://localhost:8080/",
          "height": 34
        }
      },
      "source": [
        "# 正解ラベルが出力されている\n",
        "result"
      ],
      "execution_count": 0,
      "outputs": [
        {
          "output_type": "execute_result",
          "data": {
            "text/plain": [
              "array([7, 2, 1, ..., 4, 5, 6])"
            ]
          },
          "metadata": {
            "tags": []
          },
          "execution_count": 28
        }
      ]
    },
    {
      "cell_type": "code",
      "metadata": {
        "id": "JL6PUxnVN4fJ",
        "colab_type": "code",
        "outputId": "fd52ecf8-6345-4295-8a4c-89b79dd810f2",
        "colab": {
          "base_uri": "https://localhost:8080/",
          "height": 606
        }
      },
      "source": [
        "# 混同行列をグラフで出力する関数\n",
        "def plot_cm(y_true, y_pred):\n",
        "    confmat = cm(y_true, y_pred)\n",
        "    fig, ax = plt.subplots(figsize=(10, 10))\n",
        "    ax.matshow(confmat, cmap=plt.cm.Blues, alpha=0.3)\n",
        "    for i in range(confmat.shape[0]):\n",
        "        for j in range(confmat.shape[1]):\n",
        "            ax.text(x=j, y=i, s=confmat[i, j], va='center', ha='center')\n",
        "    plt.xticks(np.arange(0, 10, 1)) # x軸の目盛りを指定\n",
        "    plt.yticks(np.arange(0, 10, 1)) # y軸の目盛りを指定\n",
        "    plt.xlabel('predicted label')\n",
        "    plt.ylabel('true label')\n",
        "    plt.show()\n",
        "    \n",
        "# 混同行列をグラフで出力\n",
        "# testデータに対して行うことに注意\n",
        "plot_cm(y_test, result)"
      ],
      "execution_count": 0,
      "outputs": [
        {
          "output_type": "display_data",
          "data": {
            "image/png": "[encoded data removed]",
            "text/plain": [
              "<Figure size 720x720 with 1 Axes>"
            ]
          },
          "metadata": {
            "tags": []
          }
        }
      ]
    },
    {
      "cell_type": "code",
      "metadata": {
        "id": "OZ1B9DYAOIWP",
        "colab_type": "code",
        "outputId": "bc3c9df7-fef1-4896-a62a-3118689b5c08",
        "colab": {
          "base_uri": "https://localhost:8080/",
          "height": 85
        }
      },
      "source": [
        "# 性能指標を確認（正解ラベルデータはOne-Hot表現ではなく、クラス数値の表現を入力していることに注意）\n",
        "from sklearn import metrics\n",
        "print('accuracy: %.3f' % metrics.accuracy_score(y_test, result))\n",
        "print('recall: %.3f' % metrics.recall_score(y_test, result, average='macro'))\n",
        "print('precision: %.3f' % metrics.precision_score(y_test, result, average='macro'))\n",
        "print('f1_score: %.3f' % metrics.f1_score(y_test, result, average='macro'))"
      ],
      "execution_count": 0,
      "outputs": [
        {
          "output_type": "stream",
          "text": [
            "accuracy: 0.969\n",
            "recall: 0.969\n",
            "precision: 0.969\n",
            "f1_score: 0.969\n"
          ],
          "name": "stdout"
        }
      ]
    },
    {
      "cell_type": "code",
      "metadata": {
        "id": "dl7P0XEpOHt-",
        "colab_type": "code",
        "outputId": "bcc41c51-281b-4197-a60a-53a85bead2aa",
        "colab": {
          "base_uri": "https://localhost:8080/",
          "height": 824
        }
      },
      "source": [
        "# 予想が外れたデータを表示\n",
        "# 今回は3つだけ表示\n",
        "count = 0\n",
        "for i in range(len(y_test)):\n",
        "    # 予測はクラスの確率的表現（softmax関数より）で出てくるのでargmaxで最大の列番号を取得\n",
        "    pred = model.predict(X_test[i].reshape(1, 28, 28)).argmax()\n",
        "    # ans = y_test[index]　（実際のコードはans = y_test[i]） でも大丈夫です\n",
        "    ans  = Y_test[i].argmax()\n",
        "    \n",
        "    # 正解が4か9のサンプルについてだけ確認\n",
        "    if (ans != 9) and (ans != 4):\n",
        "        continue\n",
        "        \n",
        "    # 予測が間違っていたらリストへ格納\n",
        "    if pred != ans:\n",
        "        count += 1\n",
        "        # 予測を間違えた画像を3枚だけ表示\n",
        "        if count > 3:\n",
        "            break\n",
        "        plt.imshow(X_test[i])\n",
        "        plt.show()\n",
        "        print(\"正解：{}  予測：{}\".format(ans, pred))"
      ],
      "execution_count": 0,
      "outputs": [
        {
          "output_type": "display_data",
          "data": {
            "image/png": "[encoded data removed]",
            "text/plain": [
              "<Figure size 432x288 with 1 Axes>"
            ]
          },
          "metadata": {
            "tags": []
          }
        },
        {
          "output_type": "stream",
          "text": [
            "正解：4  予測：2\n"
          ],
          "name": "stdout"
        },
        {
          "output_type": "display_data",
          "data": {
            "image/png": "[encoded data removed]",
            "text/plain": [
              "<Figure size 432x288 with 1 Axes>"
            ]
          },
          "metadata": {
            "tags": []
          }
        },
        {
          "output_type": "stream",
          "text": [
            "正解：9  予測：7\n"
          ],
          "name": "stdout"
        },
        {
          "output_type": "display_data",
          "data": {
            "image/png": "[encoded data removed]",
            "text/plain": [
              "<Figure size 432x288 with 1 Axes>"
            ]
          },
          "metadata": {
            "tags": []
          }
        },
        {
          "output_type": "stream",
          "text": [
            "正解：4  予測：2\n"
          ],
          "name": "stdout"
        }
      ]
    },
    {
      "cell_type": "code",
      "metadata": {
        "id": "ufyanh3GObpl",
        "colab_type": "code",
        "outputId": "3f597d5b-1f95-41f2-8fe7-7c062310a6e5",
        "colab": {
          "base_uri": "https://localhost:8080/",
          "height": 34
        }
      },
      "source": [
        "# モデルの保存\n",
        "# モデルはjson形式、パラメータはhdf5形式でそれぞれ保存（通常はパラメータだけ保存すれば問題ない）\n",
        "\n",
        "# モデルをJSON形式に変換。あとはテキストを保存する要領で書き出し可能。\n",
        "json_string = model.to_json()\n",
        "with open('mnist.model', 'w') as f:\n",
        "    f.write( json_string)\n",
        "    \n",
        "# モデルパラメータの書き出し（Kerasにおいてはこちらの方が重要）\n",
        "model.save_weights('param.hdf5')\n",
        "print('Saved the model.')"
      ],
      "execution_count": 0,
      "outputs": [
        {
          "output_type": "stream",
          "text": [
            "Saved the model.\n"
          ],
          "name": "stdout"
        }
      ]
    },
    {
      "cell_type": "code",
      "metadata": {
        "id": "ZgBuLsUyOuCy",
        "colab_type": "code",
        "outputId": "925218a1-550d-40d7-d648-78fab4fd8e28",
        "colab": {
          "base_uri": "https://localhost:8080/",
          "height": 34
        }
      },
      "source": [
        "# モデルの読込\n",
        "# 保存したjsonファイルとhdf5ファイルを読み込む。モデルを学習に使うにはcompileが必要。\n",
        "from keras.models import model_from_json\n",
        "\n",
        "# JSON形式のデータを読み込んでモデルとして復元。学習で使うにはまたコンパイルが必要なので注意。\n",
        "with open('mnist.model', 'r') as f:\n",
        "    json_string = f.read()\n",
        "model = model_from_json(json_string)\n",
        "\n",
        "# モデルにパラメータを読み込む。前回の学習状態を引き継げる。\n",
        "model.load_weights('param.hdf5')\n",
        "print('Loaded the model.')"
      ],
      "execution_count": 0,
      "outputs": [
        {
          "output_type": "stream",
          "text": [
            "Loaded the model.\n"
          ],
          "name": "stdout"
        }
      ]
    },
    {
      "cell_type": "code",
      "metadata": {
        "id": "e-BV5TxbPAOO",
        "colab_type": "code",
        "outputId": "4e9e40bc-55e3-49cb-ca1d-6e5da381938f",
        "colab": {
          "base_uri": "https://localhost:8080/",
          "height": 122
        }
      },
      "source": [
        "# Google driveに保存する\n",
        "from google.colab import drive\n",
        "drive.mount('./keras_model')"
      ],
      "execution_count": 0,
      "outputs": [
        {
          "output_type": "stream",
          "text": [
            "Go to this URL in a browser: https://accounts.google.com/o/oauth2/auth?client_id=947318989803-6bn6qk8qdgf4n4g3pfee6491hc0brc4i.apps.googleusercontent.com&redirect_uri=urn%3Aietf%3Awg%3Aoauth%3A2.0%3Aoob&scope=email%20https%3A%2F%2Fwww.googleapis.com%2Fauth%2Fdocs.test%20https%3A%2F%2Fwww.googleapis.com%2Fauth%2Fdrive%20https%3A%2F%2Fwww.googleapis.com%2Fauth%2Fdrive.photos.readonly%20https%3A%2F%2Fwww.googleapis.com%2Fauth%2Fpeopleapi.readonly&response_type=code\n",
            "\n",
            "Enter your authorization code:\n",
            "··········\n",
            "Mounted at ./keras_model\n"
          ],
          "name": "stdout"
        }
      ]
    },
    {
      "cell_type": "code",
      "metadata": {
        "id": "47di5jG5PoF0",
        "colab_type": "code",
        "outputId": "f93f3c07-609a-4379-e6c8-56d9a430159d",
        "colab": {
          "base_uri": "https://localhost:8080/",
          "height": 153
        }
      },
      "source": [
        "#save_model_dir = \"keras_model/'My Drive'/'Colab Notebooks'/AI_STANDARD/keras_model\"\n",
        "!ls -la"
      ],
      "execution_count": 0,
      "outputs": [
        {
          "output_type": "stream",
          "text": [
            "total 8300\n",
            "drwxr-xr-x 1 root root    4096 Jun 19 14:58 .\n",
            "drwxr-xr-x 1 root root    4096 Jun 19 14:13 ..\n",
            "drwxr-xr-x 1 root root    4096 Jun 14 16:05 .config\n",
            "drwx------ 3 root root    4096 Jun 19 14:58 keras_model\n",
            "-rw-r--r-- 1 root root    2862 Jun 19 14:52 mnist.model\n",
            "-rw-r--r-- 1 root root 8473400 Jun 19 14:52 param.hdf5\n",
            "drwxr-xr-x 1 root root    4096 May 31 16:17 sample_data\n"
          ],
          "name": "stdout"
        }
      ]
    },
    {
      "cell_type": "code",
      "metadata": {
        "id": "f-o_YlteUUqE",
        "colab_type": "code",
        "colab": {}
      },
      "source": [
        "%%bash\n",
        "cp mnist.model keras_model/'My Drive'/'Colab Notebooks'/AI_STANDARD/keras_model/\n",
        "cp param.hdf5 keras_model/'My Drive'/'Colab Notebooks'/AI_STANDARD/keras_model/"
      ],
      "execution_count": 0,
      "outputs": []
    }
  ]
}