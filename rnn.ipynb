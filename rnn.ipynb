{
  "nbformat": 4,
  "nbformat_minor": 0,
  "metadata": {
    "colab": {
      "name": "rnn.ipynb",
      "version": "0.3.2",
      "provenance": [],
      "collapsed_sections": [],
      "include_colab_link": true
    },
    "kernelspec": {
      "name": "python3",
      "display_name": "Python 3"
    }
  },
  "cells": [
    {
      "cell_type": "markdown",
      "metadata": {
        "id": "view-in-github",
        "colab_type": "text"
      },
      "source": [
        "<a href=\"https://colab.research.google.com/github/keng-oh/colab/blob/master/rnn.ipynb\" target=\"_parent\"><img src=\"https://colab.research.google.com/assets/colab-badge.svg\" alt=\"Open In Colab\"/></a>"
      ]
    },
    {
      "cell_type": "markdown",
      "metadata": {
        "id": "uVQcN-hCbE2_",
        "colab_type": "text"
      },
      "source": [
        "# RNN\n"
      ]
    },
    {
      "cell_type": "code",
      "metadata": {
        "id": "iL5aAAGNRBHq",
        "colab_type": "code",
        "colab": {}
      },
      "source": [
        "# 必要なライブラリを読み込み\n",
        "%matplotlib inline\n",
        "import matplotlib.pyplot as plt\n",
        "import pandas as pd\n",
        "import numpy as np\n",
        "\n",
        "# 不要な警告を非表示にする\n",
        "import warnings\n",
        "warnings.filterwarnings('ignore')"
      ],
      "execution_count": 0,
      "outputs": []
    },
    {
      "cell_type": "code",
      "metadata": {
        "id": "r8zjPPTEbHoc",
        "colab_type": "code",
        "outputId": "73afd38b-2a78-4b05-eb18-1425ff585b8a",
        "colab": {
          "base_uri": "https://localhost:8080/",
          "height": 51
        }
      },
      "source": [
        "# データセットのダウンロード\n",
        "from urllib import request\n",
        "\n",
        "url = 'http://dv129ryj03col.cloudfront.net/international-airline-passengers.csv'\n",
        "request.urlretrieve(url, 'international-airline-passengers.csv')"
      ],
      "execution_count": 0,
      "outputs": [
        {
          "output_type": "execute_result",
          "data": {
            "text/plain": [
              "('international-airline-passengers.csv',\n",
              " <http.client.HTTPMessage at 0x7f200d697358>)"
            ]
          },
          "metadata": {
            "tags": []
          },
          "execution_count": 46
        }
      ]
    },
    {
      "cell_type": "code",
      "metadata": {
        "id": "sQcp4XqTbZYt",
        "colab_type": "code",
        "colab": {}
      },
      "source": [
        "# csvファイルを読み込み、データフレーム形式で表示\n",
        "df = pd.read_csv('./international-airline-passengers.csv')  # クオーテーションの中は、csvファイルが置いてある場所を各自指定してください"
      ],
      "execution_count": 0,
      "outputs": []
    },
    {
      "cell_type": "code",
      "metadata": {
        "id": "uSHWkWD0bhkQ",
        "colab_type": "code",
        "outputId": "720e3159-2400-453e-b4be-e88d60c35043",
        "colab": {
          "base_uri": "https://localhost:8080/",
          "height": 204
        }
      },
      "source": [
        "# データの最初の5行を表示\n",
        "df.head()"
      ],
      "execution_count": 0,
      "outputs": [
        {
          "output_type": "execute_result",
          "data": {
            "text/html": [
              "<div>\n",
              "<style scoped>\n",
              "    .dataframe tbody tr th:only-of-type {\n",
              "        vertical-align: middle;\n",
              "    }\n",
              "\n",
              "    .dataframe tbody tr th {\n",
              "        vertical-align: top;\n",
              "    }\n",
              "\n",
              "    .dataframe thead th {\n",
              "        text-align: right;\n",
              "    }\n",
              "</style>\n",
              "<table border=\"1\" class=\"dataframe\">\n",
              "  <thead>\n",
              "    <tr style=\"text-align: right;\">\n",
              "      <th></th>\n",
              "      <th>Month</th>\n",
              "      <th>International airline passengers: monthly totals in thousands. Jan 49 ? Dec 60</th>\n",
              "    </tr>\n",
              "  </thead>\n",
              "  <tbody>\n",
              "    <tr>\n",
              "      <th>0</th>\n",
              "      <td>1949-01</td>\n",
              "      <td>112.0</td>\n",
              "    </tr>\n",
              "    <tr>\n",
              "      <th>1</th>\n",
              "      <td>1949-02</td>\n",
              "      <td>118.0</td>\n",
              "    </tr>\n",
              "    <tr>\n",
              "      <th>2</th>\n",
              "      <td>1949-03</td>\n",
              "      <td>132.0</td>\n",
              "    </tr>\n",
              "    <tr>\n",
              "      <th>3</th>\n",
              "      <td>1949-04</td>\n",
              "      <td>129.0</td>\n",
              "    </tr>\n",
              "    <tr>\n",
              "      <th>4</th>\n",
              "      <td>1949-05</td>\n",
              "      <td>121.0</td>\n",
              "    </tr>\n",
              "  </tbody>\n",
              "</table>\n",
              "</div>"
            ],
            "text/plain": [
              "     Month  International airline passengers: monthly totals in thousands. Jan 49 ? Dec 60\n",
              "0  1949-01                                              112.0                             \n",
              "1  1949-02                                              118.0                             \n",
              "2  1949-03                                              132.0                             \n",
              "3  1949-04                                              129.0                             \n",
              "4  1949-05                                              121.0                             "
            ]
          },
          "metadata": {
            "tags": []
          },
          "execution_count": 48
        }
      ]
    },
    {
      "cell_type": "code",
      "metadata": {
        "id": "oY8XuMXEbmgB",
        "colab_type": "code",
        "outputId": "ed1447ca-43bb-4ddc-d37a-de2dd47c0215",
        "colab": {
          "base_uri": "https://localhost:8080/",
          "height": 238
        }
      },
      "source": [
        "# データの後ろの5行を表示\n",
        "df.tail()"
      ],
      "execution_count": 0,
      "outputs": [
        {
          "output_type": "execute_result",
          "data": {
            "text/html": [
              "<div>\n",
              "<style scoped>\n",
              "    .dataframe tbody tr th:only-of-type {\n",
              "        vertical-align: middle;\n",
              "    }\n",
              "\n",
              "    .dataframe tbody tr th {\n",
              "        vertical-align: top;\n",
              "    }\n",
              "\n",
              "    .dataframe thead th {\n",
              "        text-align: right;\n",
              "    }\n",
              "</style>\n",
              "<table border=\"1\" class=\"dataframe\">\n",
              "  <thead>\n",
              "    <tr style=\"text-align: right;\">\n",
              "      <th></th>\n",
              "      <th>Month</th>\n",
              "      <th>International airline passengers: monthly totals in thousands. Jan 49 ? Dec 60</th>\n",
              "    </tr>\n",
              "  </thead>\n",
              "  <tbody>\n",
              "    <tr>\n",
              "      <th>140</th>\n",
              "      <td>1960-09</td>\n",
              "      <td>508.0</td>\n",
              "    </tr>\n",
              "    <tr>\n",
              "      <th>141</th>\n",
              "      <td>1960-10</td>\n",
              "      <td>461.0</td>\n",
              "    </tr>\n",
              "    <tr>\n",
              "      <th>142</th>\n",
              "      <td>1960-11</td>\n",
              "      <td>390.0</td>\n",
              "    </tr>\n",
              "    <tr>\n",
              "      <th>143</th>\n",
              "      <td>1960-12</td>\n",
              "      <td>432.0</td>\n",
              "    </tr>\n",
              "    <tr>\n",
              "      <th>144</th>\n",
              "      <td>International airline passengers: monthly tota...</td>\n",
              "      <td>NaN</td>\n",
              "    </tr>\n",
              "  </tbody>\n",
              "</table>\n",
              "</div>"
            ],
            "text/plain": [
              "                                                 Month  International airline passengers: monthly totals in thousands. Jan 49 ? Dec 60\n",
              "140                                            1960-09                                              508.0                             \n",
              "141                                            1960-10                                              461.0                             \n",
              "142                                            1960-11                                              390.0                             \n",
              "143                                            1960-12                                              432.0                             \n",
              "144  International airline passengers: monthly tota...                                                NaN                             "
            ]
          },
          "metadata": {
            "tags": []
          },
          "execution_count": 49
        }
      ]
    },
    {
      "cell_type": "code",
      "metadata": {
        "id": "1DPpr0DJbrMp",
        "colab_type": "code",
        "outputId": "87e414f2-e47e-4a43-a7db-74b279389215",
        "colab": {
          "base_uri": "https://localhost:8080/",
          "height": 88
        }
      },
      "source": [
        "# 最後のサンプルを観察\n",
        "print(df.iloc[144])"
      ],
      "execution_count": 0,
      "outputs": [
        {
          "output_type": "stream",
          "text": [
            "Month                                                                             International airline passengers: monthly tota...\n",
            "International airline passengers: monthly totals in thousands. Jan 49 ? Dec 60                                                  NaN\n",
            "Name: 144, dtype: object\n"
          ],
          "name": "stdout"
        }
      ]
    },
    {
      "cell_type": "code",
      "metadata": {
        "id": "MtFTC4lWbwHg",
        "colab_type": "code",
        "outputId": "c499c011-ecca-466f-dbae-7e97a1f688b2",
        "colab": {
          "base_uri": "https://localhost:8080/",
          "height": 204
        }
      },
      "source": [
        "# 乗客数のカラム名を変更\n",
        "df.columns = ['Month', 'Passengers']\n",
        "\n",
        "# 最後の行以外を選択\n",
        "df = df.iloc[:-1]\n",
        "\n",
        "# 整形したデータを確認\n",
        "df.tail()"
      ],
      "execution_count": 0,
      "outputs": [
        {
          "output_type": "execute_result",
          "data": {
            "text/html": [
              "<div>\n",
              "<style scoped>\n",
              "    .dataframe tbody tr th:only-of-type {\n",
              "        vertical-align: middle;\n",
              "    }\n",
              "\n",
              "    .dataframe tbody tr th {\n",
              "        vertical-align: top;\n",
              "    }\n",
              "\n",
              "    .dataframe thead th {\n",
              "        text-align: right;\n",
              "    }\n",
              "</style>\n",
              "<table border=\"1\" class=\"dataframe\">\n",
              "  <thead>\n",
              "    <tr style=\"text-align: right;\">\n",
              "      <th></th>\n",
              "      <th>Month</th>\n",
              "      <th>Passengers</th>\n",
              "    </tr>\n",
              "  </thead>\n",
              "  <tbody>\n",
              "    <tr>\n",
              "      <th>139</th>\n",
              "      <td>1960-08</td>\n",
              "      <td>606.0</td>\n",
              "    </tr>\n",
              "    <tr>\n",
              "      <th>140</th>\n",
              "      <td>1960-09</td>\n",
              "      <td>508.0</td>\n",
              "    </tr>\n",
              "    <tr>\n",
              "      <th>141</th>\n",
              "      <td>1960-10</td>\n",
              "      <td>461.0</td>\n",
              "    </tr>\n",
              "    <tr>\n",
              "      <th>142</th>\n",
              "      <td>1960-11</td>\n",
              "      <td>390.0</td>\n",
              "    </tr>\n",
              "    <tr>\n",
              "      <th>143</th>\n",
              "      <td>1960-12</td>\n",
              "      <td>432.0</td>\n",
              "    </tr>\n",
              "  </tbody>\n",
              "</table>\n",
              "</div>"
            ],
            "text/plain": [
              "       Month  Passengers\n",
              "139  1960-08       606.0\n",
              "140  1960-09       508.0\n",
              "141  1960-10       461.0\n",
              "142  1960-11       390.0\n",
              "143  1960-12       432.0"
            ]
          },
          "metadata": {
            "tags": []
          },
          "execution_count": 51
        }
      ]
    },
    {
      "cell_type": "code",
      "metadata": {
        "id": "yfRAlF1Ob5bc",
        "colab_type": "code",
        "outputId": "7223ce7b-30f0-446f-ee51-9b2076b974f8",
        "colab": {
          "base_uri": "https://localhost:8080/",
          "height": 269
        }
      },
      "source": [
        "# データの可視化\n",
        "plt.plot(df['Passengers'])\n",
        "plt.xticks(np.arange(0, 145, 12)) # 12ヶ月ごとにグリッド線を表示\n",
        "plt.grid()\n",
        "plt.show()"
      ],
      "execution_count": 0,
      "outputs": [
        {
          "output_type": "display_data",
          "data": {
            "image/png": "[encoded data removed]",
            "text/plain": [
              "<Figure size 432x288 with 1 Axes>"
            ]
          },
          "metadata": {
            "tags": []
          }
        }
      ]
    },
    {
      "cell_type": "code",
      "metadata": {
        "id": "0FTCwXBGcZtY",
        "colab_type": "code",
        "outputId": "33fafe5a-8317-4a94-f107-d59f0a9b73ca",
        "colab": {
          "base_uri": "https://localhost:8080/",
          "height": 297
        }
      },
      "source": [
        "# 3つの成分に分解\n",
        "from statsmodels.tsa.seasonal import seasonal_decompose\n",
        "sd = seasonal_decompose(df['Passengers'].values, freq=12) # fleqで何ヶ月周期かを指定\n",
        "sd.plot()\n",
        "plt.show()"
      ],
      "execution_count": 0,
      "outputs": [
        {
          "output_type": "display_data",
          "data": {
            "image/png": "[encoded data removed]",
            "text/plain": [
              "<Figure size 432x288 with 4 Axes>"
            ]
          },
          "metadata": {
            "tags": []
          }
        }
      ]
    },
    {
      "cell_type": "code",
      "metadata": {
        "id": "mlZsjuBictGo",
        "colab_type": "code",
        "colab": {}
      },
      "source": [
        "# データKerasが扱える型に変換\n",
        "data = df['Passengers'].values.astype('f')\n",
        "\n",
        "# 大きさを0から1に正規化（この処理をしないとうまく学習できない）\n",
        "scale = data.max()\n",
        "data /= scale"
      ],
      "execution_count": 0,
      "outputs": []
    },
    {
      "cell_type": "code",
      "metadata": {
        "id": "F2pWxMHvdNcD",
        "colab_type": "code",
        "colab": {}
      },
      "source": [
        "# 最初と最後のサンプルをひとつずつ削る\n",
        "X = data[:-1]\n",
        "y = data[1:]"
      ],
      "execution_count": 0,
      "outputs": []
    },
    {
      "cell_type": "code",
      "metadata": {
        "id": "Ek8pXoujdSY6",
        "colab_type": "code",
        "outputId": "28e0d77f-7fa1-4580-d3d8-dc2dc24e2829",
        "colab": {
          "base_uri": "https://localhost:8080/",
          "height": 51
        }
      },
      "source": [
        "# 系列の要素数を確認\n",
        "# 144からひとつずつ減って､143になっている\n",
        "print('X:',len(X))\n",
        "print('y:', len(y))"
      ],
      "execution_count": 0,
      "outputs": [
        {
          "output_type": "stream",
          "text": [
            "X: 143\n",
            "y: 143\n"
          ],
          "name": "stdout"
        }
      ]
    },
    {
      "cell_type": "code",
      "metadata": {
        "id": "CPGZaxRif9Aw",
        "colab_type": "code",
        "outputId": "402464a5-c530-414f-cb03-92b7a8465910",
        "colab": {
          "base_uri": "https://localhost:8080/",
          "height": 34
        }
      },
      "source": [
        "# X, yのサイズ確認\n",
        "print('X:', np.shape(X), ' y:', np.shape(y))"
      ],
      "execution_count": 0,
      "outputs": [
        {
          "output_type": "stream",
          "text": [
            "X: (143,)  y: (143,)\n"
          ],
          "name": "stdout"
        }
      ]
    },
    {
      "cell_type": "code",
      "metadata": {
        "id": "ADS8Z1ohf-v0",
        "colab_type": "code",
        "colab": {}
      },
      "source": [
        "# Kerasの時系列解析用にshapeを変換\n",
        "X = X.reshape(len(X), 1, 1)\n",
        "y = y.reshape(len(y), 1)"
      ],
      "execution_count": 0,
      "outputs": []
    },
    {
      "cell_type": "code",
      "metadata": {
        "id": "3TqIE_P2gCut",
        "colab_type": "code",
        "outputId": "246058e9-6d4a-4137-fd42-8653cf936931",
        "colab": {
          "base_uri": "https://localhost:8080/",
          "height": 34
        }
      },
      "source": [
        "# X, yのサイズ確認\n",
        "print('X:', np.shape(X), ' y:', np.shape(y))"
      ],
      "execution_count": 0,
      "outputs": [
        {
          "output_type": "stream",
          "text": [
            "X: (143, 1, 1)  y: (143, 1)\n"
          ],
          "name": "stdout"
        }
      ]
    },
    {
      "cell_type": "code",
      "metadata": {
        "id": "Mf33E5MUeYM6",
        "colab_type": "code",
        "outputId": "e0ed19f9-fe3b-419b-de10-c7b2d23d22d0",
        "colab": {
          "base_uri": "https://localhost:8080/",
          "height": 34
        }
      },
      "source": [
        "# 訓練データのサンプル数を指定\n",
        "train_size = int(len(data) * 0.7)\n",
        "print(train_size)"
      ],
      "execution_count": 0,
      "outputs": [
        {
          "output_type": "stream",
          "text": [
            "100\n"
          ],
          "name": "stdout"
        }
      ]
    },
    {
      "cell_type": "code",
      "metadata": {
        "id": "QbJ2m509eaeW",
        "colab_type": "code",
        "colab": {}
      },
      "source": [
        "# データの分割\n",
        "X_train = X[:train_size]\n",
        "X_test = X[train_size:]\n",
        "y_train = y[:train_size]\n",
        "y_test = y[train_size:]"
      ],
      "execution_count": 0,
      "outputs": []
    },
    {
      "cell_type": "code",
      "metadata": {
        "id": "eC4FWsmpeejh",
        "colab_type": "code",
        "outputId": "520e64d8-0fa2-40e8-e3a7-f4ec4e236ad0",
        "colab": {
          "base_uri": "https://localhost:8080/",
          "height": 85
        }
      },
      "source": [
        "# shapeを確認\n",
        "print('X_train:', X_train.shape)\n",
        "print('X_test :', X_test.shape)\n",
        "print('y_train:', y_train.shape)\n",
        "print('y_test :', y_test.shape)"
      ],
      "execution_count": 0,
      "outputs": [
        {
          "output_type": "stream",
          "text": [
            "X_train: (100, 1, 1)\n",
            "X_test : (43, 1, 1)\n",
            "y_train: (100, 1)\n",
            "y_test : (43, 1)\n"
          ],
          "name": "stdout"
        }
      ]
    },
    {
      "cell_type": "code",
      "metadata": {
        "id": "xfQ5upzQep1V",
        "colab_type": "code",
        "colab": {}
      },
      "source": [
        "# モジュールのインポート\n",
        "\n",
        "import keras\n",
        "from keras.models import Sequential\n",
        "from keras.layers import Dense, Activation, LSTM\n",
        "from keras.optimizers import Adam\n",
        "import tensorflow as tf"
      ],
      "execution_count": 0,
      "outputs": []
    },
    {
      "cell_type": "code",
      "metadata": {
        "id": "NFE_RRCJezbY",
        "colab_type": "code",
        "colab": {}
      },
      "source": [
        "# モデルの定義\n",
        "model = Sequential()\n",
        "model.add(LSTM(30, batch_input_shape=(None, 1, 1))) # 中間層が30のLSTM\n",
        "model.add(Dense(1)) # 回帰なので最後の出力値は１つ\n",
        "\n",
        "#コンパイル\n",
        "model.compile(loss='mean_squared_error', optimizer=Adam()) # 回帰なので損失関数に誤差二乗和を用いる\n",
        "\n",
        "# ミニバッチに含まれるサンプル数を指定\n",
        "batch_size = 20\n",
        "\n",
        "# epoch数を指定\n",
        "n_epoch = 200"
      ],
      "execution_count": 0,
      "outputs": []
    },
    {
      "cell_type": "code",
      "metadata": {
        "id": "UsC9R2C_e4L9",
        "colab_type": "code",
        "outputId": "404c9510-b131-49ad-9fd6-1acadb6bb05e",
        "colab": {
          "base_uri": "https://localhost:8080/",
          "height": 204
        }
      },
      "source": [
        "# モデルの確認\n",
        "model.summary()"
      ],
      "execution_count": 0,
      "outputs": [
        {
          "output_type": "stream",
          "text": [
            "_________________________________________________________________\n",
            "Layer (type)                 Output Shape              Param #   \n",
            "=================================================================\n",
            "lstm_3 (LSTM)                (None, 30)                3840      \n",
            "_________________________________________________________________\n",
            "dense_3 (Dense)              (None, 1)                 31        \n",
            "=================================================================\n",
            "Total params: 3,871\n",
            "Trainable params: 3,871\n",
            "Non-trainable params: 0\n",
            "_________________________________________________________________\n"
          ],
          "name": "stdout"
        }
      ]
    },
    {
      "cell_type": "code",
      "metadata": {
        "id": "ZqtYxyLsfNBB",
        "colab_type": "code",
        "outputId": "9f49d1ce-846c-4152-d894-f7e470ada400",
        "colab": {
          "base_uri": "https://localhost:8080/",
          "height": 156
        }
      },
      "source": [
        "# 学習開始\n",
        "hist = model.fit(X_train,\n",
        "                 y_train,\n",
        "                 epochs=n_epoch,\n",
        "                 validation_data=(X_test, y_test),\n",
        "                 verbose=0,\n",
        "                 batch_size=batch_size)"
      ],
      "execution_count": 0,
      "outputs": [
        {
          "output_type": "stream",
          "text": [
            "W0627 15:14:23.064655 139776757086080 deprecation.py:323] From /usr/local/lib/python3.6/dist-packages/tensorflow/python/ops/math_grad.py:1250: add_dispatch_support.<locals>.wrapper (from tensorflow.python.ops.array_ops) is deprecated and will be removed in a future version.\n",
            "Instructions for updating:\n",
            "Use tf.where in 2.0, which has the same broadcast rule as np.where\n",
            "W0627 15:14:23.559630 139776757086080 deprecation_wrapper.py:119] From /usr/local/lib/python3.6/dist-packages/keras/backend/tensorflow_backend.py:986: The name tf.assign_add is deprecated. Please use tf.compat.v1.assign_add instead.\n",
            "\n",
            "W0627 15:14:23.644047 139776757086080 deprecation_wrapper.py:119] From /usr/local/lib/python3.6/dist-packages/keras/backend/tensorflow_backend.py:973: The name tf.assign is deprecated. Please use tf.compat.v1.assign instead.\n",
            "\n"
          ],
          "name": "stderr"
        }
      ]
    },
    {
      "cell_type": "code",
      "metadata": {
        "id": "fV04ZL5qfps_",
        "colab_type": "code",
        "outputId": "3f17e6ae-a7b7-42c5-80c7-c6f5c0f86fc0",
        "colab": {
          "base_uri": "https://localhost:8080/",
          "height": 295
        }
      },
      "source": [
        "def plot_history_loss(hist):\n",
        "    # 損失値(Loss)の遷移のプロット\n",
        "    plt.plot(hist.history['loss'],label=\"loss for training\")\n",
        "    plt.plot(hist.history['val_loss'],label=\"loss for validation\")\n",
        "    plt.title('model loss')\n",
        "    plt.xlabel('epoch')\n",
        "    plt.ylabel('loss')\n",
        "    plt.legend(loc='best')\n",
        "    plt.show()\n",
        "\n",
        "\n",
        "plot_history_loss(hist)"
      ],
      "execution_count": 0,
      "outputs": [
        {
          "output_type": "display_data",
          "data": {
            "image/png": "[encoded data removed]",
            "text/plain": [
              "<Figure size 432x288 with 1 Axes>"
            ]
          },
          "metadata": {
            "tags": []
          }
        }
      ]
    },
    {
      "cell_type": "code",
      "metadata": {
        "id": "tfC_0sivftYM",
        "colab_type": "code",
        "outputId": "3e46bef7-fe0d-4ff0-cc27-d0b3fd89c814",
        "colab": {
          "base_uri": "https://localhost:8080/",
          "height": 269
        }
      },
      "source": [
        "y_pred = model.predict(X)\n",
        "\n",
        "# プロット\n",
        "plt.plot(data, color='blue')  # 実測値\n",
        "plt.plot(y_pred, color='red')   # 予測値\n",
        "plt.show()"
      ],
      "execution_count": 0,
      "outputs": [
        {
          "output_type": "display_data",
          "data": {
            "image/png": "[encoded data removed]",
            "text/plain": [
              "<Figure size 432x288 with 1 Axes>"
            ]
          },
          "metadata": {
            "tags": []
          }
        }
      ]
    },
    {
      "cell_type": "code",
      "metadata": {
        "id": "PIrcotilf0yk",
        "colab_type": "code",
        "outputId": "f35245b1-9984-4329-ed56-a706117fd506",
        "colab": {
          "base_uri": "https://localhost:8080/",
          "height": 34
        }
      },
      "source": [
        "# 出力の正規化を戻す関数\n",
        "def pred_n_passengers(y_pred, scale, year, month):\n",
        "    index = ((year - 1949) * 12) + (month - 1)\n",
        "    return y_pred[index] * scale\n",
        "# 試しに､1950年4月の乗客数を予測\n",
        "print(pred_n_passengers(y_pred, scale, 1950, 4))"
      ],
      "execution_count": 0,
      "outputs": [
        {
          "output_type": "stream",
          "text": [
            "[143.8841]\n"
          ],
          "name": "stdout"
        }
      ]
    }
  ]
}