{
  "nbformat": 4,
  "nbformat_minor": 0,
  "metadata": {
    "colab": {
      "name": "natural_language_processing.ipynb",
      "version": "0.3.2",
      "provenance": [],
      "collapsed_sections": [],
      "include_colab_link": true
    },
    "kernelspec": {
      "name": "python3",
      "display_name": "Python 3"
    }
  },
  "cells": [
    {
      "cell_type": "markdown",
      "metadata": {
        "id": "view-in-github",
        "colab_type": "text"
      },
      "source": [
        "<a href=\"https://colab.research.google.com/github/keng-oh/colab/blob/master/natural_language_processing.ipynb\" target=\"_parent\"><img src=\"https://colab.research.google.com/assets/colab-badge.svg\" alt=\"Open In Colab\"/></a>"
      ]
    },
    {
      "cell_type": "markdown",
      "metadata": {
        "id": "1z8gplC2cOhP",
        "colab_type": "text"
      },
      "source": [
        "# 自然言語処理\n"
      ]
    },
    {
      "cell_type": "code",
      "metadata": {
        "id": "261IKKH6cJS0",
        "colab_type": "code",
        "outputId": "433d938b-a8ce-4a9c-ef18-48d3c07019ff",
        "colab": {
          "base_uri": "https://localhost:8080/",
          "height": 122
        }
      },
      "source": [
        "# Google Driveをマウント\n",
        "from google.colab import drive\n",
        "drive.mount('/content/drive')"
      ],
      "execution_count": 0,
      "outputs": [
        {
          "output_type": "stream",
          "text": [
            "Go to this URL in a browser: https://accounts.google.com/o/oauth2/auth?client_id=947318989803-6bn6qk8qdgf4n4g3pfee6491hc0brc4i.apps.googleusercontent.com&redirect_uri=urn%3Aietf%3Awg%3Aoauth%3A2.0%3Aoob&scope=email%20https%3A%2F%2Fwww.googleapis.com%2Fauth%2Fdocs.test%20https%3A%2F%2Fwww.googleapis.com%2Fauth%2Fdrive%20https%3A%2F%2Fwww.googleapis.com%2Fauth%2Fdrive.photos.readonly%20https%3A%2F%2Fwww.googleapis.com%2Fauth%2Fpeopleapi.readonly&response_type=code\n",
            "\n",
            "Enter your authorization code:\n",
            "··········\n",
            "Mounted at /content/drive\n"
          ],
          "name": "stdout"
        }
      ]
    },
    {
      "cell_type": "code",
      "metadata": {
        "id": "bEP50_CUfVq_",
        "colab_type": "code",
        "outputId": "a2535055-c4bd-4213-e668-9faf95783a94",
        "colab": {
          "base_uri": "https://localhost:8080/",
          "height": 34
        }
      },
      "source": [
        "ls drive/'My Drive'/'Colab Notebooks'/data-set/movie_data.csv"
      ],
      "execution_count": 0,
      "outputs": [
        {
          "output_type": "stream",
          "text": [
            "'drive/My Drive/Colab Notebooks/data-set/movie_data.csv'\n"
          ],
          "name": "stdout"
        }
      ]
    },
    {
      "cell_type": "code",
      "metadata": {
        "id": "ff8FI891fuQz",
        "colab_type": "code",
        "outputId": "00b0ac5f-afc2-434b-87a8-a0f58f3bdf40",
        "colab": {
          "base_uri": "https://localhost:8080/",
          "height": 204
        }
      },
      "source": [
        "# ライブラリのインポート\n",
        "import numpy as np\n",
        "import pandas as pd\n",
        "import matplotlib.pyplot as plt\n",
        "%matplotlib inline\n",
        "\n",
        "# 不要な警告を非表示にする\n",
        "import warnings\n",
        "warnings.filterwarnings('ignore')\n",
        "\n",
        "# csvファイルの読み込み\n",
        "df = pd.read_csv(\"drive/My Drive/Colab Notebooks/data-set/movie_data.csv\", header=0)\n",
        "df.head()"
      ],
      "execution_count": 0,
      "outputs": [
        {
          "output_type": "execute_result",
          "data": {
            "text/html": [
              "<div>\n",
              "<style scoped>\n",
              "    .dataframe tbody tr th:only-of-type {\n",
              "        vertical-align: middle;\n",
              "    }\n",
              "\n",
              "    .dataframe tbody tr th {\n",
              "        vertical-align: top;\n",
              "    }\n",
              "\n",
              "    .dataframe thead th {\n",
              "        text-align: right;\n",
              "    }\n",
              "</style>\n",
              "<table border=\"1\" class=\"dataframe\">\n",
              "  <thead>\n",
              "    <tr style=\"text-align: right;\">\n",
              "      <th></th>\n",
              "      <th>review</th>\n",
              "      <th>sentiment</th>\n",
              "    </tr>\n",
              "  </thead>\n",
              "  <tbody>\n",
              "    <tr>\n",
              "      <th>0</th>\n",
              "      <td>I finally managed to sit through a whole episo...</td>\n",
              "      <td>0</td>\n",
              "    </tr>\n",
              "    <tr>\n",
              "      <th>1</th>\n",
              "      <td>Just what the world needed-another superficial...</td>\n",
              "      <td>0</td>\n",
              "    </tr>\n",
              "    <tr>\n",
              "      <th>2</th>\n",
              "      <td>I have to say despite it's reviews Angels in t...</td>\n",
              "      <td>1</td>\n",
              "    </tr>\n",
              "    <tr>\n",
              "      <th>3</th>\n",
              "      <td>Only the chosen ones will appreciate the quali...</td>\n",
              "      <td>1</td>\n",
              "    </tr>\n",
              "    <tr>\n",
              "      <th>4</th>\n",
              "      <td>Anne (Natalie Portman) tells us about how much...</td>\n",
              "      <td>1</td>\n",
              "    </tr>\n",
              "  </tbody>\n",
              "</table>\n",
              "</div>"
            ],
            "text/plain": [
              "                                              review  sentiment\n",
              "0  I finally managed to sit through a whole episo...          0\n",
              "1  Just what the world needed-another superficial...          0\n",
              "2  I have to say despite it's reviews Angels in t...          1\n",
              "3  Only the chosen ones will appreciate the quali...          1\n",
              "4  Anne (Natalie Portman) tells us about how much...          1"
            ]
          },
          "metadata": {
            "tags": []
          },
          "execution_count": 12
        }
      ]
    },
    {
      "cell_type": "code",
      "metadata": {
        "id": "2YgAtrRUgzVP",
        "colab_type": "code",
        "outputId": "1aae15d0-7712-427f-bb72-1d9ab92c2639",
        "colab": {
          "base_uri": "https://localhost:8080/",
          "height": 34
        }
      },
      "source": [
        "# 2500件のレビューのみを抽出\n",
        "df = df[0: 2500]\n",
        "\n",
        "# サンプル数を確認\n",
        "df.shape"
      ],
      "execution_count": 0,
      "outputs": [
        {
          "output_type": "execute_result",
          "data": {
            "text/plain": [
              "(2500, 2)"
            ]
          },
          "metadata": {
            "tags": []
          },
          "execution_count": 14
        }
      ]
    },
    {
      "cell_type": "code",
      "metadata": {
        "id": "te2nMuxqg5hw",
        "colab_type": "code",
        "outputId": "c7a2c456-3a4c-4eb5-83ed-d6f4d168f74a",
        "colab": {
          "base_uri": "https://localhost:8080/",
          "height": 68
        }
      },
      "source": [
        "# 各変数の型を確認\n",
        "df.dtypes"
      ],
      "execution_count": 0,
      "outputs": [
        {
          "output_type": "execute_result",
          "data": {
            "text/plain": [
              "review       object\n",
              "sentiment     int64\n",
              "dtype: object"
            ]
          },
          "metadata": {
            "tags": []
          },
          "execution_count": 15
        }
      ]
    },
    {
      "cell_type": "code",
      "metadata": {
        "id": "jIi3qY9qhBtt",
        "colab_type": "code",
        "outputId": "2bcdaf40-fac6-4710-bcc7-c6ad86a350b7",
        "colab": {
          "base_uri": "https://localhost:8080/",
          "height": 105
        }
      },
      "source": [
        "# 0番目のサンプルを確認\n",
        "print('sentiment: \\n' + str(df['sentiment'][0])) # 0番目のサンプルのクラスラベルを出力\n",
        "print('review: \\n' + df['review'][0]) # 0番目のサンプルのレビューを出力"
      ],
      "execution_count": 0,
      "outputs": [
        {
          "output_type": "stream",
          "text": [
            "sentiment: \n",
            "0\n",
            "review: \n",
            "I finally managed to sit through a whole episode of this show. I was very, very tired. Clearly. Previously I would always have to turn it off because I thought it was that bad. Watching a full episode convinces me that it really is that bad. I couldn't even tell you what happened but I distinctively remember not laughing. For people who think this is the new All in the Family or Married with Children...have you ever actually WATCHED those shows? They are well written and well acted and most importantly, funny! This show is NOT funny. You might think so if this is the first sitcom you have ever watched. I cannot see who else would. I echo all previous sentiments about Arrested Development, etc... It's probably my own fault for getting frustrated with television and not watching it, thereby allowing the stupid people to dictate what actually stays on the air.\n"
          ],
          "name": "stdout"
        }
      ]
    },
    {
      "cell_type": "code",
      "metadata": {
        "id": "C8AqLqV9hb0e",
        "colab_type": "code",
        "outputId": "4669dd8e-198a-4b81-fbc5-8ae9b97861c9",
        "colab": {
          "base_uri": "https://localhost:8080/",
          "height": 54
        }
      },
      "source": [
        "# クレンジング元のデータを表示\n",
        "# ピリオド区切りで､ひとつの文章を取り出すことができる\n",
        "df.iloc[12,0].split(\".\")[0]"
      ],
      "execution_count": 0,
      "outputs": [
        {
          "output_type": "execute_result",
          "data": {
            "text/plain": [
              "\"TACHIGUI: THE AMAZING LIVES OF THE FAST-FOOD GRIFTERS Japanese title: Tachiguishi Retsuden<br /><br />Director: Mamoru Oshii Featuring: Toshio Suzuki, Mako Hyodo, Kenji Kawai, Shinji Higuchi, Katsuya Terada Narrated by Koichi Yamadera ----------------------------------------<br /><br />Way back in 1995, Mamoru Oshii unleashed his dazzling animation feature Ghost In The Shell, which helped consolidate anime's international acceptance - and also burrowed itself into Andy and Larry Wachowski's overall concept for The Matrix\""
            ]
          },
          "metadata": {
            "tags": []
          },
          "execution_count": 17
        }
      ]
    },
    {
      "cell_type": "code",
      "metadata": {
        "id": "XeVdhC8Dhu0q",
        "colab_type": "code",
        "colab": {}
      },
      "source": [
        "#正規表現を扱うモジュールのインポート\n",
        "import re\n",
        "\n",
        "def remove_html_tag(text):\n",
        "    \"\"\"\n",
        "    HTMLタグを削除する関数\n",
        "    \"\"\"\n",
        "    # <>の間にある>以外の文字を0文字以上であるだけ一致\n",
        "    pattern = re.compile(r\"<[^>]*>\")\n",
        "    #一致したものを空白と置換\n",
        "    # 空白を入れないと､単語の切れ目がわからなくなってしまう\n",
        "    removed = re.sub(pattern, \" \", text)\n",
        "    return removed"
      ],
      "execution_count": 0,
      "outputs": []
    },
    {
      "cell_type": "code",
      "metadata": {
        "id": "amN7aDnziOcM",
        "colab_type": "code",
        "outputId": "a1fd2fb0-8a12-4423-819f-99be4f597003",
        "colab": {
          "base_uri": "https://localhost:8080/",
          "height": 54
        }
      },
      "source": [
        "# remove_html_tag関数を使用して、htmlタグを削除\n",
        "df[\"review\"] = df[\"review\"].apply(remove_html_tag)\n",
        "\n",
        "# HTMLタグが削除されていることを確認\n",
        "df.iloc[12,0].split(\".\")[0]"
      ],
      "execution_count": 0,
      "outputs": [
        {
          "output_type": "execute_result",
          "data": {
            "text/plain": [
              "\"TACHIGUI: THE AMAZING LIVES OF THE FAST-FOOD GRIFTERS Japanese title: Tachiguishi Retsuden  Director: Mamoru Oshii Featuring: Toshio Suzuki, Mako Hyodo, Kenji Kawai, Shinji Higuchi, Katsuya Terada Narrated by Koichi Yamadera ----------------------------------------  Way back in 1995, Mamoru Oshii unleashed his dazzling animation feature Ghost In The Shell, which helped consolidate anime's international acceptance - and also burrowed itself into Andy and Larry Wachowski's overall concept for The Matrix\""
            ]
          },
          "metadata": {
            "tags": []
          },
          "execution_count": 20
        }
      ]
    },
    {
      "cell_type": "code",
      "metadata": {
        "id": "AAoX3MgZidI2",
        "colab_type": "code",
        "colab": {}
      },
      "source": [
        "def remove_punct(text):\n",
        "    \"\"\"\n",
        "    顔文字（emoticons）のみを残し､句読文字（punctation）の削除を行う｡\n",
        "    \"\"\"\n",
        "    # 目の部分: : or ; or =\n",
        "    # 鼻の部分: -\n",
        "    # 口の部分: ) or ( or D or P\n",
        "    pattern = re.compile(r\"(?::|;|=)(?:-)?(?:\\)|\\(|D|P)\")\n",
        "    # パターンに当てはまる文字列をすべて抽出して､リストに格納\n",
        "    # いったんリストに保存しておいて､あとですべての記号を削除したtextに付け足す\n",
        "    emoticons = pattern.findall(text)\n",
        "    # 文頭などにある大文字を小文字に変換\n",
        "    lower = text.lower()\n",
        "    # [\\W]+で記号の並びを捕捉して空白ひとつに置き換える\n",
        "    removed = re.sub(r\"[\\W]+\", \" \", lower)\n",
        "    # 顔文字を半角スペース区切りでひとつの文字列に結合\n",
        "    emoticons = \" \".join(emoticons)\n",
        "    # 顔文字に含まれる鼻の部分を削除する\n",
        "    # 鼻があってもなくても､目と口が同じなら同じ顔文字として認識されるようになる\n",
        "    emoticons = emoticons.replace(\"-\",\"\")\n",
        "    # lowerとemoticonsを結合\n",
        "    # 単語を区切るため､間には半角スペースを入れておく\n",
        "    connected = removed + ' ' + emoticons\n",
        "    return connected"
      ],
      "execution_count": 0,
      "outputs": []
    },
    {
      "cell_type": "code",
      "metadata": {
        "id": "QP0qV0QaikOO",
        "colab_type": "code",
        "outputId": "8d6d5398-f7fe-4b9f-c99d-b5e87c26e420",
        "colab": {
          "base_uri": "https://localhost:8080/",
          "height": 34
        }
      },
      "source": [
        "# 句読点のあるレビューを確認\n",
        "df.iloc[4,0].split(\".\")[0]"
      ],
      "execution_count": 0,
      "outputs": [
        {
          "output_type": "execute_result",
          "data": {
            "text/plain": [
              "'Anne (Natalie Portman) tells us about how much she hates her mother, Adele (Susane Sarandon)'"
            ]
          },
          "metadata": {
            "tags": []
          },
          "execution_count": 22
        }
      ]
    },
    {
      "cell_type": "code",
      "metadata": {
        "id": "ZZMLrYwFioWL",
        "colab_type": "code",
        "outputId": "17012cea-fc6f-4570-aaf7-9b152e416479",
        "colab": {
          "base_uri": "https://localhost:8080/",
          "height": 34
        }
      },
      "source": [
        "# 顔文字のあるレビューを確認（処理前）\n",
        "df.iloc[935,0].split(\".\")[0]"
      ],
      "execution_count": 0,
      "outputs": [
        {
          "output_type": "execute_result",
          "data": {
            "text/plain": [
              "'Let me be the first non Australian to comment on this :) I got the movie for Hugo Weaving and I watched it to the end'"
            ]
          },
          "metadata": {
            "tags": []
          },
          "execution_count": 23
        }
      ]
    },
    {
      "cell_type": "code",
      "metadata": {
        "id": "pncrAh8Jitju",
        "colab_type": "code",
        "outputId": "d0bc3eb8-1bd2-4722-f3bd-a1ac0a456019",
        "colab": {
          "base_uri": "https://localhost:8080/",
          "height": 54
        }
      },
      "source": [
        "# reviewのデータを､句読文字を削除したものに置き換える\n",
        "df[\"review\"] = df[\"review\"].apply(remove_punct)\n",
        "\n",
        "# 句読点のあるレビューを確認（処理後）\n",
        "# 句読点が削除されたので､splitが反映されなくなっている\n",
        "df.iloc[4,0].split(\".\")[0]"
      ],
      "execution_count": 0,
      "outputs": [
        {
          "output_type": "execute_result",
          "data": {
            "text/plain": [
              "'anne natalie portman tells us about how much she hates her mother adele susane sarandon that s how the movie begins adele decided that her and her daughter were moving to california without asking anyone and leaving her husband without any reason the story is about the relationship between the mother and the daughter it s really deep and touching thanks to the great work of the actresses natalie was nominated to a golden globe for that role she is one of the most talented actresses i ever saw and so is sarandon they really look like mother daughter the soundtrack is also great the movie is incredible 10 out of 10  '"
            ]
          },
          "metadata": {
            "tags": []
          },
          "execution_count": 24
        }
      ]
    },
    {
      "cell_type": "code",
      "metadata": {
        "id": "-kvfZIJYi45A",
        "colab_type": "code",
        "outputId": "e1aa9314-7ea7-4969-fd9d-37a99f6ab0df",
        "colab": {
          "base_uri": "https://localhost:8080/",
          "height": 54
        }
      },
      "source": [
        "# 顔文字のあるレビューを確認（処理後）\n",
        "# 文末の顔文字が残っている\n",
        "df.iloc[935,0].split(\".\")[0]"
      ],
      "execution_count": 0,
      "outputs": [
        {
          "output_type": "execute_result",
          "data": {
            "text/plain": [
              "'let me be the first non australian to comment on this i got the movie for hugo weaving and i watched it to the end it s one of those drama of life films as my mother used to call a movie that depicts a real life story with no extraordinary events and that is mostly descriptive i liked the light and the girls the rest was without too much fault but without too much merit either i yearned for something like the interview or at least some matrix villain element here and there but nothing out of the ordinary the story does teach one about facing one s own destiny and break free from the environment others build for you but this happens when the life giving peach factory in the area is about to close so not much of an effort to change things is required the smart american beauty sound alike song in the background could have been part of a larger soundtrack but just that one playing over and over again became annoying after 100 minutes of film in the end i guess it did his job of presenting a part of australian life but to me it didn t seem specifically australian it could have been placed anywhere and it didn t seem attractive as a story i guess one must be in a certain mood to like the movie  :)'"
            ]
          },
          "metadata": {
            "tags": []
          },
          "execution_count": 25
        }
      ]
    },
    {
      "cell_type": "code",
      "metadata": {
        "id": "5oJdkfqkjG0G",
        "colab_type": "code",
        "outputId": "919c89a7-3e07-444d-ee8f-99d0662da161",
        "colab": {
          "base_uri": "https://localhost:8080/",
          "height": 122
        }
      },
      "source": [
        "# 形態素解析をするjanomeをインストールする(初回のみコメントアウトを外して実行してください)\n",
        "# ! pip install janome"
      ],
      "execution_count": 0,
      "outputs": [
        {
          "output_type": "stream",
          "text": [
            "Collecting janome\n",
            "\u001b[?25l  Downloading https://files.pythonhosted.org/packages/a7/7c/560f4c9ff01a584b1ecd1da981e82d0077c079ecba84571b4f623680300e/Janome-0.3.9-py2.py3-none-any.whl (25.1MB)\n",
            "\u001b[K     |████████████████████████████████| 25.1MB 60.7MB/s \n",
            "\u001b[?25hInstalling collected packages: janome\n",
            "Successfully installed janome-0.3.9\n"
          ],
          "name": "stdout"
        }
      ]
    },
    {
      "cell_type": "code",
      "metadata": {
        "id": "GJQODYrujOwV",
        "colab_type": "code",
        "outputId": "9580d35a-c547-4ce5-a6ec-dd87ffda4e4b",
        "colab": {
          "base_uri": "https://localhost:8080/",
          "height": 187
        }
      },
      "source": [
        "from janome.tokenizer import Tokenizer\n",
        "\n",
        "# このテキストを形態素解析する\n",
        "text = '私は東京都に住んでいます｡'\n",
        "\n",
        "t = Tokenizer()\n",
        "tokens = t.tokenize(text)\n",
        "\n",
        "# 形態素解析した結果を表示\n",
        "for token in tokens:\n",
        "    print(token)"
      ],
      "execution_count": 0,
      "outputs": [
        {
          "output_type": "stream",
          "text": [
            "私\t名詞,代名詞,一般,*,*,*,私,ワタシ,ワタシ\n",
            "は\t助詞,係助詞,*,*,*,*,は,ハ,ワ\n",
            "東京\t名詞,固有名詞,地域,一般,*,*,東京,トウキョウ,トーキョー\n",
            "都\t名詞,接尾,地域,*,*,*,都,ト,ト\n",
            "に\t助詞,格助詞,一般,*,*,*,に,ニ,ニ\n",
            "住ん\t動詞,自立,*,*,五段・マ行,連用タ接続,住む,スン,スン\n",
            "で\t助詞,接続助詞,*,*,*,*,で,デ,デ\n",
            "い\t動詞,非自立,*,*,一段,連用形,いる,イ,イ\n",
            "ます\t助動詞,*,*,*,特殊・マス,基本形,ます,マス,マス\n",
            "｡\t名詞,サ変接続,*,*,*,*,｡,*,*\n"
          ],
          "name": "stdout"
        }
      ]
    },
    {
      "cell_type": "code",
      "metadata": {
        "id": "w39JGIiCkCID",
        "colab_type": "code",
        "colab": {}
      },
      "source": [
        "# nltkをインストール(初回のみコメントアウトを外して実行してください)\n",
        "# ! pip install nltk -q"
      ],
      "execution_count": 0,
      "outputs": []
    },
    {
      "cell_type": "code",
      "metadata": {
        "id": "_KzE3b91kINJ",
        "colab_type": "code",
        "outputId": "15fe4d06-6dd5-4571-8947-0c890d8c3971",
        "colab": {
          "base_uri": "https://localhost:8080/",
          "height": 102
        }
      },
      "source": [
        "import nltk\n",
        "\n",
        "# PorterStemmerという､ステミングを行うアルゴリズムを指定\n",
        "# 処理を実行するインスタンスを生成\n",
        "stemmer = nltk.PorterStemmer()\n",
        "\n",
        "# programへステミング\n",
        "print(stemmer.stem('programming'))\n",
        "print(stemmer.stem('programs'))\n",
        "\n",
        "# initiへステミング\n",
        "print(stemmer.stem('initial'))\n",
        "print(stemmer.stem('initialize'))\n",
        "print(stemmer.stem('initialization'))"
      ],
      "execution_count": 0,
      "outputs": [
        {
          "output_type": "stream",
          "text": [
            "program\n",
            "program\n",
            "initi\n",
            "initi\n",
            "initi\n"
          ],
          "name": "stdout"
        }
      ]
    },
    {
      "cell_type": "code",
      "metadata": {
        "id": "2heqRGEQkMkk",
        "colab_type": "code",
        "colab": {}
      },
      "source": [
        "def porter_stem(text):\n",
        "    '''\n",
        "    ステミングを行う\n",
        "    '''\n",
        "    stemmer = nltk.PorterStemmer()\n",
        "    stem_ls = []\n",
        "    # textから各単語を順番に抽出\n",
        "    for i in text.split():\n",
        "        # ステミングを行い､stem_lsに格納\n",
        "        try:\n",
        "            stem_ls.append(stemmer.stem(i))\n",
        "        # 何らかのエラーが起きたら､単語をそのまま保存\n",
        "        except:\n",
        "            stem_ls.append(i)\n",
        "    # stem_lsの要素を半角スペース区切りで結合\n",
        "    # ひとつの文字列に変換\n",
        "    stemmed = \" \".join(stem_ls)\n",
        "    return stemmed"
      ],
      "execution_count": 0,
      "outputs": []
    },
    {
      "cell_type": "code",
      "metadata": {
        "id": "tU8fuIjlkPme",
        "colab_type": "code",
        "outputId": "4de032a3-2275-4165-ae9b-b59cd977ee3a",
        "colab": {
          "base_uri": "https://localhost:8080/",
          "height": 34
        }
      },
      "source": [
        "# ステミングを行う前の文章を確認\n",
        "# 長いので､初めの100文字のみ\n",
        "df.iloc[30,0][:100]"
      ],
      "execution_count": 0,
      "outputs": [
        {
          "output_type": "execute_result",
          "data": {
            "text/plain": [
              "'on halloween a town is terrorized by a lunatic with a big pumpkin for a head bad acting compromised '"
            ]
          },
          "metadata": {
            "tags": []
          },
          "execution_count": 31
        }
      ]
    },
    {
      "cell_type": "code",
      "metadata": {
        "id": "tKaxCl6xkSnS",
        "colab_type": "code",
        "outputId": "1a8b9d0f-40d5-4e66-bc91-15e87eb99c5b",
        "colab": {
          "base_uri": "https://localhost:8080/",
          "height": 34
        }
      },
      "source": [
        "# ステミングを適用\n",
        "df[\"review\"] = df[\"review\"].apply(porter_stem)\n",
        "\n",
        "# ステミングを行った後の文字列を確認\n",
        "# 長いので､初めの100文字のみ\n",
        "df.iloc[30,0][:100]"
      ],
      "execution_count": 0,
      "outputs": [
        {
          "output_type": "execute_result",
          "data": {
            "text/plain": [
              "'on halloween a town is terror by a lunat with a big pumpkin for a head bad act compromis mostli of l'"
            ]
          },
          "metadata": {
            "tags": []
          },
          "execution_count": 32
        }
      ]
    },
    {
      "cell_type": "code",
      "metadata": {
        "id": "rrAIMq96kmyw",
        "colab_type": "code",
        "outputId": "a3f0d116-7496-4adc-91bd-7c66dcb32462",
        "colab": {
          "base_uri": "https://localhost:8080/",
          "height": 68
        }
      },
      "source": [
        "# stopwordsのダウンロード\n",
        "nltk.download(\"stopwords\")"
      ],
      "execution_count": 0,
      "outputs": [
        {
          "output_type": "stream",
          "text": [
            "[nltk_data] Downloading package stopwords to /root/nltk_data...\n",
            "[nltk_data]   Unzipping corpora/stopwords.zip.\n"
          ],
          "name": "stdout"
        },
        {
          "output_type": "execute_result",
          "data": {
            "text/plain": [
              "True"
            ]
          },
          "metadata": {
            "tags": []
          },
          "execution_count": 33
        }
      ]
    },
    {
      "cell_type": "code",
      "metadata": {
        "id": "IhNhwQ-Akmqj",
        "colab_type": "code",
        "colab": {}
      },
      "source": [
        "# 英語のstopwordsのリスト化\n",
        "from nltk.corpus import stopwords\n",
        "stop = stopwords.words(\"english\")\n",
        "\n",
        "def strip_stop(text):\n",
        "    \"\"\"\n",
        "    ストップワードを除去\n",
        "    \"\"\"\n",
        "    # 空のリストに､文章内のstopwords以外の単語を格納していく\n",
        "    words = []\n",
        "    # テキストを半角スペースごとに分割\n",
        "    for word in text.split(' '):\n",
        "        # 抽出した単語がstopwordsの一覧に含まれていなければリストに格納する\n",
        "        if word not in stop:\n",
        "            words.append(word)\n",
        "    # stopwords以外の単語をスペースを空けて並べる\n",
        "    text = \" \".join(words)\n",
        "    return text"
      ],
      "execution_count": 0,
      "outputs": []
    },
    {
      "cell_type": "code",
      "metadata": {
        "id": "iBaxxEdxkyhO",
        "colab_type": "code",
        "outputId": "6c1190db-7db9-4869-a050-b0fc6f5602a3",
        "colab": {
          "base_uri": "https://localhost:8080/",
          "height": 54
        }
      },
      "source": [
        "# stopwordsを除去する前の文章を出力\n",
        "df.iloc[4, 0]"
      ],
      "execution_count": 0,
      "outputs": [
        {
          "output_type": "execute_result",
          "data": {
            "text/plain": [
              "'ann natali portman tell us about how much she hate her mother adel susan sarandon that s how the movi begin adel decid that her and her daughter were move to california without ask anyon and leav her husband without ani reason the stori is about the relationship between the mother and the daughter it s realli deep and touch thank to the great work of the actress natali wa nomin to a golden globe for that role she is one of the most talent actress i ever saw and so is sarandon they realli look like mother daughter the soundtrack is also great the movi is incred 10 out of 10'"
            ]
          },
          "metadata": {
            "tags": []
          },
          "execution_count": 35
        }
      ]
    },
    {
      "cell_type": "code",
      "metadata": {
        "id": "vikbgICbk2gV",
        "colab_type": "code",
        "outputId": "91c4cd05-50ff-437b-f357-c1565ca9b3b4",
        "colab": {
          "base_uri": "https://localhost:8080/",
          "height": 54
        }
      },
      "source": [
        "# strip_stopを適用\n",
        "df[\"review\"] = df[\"review\"].apply(strip_stop)\n",
        "\n",
        "# stopwordsを除去した後の文章を出力\n",
        "df.iloc[4,0]"
      ],
      "execution_count": 0,
      "outputs": [
        {
          "output_type": "execute_result",
          "data": {
            "text/plain": [
              "'ann natali portman tell us much hate mother adel susan sarandon movi begin adel decid daughter move california without ask anyon leav husband without ani reason stori relationship mother daughter realli deep touch thank great work actress natali wa nomin golden globe role one talent actress ever saw sarandon realli look like mother daughter soundtrack also great movi incred 10 10'"
            ]
          },
          "metadata": {
            "tags": []
          },
          "execution_count": 36
        }
      ]
    },
    {
      "cell_type": "code",
      "metadata": {
        "id": "AoqLyD2elsHo",
        "colab_type": "code",
        "outputId": "9fc72262-1c76-4109-ce69-e9154c7a1964",
        "colab": {
          "base_uri": "https://localhost:8080/",
          "height": 119
        }
      },
      "source": [
        "# BoW表現の生成\n",
        "# 出現回数が5回以下､あるいは30%以上の単語を削除して次元削減\n",
        "# ストップワードの除去（先程実行したが､このタイミングでも実行可能）\n",
        "from sklearn.feature_extraction.text import CountVectorizer\n",
        "cv = CountVectorizer(max_df=0.3, min_df=5, stop_words='english')\n",
        "cv.fit(df['review'])"
      ],
      "execution_count": 0,
      "outputs": [
        {
          "output_type": "execute_result",
          "data": {
            "text/plain": [
              "CountVectorizer(analyzer='word', binary=False, decode_error='strict',\n",
              "                dtype=<class 'numpy.int64'>, encoding='utf-8', input='content',\n",
              "                lowercase=True, max_df=0.3, max_features=None, min_df=5,\n",
              "                ngram_range=(1, 1), preprocessor=None, stop_words='english',\n",
              "                strip_accents=None, token_pattern='(?u)\\\\b\\\\w\\\\w+\\\\b',\n",
              "                tokenizer=None, vocabulary=None)"
            ]
          },
          "metadata": {
            "tags": []
          },
          "execution_count": 37
        }
      ]
    },
    {
      "cell_type": "code",
      "metadata": {
        "id": "yOs91IuGlw6X",
        "colab_type": "code",
        "colab": {}
      },
      "source": [
        "# vocabraryで単語とidの対応を確認する(下の#を外して実行してください。)\n",
        "cv.vocabulary_"
      ],
      "execution_count": 0,
      "outputs": []
    },
    {
      "cell_type": "code",
      "metadata": {
        "id": "uGXr7zaEl-Ip",
        "colab_type": "code",
        "outputId": "5465bf49-da31-4854-fa93-1e3883ce5172",
        "colab": {
          "base_uri": "https://localhost:8080/",
          "height": 258
        }
      },
      "source": [
        "# テキストをBoWの表現形式に変換\n",
        "bow = cv.transform(df['review'])\n",
        "# 扱いやすいようにarray形式に変換\n",
        "bow = bow.toarray()\n",
        "# 単語の名称を抽出\n",
        "feature_names = cv.get_feature_names()\n",
        "\n",
        "# bowの中身を確認\n",
        "print(type(bow)) # array形式\n",
        "print(bow.shape) # 2500文書､5347単語\n",
        "print(feature_names[5000:5020]) # 5005番目の単語は'understand'\n",
        "print(bow[350:360, 5000:5020]) # bowの一部分を出力"
      ],
      "execution_count": 0,
      "outputs": [
        {
          "output_type": "stream",
          "text": [
            "<class 'numpy.ndarray'>\n",
            "(2500, 5347)\n",
            "['undermin', 'underneath', 'underr', 'underst', 'understand', 'understat', 'understood', 'underwat', 'undevelop', 'undoubtedli', 'uneven', 'unexpect', 'unexplain', 'unfair', 'unfaith', 'unfathom', 'unfinish', 'unfold', 'unforgett', 'unfortun']\n",
            "[[0 0 0 0 0 0 0 0 0 0 0 0 0 0 0 0 0 0 0 0]\n",
            " [0 0 0 0 0 0 0 0 0 0 0 0 0 0 0 0 0 0 0 0]\n",
            " [0 0 0 0 0 0 0 0 0 0 0 0 0 0 0 0 0 0 0 0]\n",
            " [0 0 0 0 0 0 0 0 0 0 0 0 0 0 0 0 0 0 0 0]\n",
            " [0 0 0 0 0 0 0 0 0 0 0 0 0 0 0 0 0 0 0 0]\n",
            " [0 0 0 0 0 0 0 0 0 0 0 0 0 0 0 0 0 0 0 0]\n",
            " [0 0 0 0 1 0 0 0 0 0 0 0 0 0 0 0 0 0 0 0]\n",
            " [0 0 0 0 0 0 0 0 0 0 0 0 0 0 0 0 0 0 0 0]\n",
            " [0 0 0 0 1 0 0 0 0 0 0 0 0 0 0 0 0 1 0 0]\n",
            " [0 0 0 0 0 0 0 0 0 0 0 0 0 0 0 0 0 0 0 0]]\n"
          ],
          "name": "stdout"
        }
      ]
    },
    {
      "cell_type": "code",
      "metadata": {
        "id": "OX9RM4wyohRl",
        "colab_type": "code",
        "outputId": "1457aed8-ad5a-4dfd-f7c7-1f921981ba89",
        "colab": {
          "base_uri": "https://localhost:8080/",
          "height": 102
        }
      },
      "source": [
        "# 入力は先ほど作成したBow、正解ラベルはsentiment\n",
        "from sklearn.model_selection import train_test_split\n",
        "X_train, X_test, y_train, y_test = train_test_split(bow, df[\"sentiment\"], test_size=0.3, random_state=0)\n",
        "\n",
        "# ロジスティック回帰の学習\n",
        "from sklearn.linear_model import LogisticRegression\n",
        "lr = LogisticRegression()\n",
        "lr.fit(X_train, y_train)"
      ],
      "execution_count": 0,
      "outputs": [
        {
          "output_type": "execute_result",
          "data": {
            "text/plain": [
              "LogisticRegression(C=1.0, class_weight=None, dual=False, fit_intercept=True,\n",
              "                   intercept_scaling=1, l1_ratio=None, max_iter=100,\n",
              "                   multi_class='warn', n_jobs=None, penalty='l2',\n",
              "                   random_state=None, solver='warn', tol=0.0001, verbose=0,\n",
              "                   warm_start=False)"
            ]
          },
          "metadata": {
            "tags": []
          },
          "execution_count": 41
        }
      ]
    },
    {
      "cell_type": "code",
      "metadata": {
        "id": "S0rjTsgQooey",
        "colab_type": "code",
        "colab": {}
      },
      "source": [
        "# 性能指標を確認する関数\n",
        "y_pred_train = lr.predict(X_train)\n",
        "def print_metrics(model, data, label):\n",
        "    from sklearn import metrics\n",
        "    pred = model.predict(data)\n",
        "    print('accuracy: %.3f' % metrics.accuracy_score(label, pred)) # 正答率\n",
        "    print('recall: %.3f' % metrics.recall_score(label, pred, average='macro')) # 再現率（マクロ平均）\n",
        "    print('precision: %.3f' % metrics.precision_score(label, pred, average='macro')) # 適合率（マクロ平均）\n",
        "    print('f1_score: %.3f' % metrics.f1_score(label, pred, average='macro')) # f値（マクロ平均）"
      ],
      "execution_count": 0,
      "outputs": []
    },
    {
      "cell_type": "code",
      "metadata": {
        "id": "f7RSjrzxorTt",
        "colab_type": "code",
        "outputId": "99f5705a-8631-4aff-ec11-005b551b6fcd",
        "colab": {
          "base_uri": "https://localhost:8080/",
          "height": 85
        }
      },
      "source": [
        "# 性能指標を確認（train）\n",
        "print_metrics(lr, X_train, y_train)"
      ],
      "execution_count": 0,
      "outputs": [
        {
          "output_type": "stream",
          "text": [
            "accuracy: 1.000\n",
            "recall: 1.000\n",
            "precision: 1.000\n",
            "f1_score: 1.000\n"
          ],
          "name": "stdout"
        }
      ]
    },
    {
      "cell_type": "code",
      "metadata": {
        "id": "6SKfQJZKouvW",
        "colab_type": "code",
        "outputId": "6ace492e-ef62-4af0-814a-83af1e90e786",
        "colab": {
          "base_uri": "https://localhost:8080/",
          "height": 85
        }
      },
      "source": [
        "# 性能指標を確認（test）\n",
        "print_metrics(lr, X_test, y_test)"
      ],
      "execution_count": 0,
      "outputs": [
        {
          "output_type": "stream",
          "text": [
            "accuracy: 0.811\n",
            "recall: 0.811\n",
            "precision: 0.811\n",
            "f1_score: 0.811\n"
          ],
          "name": "stdout"
        }
      ]
    },
    {
      "cell_type": "code",
      "metadata": {
        "id": "whaBqbohpVUB",
        "colab_type": "code",
        "outputId": "32e87baf-4fa3-411f-a8b8-aca6bad734d1",
        "colab": {
          "base_uri": "https://localhost:8080/",
          "height": 102
        }
      },
      "source": [
        "# sklearnの中に含まれている、TfidfTransformerを使用\n",
        "from sklearn.feature_extraction.text import TfidfTransformer\n",
        "# インスタンスを生成\n",
        "tfidf = TfidfTransformer(sublinear_tf=True)\n",
        "# BoWの行列をTf-Idf値に置き換え\n",
        "# BoWの行列を事前に小数型に変換しておく\n",
        "X_train_tfidf = tfidf.fit_transform(X_train.astype('f')).toarray()\n",
        "X_test_tfidf = tfidf.fit_transform(X_test.astype('f')).toarray()\n",
        "\n",
        "# ロジスティック回帰を学習\n",
        "# 正解ラベルはy_train, y_testを用いればよい\n",
        "lr_tfidf = LogisticRegression()\n",
        "lr_tfidf.fit(X_train_tfidf, y_train)"
      ],
      "execution_count": 0,
      "outputs": [
        {
          "output_type": "execute_result",
          "data": {
            "text/plain": [
              "LogisticRegression(C=1.0, class_weight=None, dual=False, fit_intercept=True,\n",
              "                   intercept_scaling=1, l1_ratio=None, max_iter=100,\n",
              "                   multi_class='warn', n_jobs=None, penalty='l2',\n",
              "                   random_state=None, solver='warn', tol=0.0001, verbose=0,\n",
              "                   warm_start=False)"
            ]
          },
          "metadata": {
            "tags": []
          },
          "execution_count": 45
        }
      ]
    },
    {
      "cell_type": "code",
      "metadata": {
        "id": "EvUV9z7xpY-s",
        "colab_type": "code",
        "outputId": "9a887b90-f9cb-4ae0-d05c-170815e824ce",
        "colab": {
          "base_uri": "https://localhost:8080/",
          "height": 85
        }
      },
      "source": [
        "# 性能指標を確認（train）\n",
        "print_metrics(lr_tfidf, X_train_tfidf, y_train)"
      ],
      "execution_count": 0,
      "outputs": [
        {
          "output_type": "stream",
          "text": [
            "accuracy: 0.966\n",
            "recall: 0.966\n",
            "precision: 0.966\n",
            "f1_score: 0.966\n"
          ],
          "name": "stdout"
        }
      ]
    },
    {
      "cell_type": "code",
      "metadata": {
        "id": "0hkfMj_Cpbgx",
        "colab_type": "code",
        "outputId": "bcc133da-1eda-4516-d124-9ef75873d5bd",
        "colab": {
          "base_uri": "https://localhost:8080/",
          "height": 85
        }
      },
      "source": [
        "# 性能指標を確認（test）\n",
        "print_metrics(lr_tfidf, X_test_tfidf, y_test)"
      ],
      "execution_count": 0,
      "outputs": [
        {
          "output_type": "stream",
          "text": [
            "accuracy: 0.849\n",
            "recall: 0.849\n",
            "precision: 0.850\n",
            "f1_score: 0.849\n"
          ],
          "name": "stdout"
        }
      ]
    },
    {
      "cell_type": "code",
      "metadata": {
        "id": "lFhW19kWpgR8",
        "colab_type": "code",
        "outputId": "c8e0e671-4ac5-473f-c8d9-d56f7685d2a9",
        "colab": {
          "base_uri": "https://localhost:8080/",
          "height": 462
        }
      },
      "source": [
        "# mglearnのインストール(初回のみコメントアウトを外して実行してください)\n",
        "# ! pip install mglearn"
      ],
      "execution_count": 0,
      "outputs": [
        {
          "output_type": "stream",
          "text": [
            "Collecting mglearn\n",
            "\u001b[?25l  Downloading https://files.pythonhosted.org/packages/fb/01/8d3630ecc767c9de96a9c46e055f2a3a5f9e14a47d3d0348a36a5005fe67/mglearn-0.1.7.tar.gz (540kB)\n",
            "\u001b[K     |████████████████████████████████| 542kB 4.9MB/s \n",
            "\u001b[?25hRequirement already satisfied: numpy in /usr/local/lib/python3.6/dist-packages (from mglearn) (1.16.4)\n",
            "Requirement already satisfied: matplotlib in /usr/local/lib/python3.6/dist-packages (from mglearn) (3.0.3)\n",
            "Requirement already satisfied: scikit-learn in /usr/local/lib/python3.6/dist-packages (from mglearn) (0.21.2)\n",
            "Requirement already satisfied: pandas in /usr/local/lib/python3.6/dist-packages (from mglearn) (0.24.2)\n",
            "Requirement already satisfied: pillow in /usr/local/lib/python3.6/dist-packages (from mglearn) (4.3.0)\n",
            "Requirement already satisfied: cycler in /usr/local/lib/python3.6/dist-packages (from mglearn) (0.10.0)\n",
            "Requirement already satisfied: imageio in /usr/local/lib/python3.6/dist-packages (from mglearn) (2.4.1)\n",
            "Requirement already satisfied: pyparsing!=2.0.4,!=2.1.2,!=2.1.6,>=2.0.1 in /usr/local/lib/python3.6/dist-packages (from matplotlib->mglearn) (2.4.0)\n",
            "Requirement already satisfied: kiwisolver>=1.0.1 in /usr/local/lib/python3.6/dist-packages (from matplotlib->mglearn) (1.1.0)\n",
            "Requirement already satisfied: python-dateutil>=2.1 in /usr/local/lib/python3.6/dist-packages (from matplotlib->mglearn) (2.5.3)\n",
            "Requirement already satisfied: joblib>=0.11 in /usr/local/lib/python3.6/dist-packages (from scikit-learn->mglearn) (0.13.2)\n",
            "Requirement already satisfied: scipy>=0.17.0 in /usr/local/lib/python3.6/dist-packages (from scikit-learn->mglearn) (1.3.0)\n",
            "Requirement already satisfied: pytz>=2011k in /usr/local/lib/python3.6/dist-packages (from pandas->mglearn) (2018.9)\n",
            "Requirement already satisfied: olefile in /usr/local/lib/python3.6/dist-packages (from pillow->mglearn) (0.46)\n",
            "Requirement already satisfied: six in /usr/local/lib/python3.6/dist-packages (from cycler->mglearn) (1.12.0)\n",
            "Requirement already satisfied: setuptools in /usr/local/lib/python3.6/dist-packages (from kiwisolver>=1.0.1->matplotlib->mglearn) (41.0.1)\n",
            "Building wheels for collected packages: mglearn\n",
            "  Building wheel for mglearn (setup.py) ... \u001b[?25l\u001b[?25hdone\n",
            "  Stored in directory: /root/.cache/pip/wheels/74/cf/8d/04f4932d15854a36726c6210763c7127e62de28f5c8ddfcf3b\n",
            "Successfully built mglearn\n",
            "Installing collected packages: mglearn\n",
            "Successfully installed mglearn-0.1.7\n"
          ],
          "name": "stdout"
        }
      ]
    },
    {
      "cell_type": "code",
      "metadata": {
        "id": "VfSRpnMNplsj",
        "colab_type": "code",
        "outputId": "5236f5ab-fe3a-480b-e861-73d706340e12",
        "colab": {
          "base_uri": "https://localhost:8080/",
          "height": 409
        }
      },
      "source": [
        "# ロジスティック回帰の係数を大きい順に可視化\n",
        "# 赤色はnegativeに強く影響する単語､青色はpositiveに強く影響する単語\n",
        "import mglearn\n",
        "mglearn.tools.visualize_coefficients(lr_tfidf.coef_, feature_names, n_top_features=30)"
      ],
      "execution_count": 0,
      "outputs": [
        {
          "output_type": "stream",
          "text": [
            "/usr/local/lib/python3.6/dist-packages/sklearn/externals/six.py:31: DeprecationWarning: The module is deprecated in version 0.21 and will be removed in version 0.23 since we've dropped support for Python 2.7. Please rely on the official version of six (https://pypi.org/project/six/).\n",
            "  \"(https://pypi.org/project/six/).\", DeprecationWarning)\n",
            "/usr/local/lib/python3.6/dist-packages/sklearn/externals/joblib/__init__.py:15: DeprecationWarning: sklearn.externals.joblib is deprecated in 0.21 and will be removed in 0.23. Please import this functionality directly from joblib, which can be installed with: pip install joblib. If this warning is raised when loading pickled models, you may need to re-serialize those models with scikit-learn 0.21+.\n",
            "  warnings.warn(msg, category=DeprecationWarning)\n"
          ],
          "name": "stderr"
        },
        {
          "output_type": "display_data",
          "data": {
            "image/png": "[encoded data removed]",
            "text/plain": [
              "<Figure size 1080x360 with 1 Axes>"
            ]
          },
          "metadata": {
            "tags": []
          }
        }
      ]
    },
    {
      "cell_type": "code",
      "metadata": {
        "id": "csS67-bsqW76",
        "colab_type": "code",
        "outputId": "939dfd4b-8dca-423d-91cd-6e80d638984f",
        "colab": {
          "base_uri": "https://localhost:8080/",
          "height": 316
        }
      },
      "source": [
        "# Tf-Idfを利用しない場合\n",
        "import mglearn\n",
        "mglearn.tools.visualize_coefficients(lr.coef_, feature_names, n_top_features=30)"
      ],
      "execution_count": 0,
      "outputs": [
        {
          "output_type": "display_data",
          "data": {
            "image/png": "[encoded data removed]",
            "text/plain": [
              "<Figure size 1080x360 with 1 Axes>"
            ]
          },
          "metadata": {
            "tags": []
          }
        }
      ]
    },
    {
      "cell_type": "code",
      "metadata": {
        "id": "fLaGbWfzsJ5p",
        "colab_type": "code",
        "outputId": "a26069a3-3e62-4146-8b20-01fd48f25983",
        "colab": {
          "base_uri": "https://localhost:8080/",
          "height": 119
        }
      },
      "source": [
        "# LDAによるトピックの抽出\n",
        "# トピックの数を5に指定\n",
        "from sklearn.decomposition import LatentDirichletAllocation\n",
        "lda = LatentDirichletAllocation(n_components=5, learning_method='batch', random_state=0)\n",
        "# BoW形式のデータを変換\n",
        "document_topics = lda.fit_transform(X_train_tfidf)\n",
        "\n",
        "print(lda.components_.shape) # components_アトリビュートの次元を出力\n",
        "print(lda.components_[:, :5]) # components_アトリビュートの4番目までの単語とする"
      ],
      "execution_count": 0,
      "outputs": [
        {
          "output_type": "stream",
          "text": [
            "(5, 5347)\n",
            "[[ 0.20005443  0.20015424  0.20004816  0.20004937  0.20005734]\n",
            " [ 0.20005995  0.20013648  0.20011676  0.20006514  0.20005694]\n",
            " [ 0.20005178  0.20005694  0.20004826  0.20004949  0.20005745]\n",
            " [ 2.28168101 21.03937179  3.5437552   2.78817073  3.74794059]\n",
            " [ 0.2000517   0.20006743  0.20004818  0.20004949  0.20005735]]\n"
          ],
          "name": "stdout"
        }
      ]
    },
    {
      "cell_type": "code",
      "metadata": {
        "id": "0_UnMEgrsQBP",
        "colab_type": "code",
        "outputId": "bcc8f890-4e60-4ed4-ae5b-cfd9211e910f",
        "colab": {
          "base_uri": "https://localhost:8080/",
          "height": 170
        }
      },
      "source": [
        "# 各トピックについて､重要度の高い順に並び替える\n",
        "sorting = np.argsort(lda.components_, axis=1)[:, ::-1]\n",
        "# 処理の都合上､feature_namesをarrayの形式に変換\n",
        "feature_names = np.array(feature_names)\n",
        "# 各トピックに関連性が強い単語Top10を出力\n",
        "mglearn.tools.print_topics(topics=range(5), feature_names=feature_names, sorting=sorting, topics_per_chunk=5, n_words=5)"
      ],
      "execution_count": 0,
      "outputs": [
        {
          "output_type": "stream",
          "text": [
            "topic 0       topic 1       topic 2       topic 3       topic 4       \n",
            "--------      --------      --------      --------      --------      \n",
            "tarzan        streep        helena        realli        falk          \n",
            "crous         meryl         sarandon      great         columbo       \n",
            "mantegna      shatner       natali        act           wan           \n",
            "weissmul      connor        jacob         bad           uzumaki       \n",
            "strap         stanwyck      goodnight     look          loyalti       \n",
            "\n",
            "\n"
          ],
          "name": "stdout"
        }
      ]
    },
    {
      "cell_type": "code",
      "metadata": {
        "id": "G3oVyu-XsfP0",
        "colab_type": "code",
        "outputId": "7ef55ed1-9228-4606-94ec-33eb566d9555",
        "colab": {
          "base_uri": "https://localhost:8080/",
          "height": 102
        }
      },
      "source": [
        "# 25トピックに縮約\n",
        "lda_2 = LatentDirichletAllocation(n_components=25, learning_method='batch', random_state=0)\n",
        "X_train_lda = lda_2.fit_transform(X_train_tfidf)\n",
        "X_test_lda = lda_2.fit_transform(X_test_tfidf)\n",
        "\n",
        "# ロジスティック回帰を学習\n",
        "lr_lda = LogisticRegression()\n",
        "lr_lda.fit(X_train_lda, y_train)"
      ],
      "execution_count": 0,
      "outputs": [
        {
          "output_type": "execute_result",
          "data": {
            "text/plain": [
              "LogisticRegression(C=1.0, class_weight=None, dual=False, fit_intercept=True,\n",
              "                   intercept_scaling=1, l1_ratio=None, max_iter=100,\n",
              "                   multi_class='warn', n_jobs=None, penalty='l2',\n",
              "                   random_state=None, solver='warn', tol=0.0001, verbose=0,\n",
              "                   warm_start=False)"
            ]
          },
          "metadata": {
            "tags": []
          },
          "execution_count": 53
        }
      ]
    },
    {
      "cell_type": "code",
      "metadata": {
        "id": "_GnTd-ZaskGr",
        "colab_type": "code",
        "outputId": "03b6f420-cc74-412e-8842-1ae43dcce248",
        "colab": {
          "base_uri": "https://localhost:8080/",
          "height": 85
        }
      },
      "source": [
        "# 性能指標を確認（train）\n",
        "print_metrics(lr_lda, X_train_lda, y_train)"
      ],
      "execution_count": 0,
      "outputs": [
        {
          "output_type": "stream",
          "text": [
            "accuracy: 0.560\n",
            "recall: 0.558\n",
            "precision: 0.563\n",
            "f1_score: 0.551\n"
          ],
          "name": "stdout"
        }
      ]
    },
    {
      "cell_type": "code",
      "metadata": {
        "id": "GZv62NHlsn9c",
        "colab_type": "code",
        "outputId": "57f28ca7-d5e6-443e-b07e-422594fdc786",
        "colab": {
          "base_uri": "https://localhost:8080/",
          "height": 85
        }
      },
      "source": [
        "# 性能指標を確認（test）\n",
        "print_metrics(lr_lda, X_test_lda, y_test)"
      ],
      "execution_count": 0,
      "outputs": [
        {
          "output_type": "stream",
          "text": [
            "accuracy: 0.495\n",
            "recall: 0.499\n",
            "precision: 0.248\n",
            "f1_score: 0.331\n"
          ],
          "name": "stdout"
        }
      ]
    }
  ]
}