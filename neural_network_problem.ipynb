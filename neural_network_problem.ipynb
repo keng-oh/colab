{
  "nbformat": 4,
  "nbformat_minor": 0,
  "metadata": {
    "colab": {
      "name": "neural_network_problem.ipynb",
      "version": "0.3.2",
      "provenance": [],
      "collapsed_sections": [],
      "include_colab_link": true
    },
    "kernelspec": {
      "name": "python3",
      "display_name": "Python 3"
    }
  },
  "cells": [
    {
      "cell_type": "markdown",
      "metadata": {
        "id": "view-in-github",
        "colab_type": "text"
      },
      "source": [
        "<a href=\"https://colab.research.google.com/github/keng-oh/colab/blob/master/neural_network_problem.ipynb\" target=\"_parent\"><img src=\"https://colab.research.google.com/assets/colab-badge.svg\" alt=\"Open In Colab\"/></a>"
      ]
    },
    {
      "cell_type": "markdown",
      "metadata": {
        "id": "0xeCTR24mRCV",
        "colab_type": "text"
      },
      "source": [
        "# ニューラルネットワークの諸問題"
      ]
    },
    {
      "cell_type": "code",
      "metadata": {
        "id": "62DOXHa7mHRi",
        "colab_type": "code",
        "colab": {}
      },
      "source": [
        "# EarlyStoppingのインスタンスを生成\n",
        "from keras.callbacks import EarlyStopping\n",
        "es = EarlyStopping(monitor='val_loss', patience=10, verbose=0, mode='min')\n",
        "\n",
        "# 学習の際にEarlyStoppingを適用\n",
        "model.fit(X_train, Y_train, batch_size=batch_size,epochs=n_epoch,\n",
        "          validation_data=(X_validation, y_valiation),\n",
        "          callbacks=[es]) # EarlyStoppingを適用"
      ],
      "execution_count": 0,
      "outputs": []
    },
    {
      "cell_type": "code",
      "metadata": {
        "id": "5SfjSmtkmmJy",
        "colab_type": "code",
        "colab": {}
      },
      "source": [
        "# ModelCheckpointのインスタンスを生成\n",
        "from keras.callbacks import ModelCheckpoint\n",
        "mc = ModelCheckpoint(filepath='./dl4', monitor='val_loss', verbose=1, save_best_only=True, mode='min')\n",
        "\n",
        "# 学習の履歴を残す形で学習を実行\n",
        "history = moldel.fit(X_train, Y_train, batch_size=batch_size,epochs=n_epoch,\n",
        "          validation_data=(X_validation, y_valiation),\n",
        "          callbacks=[mc]) # ModelCheckpointを適用"
      ],
      "execution_count": 0,
      "outputs": []
    },
    {
      "cell_type": "markdown",
      "metadata": {
        "id": "rFFY1IfFnXba",
        "colab_type": "text"
      },
      "source": [
        "# Dropout"
      ]
    },
    {
      "cell_type": "code",
      "metadata": {
        "id": "RQeig4ygmnpY",
        "colab_type": "code",
        "colab": {}
      },
      "source": [
        "# 不要な警告を非表示にする\n",
        "import warnings\n",
        "warnings.filterwarnings('ignore')\n",
        "\n",
        "import keras\n",
        "from keras.models import Sequential\n",
        "from keras.layers import Dense, Activation, Dropout\n",
        "from keras.layers.convolutional import Conv2D\n",
        "from keras.layers.pooling import MaxPool2D\n",
        "from keras.layers import Flatten\n",
        "import tensorflow as tf\n",
        "\n",
        "# CNNモデルの定義\n",
        "model = Sequential()\n",
        "\n",
        "model.add(Conv2D(64, input_shape=(32, 32, 3),\n",
        "                 kernel_size=(4, 4),\n",
        "                 strides=(1, 1),\n",
        "                 padding='same'))\n",
        "\n",
        "model.add(MaxPool2D(pool_size=(2, 2)))\n",
        "model.add(Activation('relu'))\n",
        "\n",
        "model.add(Conv2D(128,\n",
        "                 kernel_size=(4, 4),\n",
        "                 strides=(1, 1),\n",
        "                 padding='same'))\n",
        "model.add(MaxPool2D(pool_size=(2, 2)))\n",
        "model.add(Activation('relu'))\n",
        "\n",
        "model.add(Conv2D(128,\n",
        "                 kernel_size=(4, 4),\n",
        "                 strides=(1, 1),\n",
        "                 padding='same'))\n",
        "model.add(MaxPool2D(pool_size=(2, 2)))\n",
        "model.add(Activation('relu'))\n",
        "\n",
        "model.add(Flatten())\n",
        "model.add(Dense(512))\n",
        "model.add(Activation('relu'))\n",
        "# 無効化比率0.5のDropout\n",
        "model.add(Dropout(rate=0.5))\n",
        "# 最終層は無効化しない\n",
        "model.add(Dense(5))\n",
        "model.add(Activation('softmax'))"
      ],
      "execution_count": 0,
      "outputs": []
    },
    {
      "cell_type": "markdown",
      "metadata": {
        "id": "ERWqxBgBnbj6",
        "colab_type": "text"
      },
      "source": [
        "# バッチ正規化"
      ]
    },
    {
      "cell_type": "code",
      "metadata": {
        "id": "Qkye-QIQneY9",
        "colab_type": "code",
        "colab": {}
      },
      "source": [
        "from keras.layers import Flatten\n",
        "from keras.layers.normalization import BatchNormalization\n",
        "\n",
        "# CNNモデルの定義\n",
        "model = Sequential()\n",
        "\n",
        "model.add(Conv2D(64, input_shape=(32, 32, 3),\n",
        "                 kernel_size=(4, 4),\n",
        "                 strides=(1, 1),\n",
        "                 padding='same'))\n",
        "# 畳み込み後バッチ正則化\n",
        "model.add(BatchNormalization())\n",
        "model.add(MaxPool2D(pool_size=(2, 2)))\n",
        "model.add(Activation('relu'))\n",
        "\n",
        "model.add(Conv2D(128,\n",
        "                 kernel_size=(4, 4),\n",
        "                 strides=(1, 1),\n",
        "                 padding='same'))\n",
        "model.add(BatchNormalization())\n",
        "model.add(MaxPool2D(pool_size=(2, 2)))\n",
        "model.add(Activation('relu'))\n",
        "\n",
        "model.add(Conv2D(128,\n",
        "                 kernel_size=(4, 4),\n",
        "                 strides=(1, 1),\n",
        "                 padding='same'))\n",
        "model.add(BatchNormalization())\n",
        "model.add(MaxPool2D(pool_size=(2, 2)))\n",
        "model.add(Activation('relu'))\n",
        "\n",
        "\n",
        "model.add(Flatten())\n",
        "model.add(Dense(512))\n",
        "model.add(Activation('relu'))\n",
        "model.add(Dense(5))\n",
        "model.add(Activation('softmax'))"
      ],
      "execution_count": 0,
      "outputs": []
    },
    {
      "cell_type": "markdown",
      "metadata": {
        "id": "kCbRzT7IoBug",
        "colab_type": "text"
      },
      "source": [
        "# 活性化関数の変更"
      ]
    },
    {
      "cell_type": "code",
      "metadata": {
        "id": "Mpe2qy6ioCkJ",
        "colab_type": "code",
        "colab": {}
      },
      "source": [
        "# ニューラルネットワークの定義\n",
        "# 4層のDeep Neural Network\n",
        "\n",
        "model = Sequential()\n",
        "model.add(Dense(900, input_dim=784))\n",
        "# シグモイド関数を利用する場合\n",
        "model.add(Activation('sigmoid'))\n",
        "\n",
        "model.add(Dense(1000))\n",
        "# ReLUを利用する場合\n",
        "model.add(Activation('relu'))\n",
        "\n",
        "model.add(Dense(500))\n",
        "# ReLUを利用する場合\n",
        "model.add(Activation('relu'))\n",
        "\n",
        "model.add(Dense(10))\n",
        "model.add(Activation('softmax'))"
      ],
      "execution_count": 0,
      "outputs": []
    },
    {
      "cell_type": "markdown",
      "metadata": {
        "id": "s7whIp_uoMbi",
        "colab_type": "text"
      },
      "source": [
        "# 最適化アルゴリズムの選択"
      ]
    },
    {
      "cell_type": "code",
      "metadata": {
        "id": "G0Ia-wpTop0x",
        "colab_type": "code",
        "colab": {}
      },
      "source": [
        "from keras import optimizers"
      ],
      "execution_count": 0,
      "outputs": []
    },
    {
      "cell_type": "code",
      "metadata": {
        "id": "b7zwgjiiosLN",
        "colab_type": "code",
        "colab": {}
      },
      "source": [
        "# SGDを利用\n",
        "# lr: 0以上の浮動小数点数．学習率\n",
        "optimizer_1 = optimizers.SGD(lr=0.01) \n",
        "\n",
        "# MomentumSGDを利用\n",
        "# lr: 0以上の浮動小数点数．学習率．\n",
        "# momentum: 0以上の浮動小数点数．慣性項の係数\n",
        "optimizer_2 = optimizers.SGD(lr=0.01, momentum=0.9)\n",
        "\n",
        "# NesterovSGD\n",
        "# lr: 0以上の浮動小数点数．学習率．\n",
        "# momentum: 0以上の浮動小数点数．慣性項の係数\n",
        "# nesterov: 真理値. Nesterov momentumを適用するかどうか．\n",
        "optimizer_3 = optimizers.SGD(lr=0.01, momentum=0.9, nesterov=True)\n",
        "\n",
        "# AdaGradを利用\n",
        "# lr: 0以上の浮動小数点数．学習率の初期値．\n",
        "# epsilon: 0以上の浮動小数点数．分母を0にしないための定数. （NoneならばデフォルトでK.epsilon（）。K.epsilon（）はKeras側で定義されている微小量）\n",
        "optimizer_4 = optimizers.Adagrad(lr=0.001, epsilon=1e-08)\n",
        "\n",
        "# RMSPropを利用\n",
        "# lr: 0以上の浮動小数点数．学習率の初期値．\n",
        "# rho: 0以上の浮動小数点数．指数移動平均のバランス. 上の式でのα.\n",
        "# epsilon: 0以上の浮動小数点数．分母を0にしないための定数.（NoneならばデフォルトでK.epsilon（））\n",
        "optimizer_5 = optimizers.RMSprop(lr=0.01, rho=0.99, epsilon=1e-08)\n",
        "\n",
        "# AdaDeltaを利用\n",
        "# lr: 0以上の浮動小数点数．学習率． デフォルト値を推奨します．\n",
        "# rho: 0以上の浮動小数点数．指数移動平均のバランス.\n",
        "# epsilon: 0以上の浮動小数点数．分母を0にしないための定数.（NoneならばデフォルトでK.epsilon（））\n",
        "optimizer_6 = optimizers.Adadelta(rho=0.95, epsilon=1e-06)\n",
        "\n",
        "# Adamを利用\n",
        "# lr: 0以上の浮動小数点数．学習率．\n",
        "# beta_1: 浮動小数点数, 慣性項の係数. 0 < beta < 1. 一般的に1に近い値です．\n",
        "# beta_2: 浮動小数点数, 指数移動平均のバランス. 0 < beta < 1. 一般的に1に近い値です．\n",
        "# epsilon: 0以上の浮動小数点数．分母を0にしないための定数.（NoneならばデフォルトでK.epsilon（））\n",
        "optimizer_7 = optimizers.Adam(lr=0.001, beta_1=0.9, beta_2=0.999, epsilon=1e-08)"
      ],
      "execution_count": 0,
      "outputs": []
    }
  ]
}