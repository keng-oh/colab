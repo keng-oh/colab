{
  "nbformat": 4,
  "nbformat_minor": 0,
  "metadata": {
    "colab": {
      "name": "clustering.ipynb",
      "version": "0.3.2",
      "provenance": [],
      "collapsed_sections": [],
      "include_colab_link": true
    },
    "kernelspec": {
      "name": "python3",
      "display_name": "Python 3"
    }
  },
  "cells": [
    {
      "cell_type": "markdown",
      "metadata": {
        "id": "view-in-github",
        "colab_type": "text"
      },
      "source": [
        "<a href=\"https://colab.research.google.com/github/keng-oh/colab/blob/master/clustering.ipynb\" target=\"_parent\"><img src=\"https://colab.research.google.com/assets/colab-badge.svg\" alt=\"Open In Colab\"/></a>"
      ]
    },
    {
      "cell_type": "markdown",
      "metadata": {
        "id": "DP23TfOn2XAy",
        "colab_type": "text"
      },
      "source": [
        "# クラスタリング\n",
        "## k-means法の実装"
      ]
    },
    {
      "cell_type": "code",
      "metadata": {
        "id": "rUBgL9bH2M-3",
        "colab_type": "code",
        "outputId": "a9914010-9c9e-4dc7-9939-d190d24212f6",
        "colab": {
          "base_uri": "https://localhost:8080/",
          "height": 269
        }
      },
      "source": [
        "# 不要な警告を非表示にする\n",
        "import warnings\n",
        "warnings.filterwarnings('ignore')\n",
        "\n",
        "# irisデータのロード\n",
        "from sklearn.datasets import load_iris\n",
        "import numpy as np\n",
        "iris = load_iris()\n",
        "X = iris.data\n",
        "y = iris.target # クラスラベルは今回は未知とする\n",
        "\n",
        "# データの標準化\n",
        "from sklearn.preprocessing import StandardScaler\n",
        "scaler = StandardScaler()\n",
        "scaler.fit(X)\n",
        "X_std = scaler.fit_transform(X)\n",
        "\n",
        "# 主成分分析の実行\n",
        "from sklearn.decomposition import PCA\n",
        "pca = PCA(n_components=4)\n",
        "X_pca = pca.fit_transform(X_std)\n",
        "\n",
        "# k-means法を実行\n",
        "from sklearn.cluster import KMeans\n",
        "km = KMeans(n_clusters=3,  # クラスタの個数を指定\n",
        "            init='random',           # セントロイドの初期値の決め方を決定\n",
        "            n_init=10,                # 異なるセントロイドの初期値を用いての実行回数\n",
        "            max_iter=300,         # ひとつのセントロイドを用いたときの最大イテレーション回数\n",
        "            tol=1e-04,               # 収束と判定するための相対的な許容誤差\n",
        "            random_state=0,     # セントロイドの初期化に用いる乱数生成器の状態\n",
        "           )\n",
        "\n",
        "# クラスラベルを予測\n",
        "y_km = km.fit_predict(X_pca[:, 0:2])\n",
        "\n",
        "# クラスタリングの結果を出力\n",
        "import matplotlib.pyplot as plt\n",
        "%matplotlib inline\n",
        "\n",
        "# クラスタリングの結果をプロットする関数\n",
        "# (クラスタの数, 学習器, 学習データ)\n",
        "def kmeans_plot(n_clusters, km, X):\n",
        "    # クラスタの予測値を算出\n",
        "    y_km = km.fit_predict(X)\n",
        "    \n",
        "    # クラスタごとに散布図をプロット\n",
        "    # 5クラスまでプロットできる\n",
        "    for i, color, marker in zip(range(n_clusters), 'rgbcm', '>o+xv'):\n",
        "        plt.scatter(X[y_km==i, 0],            # 横軸の値\n",
        "                    X[y_km==i, 1],            # 縦軸の値\n",
        "                    color=color,              # プロットの色\n",
        "                    marker=marker,            # プロットの形\n",
        "                    label='cluster ' + str(i) # ラベル\n",
        "                   )\n",
        "    \n",
        "    # クラスタの中心をプロット\n",
        "    plt.scatter(km.cluster_centers_[:, 0],    # 横軸の値\n",
        "                km.cluster_centers_[:, 1],    # 縦軸の値\n",
        "                color='y',                    # プロットの色\n",
        "                marker='*',                   # プロットの形\n",
        "                label='centroids',            # ラベル\n",
        "                s=300,                        # プロットのサイズを大きくして見やすくする\n",
        "               )\n",
        "    \n",
        "    plt.legend()\n",
        "    plt.grid()\n",
        "    plt.show()\n",
        "    \n",
        "# プロットを実行\n",
        "kmeans_plot(3, km, X_pca[:, 0:2])"
      ],
      "execution_count": 0,
      "outputs": [
        {
          "output_type": "display_data",
          "data": {
            "image/png": "[encoded data removed]",
            "text/plain": [
              "<Figure size 432x288 with 1 Axes>"
            ]
          },
          "metadata": {
            "tags": []
          }
        }
      ]
    },
    {
      "cell_type": "code",
      "metadata": {
        "id": "hceatg5DbLwL",
        "colab_type": "code",
        "outputId": "bf0af269-1954-4e77-ca6e-a7ba23c33c5b",
        "colab": {
          "base_uri": "https://localhost:8080/",
          "height": 136
        }
      },
      "source": [
        "# y_kmを確認\n",
        "y_km"
      ],
      "execution_count": 0,
      "outputs": [
        {
          "output_type": "execute_result",
          "data": {
            "text/plain": [
              "array([0, 0, 0, 0, 0, 0, 0, 0, 0, 0, 0, 0, 0, 0, 0, 0, 0, 0, 0, 0, 0, 0,\n",
              "       0, 0, 0, 0, 0, 0, 0, 0, 0, 0, 0, 0, 0, 0, 0, 0, 0, 0, 0, 0, 0, 0,\n",
              "       0, 0, 0, 0, 0, 0, 1, 1, 1, 2, 2, 2, 1, 2, 2, 2, 2, 2, 2, 2, 2, 1,\n",
              "       2, 2, 2, 2, 1, 2, 2, 2, 2, 1, 1, 1, 2, 2, 2, 2, 2, 2, 2, 1, 1, 2,\n",
              "       2, 2, 2, 2, 2, 2, 2, 2, 2, 2, 2, 2, 1, 2, 1, 1, 1, 1, 2, 1, 1, 1,\n",
              "       1, 1, 1, 2, 2, 1, 1, 1, 1, 2, 1, 2, 1, 2, 1, 1, 2, 1, 1, 1, 1, 1,\n",
              "       1, 2, 2, 1, 1, 1, 2, 1, 1, 1, 2, 1, 1, 1, 2, 1, 1, 2], dtype=int32)"
            ]
          },
          "metadata": {
            "tags": []
          },
          "execution_count": 3
        }
      ]
    },
    {
      "cell_type": "code",
      "metadata": {
        "id": "Rf0wEm-Eb_qO",
        "colab_type": "code",
        "outputId": "2ade0490-3308-4de4-c13c-1b62ab12c625",
        "colab": {
          "base_uri": "https://localhost:8080/",
          "height": 136
        }
      },
      "source": [
        "# 正解ラベルを作る\n",
        "# プロットを見ると､このときはversicolorとversinicaのlabelが逆になっている\n",
        "# 両者のラベルを入れ替えて､正解ラベルをつくる\n",
        "y_correct = np.hstack((y[0:50], y[100:150]))\n",
        "y_correct = np.hstack((y_correct, y[50:100]))\n",
        "y_correct"
      ],
      "execution_count": 0,
      "outputs": [
        {
          "output_type": "execute_result",
          "data": {
            "text/plain": [
              "array([0, 0, 0, 0, 0, 0, 0, 0, 0, 0, 0, 0, 0, 0, 0, 0, 0, 0, 0, 0, 0, 0,\n",
              "       0, 0, 0, 0, 0, 0, 0, 0, 0, 0, 0, 0, 0, 0, 0, 0, 0, 0, 0, 0, 0, 0,\n",
              "       0, 0, 0, 0, 0, 0, 2, 2, 2, 2, 2, 2, 2, 2, 2, 2, 2, 2, 2, 2, 2, 2,\n",
              "       2, 2, 2, 2, 2, 2, 2, 2, 2, 2, 2, 2, 2, 2, 2, 2, 2, 2, 2, 2, 2, 2,\n",
              "       2, 2, 2, 2, 2, 2, 2, 2, 2, 2, 2, 2, 1, 1, 1, 1, 1, 1, 1, 1, 1, 1,\n",
              "       1, 1, 1, 1, 1, 1, 1, 1, 1, 1, 1, 1, 1, 1, 1, 1, 1, 1, 1, 1, 1, 1,\n",
              "       1, 1, 1, 1, 1, 1, 1, 1, 1, 1, 1, 1, 1, 1, 1, 1, 1, 1])"
            ]
          },
          "metadata": {
            "tags": []
          },
          "execution_count": 4
        }
      ]
    },
    {
      "cell_type": "code",
      "metadata": {
        "id": "Kd3YFhddcCN7",
        "colab_type": "code",
        "outputId": "8d59fd5e-7e41-4c6e-a245-d71bd3583671",
        "colab": {
          "base_uri": "https://localhost:8080/",
          "height": 34
        }
      },
      "source": [
        "# 正答数を累積\n",
        "correct_ans = 0\n",
        "for i in range(len(y_correct)):\n",
        "    if y_km[i] == y_correct[i]:\n",
        "        correct_ans += 1\n",
        "\n",
        "# 正答率を出力\n",
        "correct_ans / len(y)"
      ],
      "execution_count": 0,
      "outputs": [
        {
          "output_type": "execute_result",
          "data": {
            "text/plain": [
              "0.8333333333333334"
            ]
          },
          "metadata": {
            "tags": []
          },
          "execution_count": 5
        }
      ]
    },
    {
      "cell_type": "markdown",
      "metadata": {
        "id": "s8IoMChLc55h",
        "colab_type": "text"
      },
      "source": [
        "# k-means法の弱点と対策\n",
        "## 超球状でないクラスタや､サンプル数の異なるクラスタの検出が苦手"
      ]
    },
    {
      "cell_type": "code",
      "metadata": {
        "id": "z4vptpQFc4GL",
        "colab_type": "code",
        "outputId": "9c2a175c-7db0-44f0-fb77-23daeccb025b",
        "colab": {
          "base_uri": "https://localhost:8080/",
          "height": 269
        }
      },
      "source": [
        "# 超球上でないクラスタを作成\n",
        "\n",
        "# サンプル数50の超球状のクラスタを生成\n",
        "from sklearn.datasets import make_blobs\n",
        "X_1, _ = make_blobs(n_samples=50,\n",
        "                 n_features=2,\n",
        "                 centers=1,\n",
        "                 cluster_std=0.4,\n",
        "                 center_box=[0, -2],\n",
        "                 random_state=6\n",
        "                )\n",
        "\n",
        "# サンプル数50の超球状のクラスタを生成\n",
        "X_2, _ = make_blobs(n_samples=50,\n",
        "                 n_features=2,\n",
        "                 centers=1,\n",
        "                 cluster_std=0.4,\n",
        "                 center_box=[0, 2],\n",
        "                 random_state=9\n",
        "                )\n",
        "\n",
        "# サンプル数50の細長いクラスタを生成\n",
        "from numpy.random import *\n",
        "seed(2)\n",
        "X_31 = np.array([i/15 for i in range(-50, 0)])\n",
        "X_32 = np.array([0.5*float(i) + 2 + float(randint(100))/100 for i in X_31])\n",
        "X_3 = np.hstack((X_31.reshape(-1, 1), X_32.reshape(-1, 1)))\n",
        "\n",
        "# 2種類のクラスタを色分けして表示\n",
        "plt.scatter(X_1[:, 0], X_1[:, 1], c='r', marker='s', s=50)\n",
        "plt.scatter(X_2[:, 0], X_2[:, 1], c='y', marker='o', s=50)\n",
        "plt.scatter(X_3[:, 0], X_3[:, 1], c='b', marker='x', s=50)\n",
        "plt.show()"
      ],
      "execution_count": 0,
      "outputs": [
        {
          "output_type": "display_data",
          "data": {
            "image/png": "[encoded data removed]",
            "text/plain": [
              "<Figure size 432x288 with 1 Axes>"
            ]
          },
          "metadata": {
            "tags": []
          }
        }
      ]
    },
    {
      "cell_type": "code",
      "metadata": {
        "id": "_ijtP2HDdGbj",
        "colab_type": "code",
        "outputId": "8606b215-2c31-4caa-ea63-fc31aafd57db",
        "colab": {
          "base_uri": "https://localhost:8080/",
          "height": 269
        }
      },
      "source": [
        "# 生成したクラスタのデータを統合\n",
        "X = np.vstack((X_1, X_2))\n",
        "X = np.vstack((X, X_3))\n",
        "\n",
        "# k-means法を実行\n",
        "from sklearn.cluster import KMeans\n",
        "km = KMeans(n_clusters=3,   # クラスタの個数を指定\n",
        "            init='random',  # セントロイドの初期値の決め方を決定\n",
        "            n_init=10,      # 異なるセントロイドの初期値を用いた実行回数\n",
        "            max_iter=300,   # ひとつのセントロイドを用いたときの最大イテレーション回数\n",
        "            tol=1e-04,      # 収束と判定するための相対的な許容誤差\n",
        "            random_state=0, # セントロイドの初期化に用いる乱数生成器の状態\n",
        "           )\n",
        "\n",
        "# クラスラベルを予測\n",
        "y_km = km.fit_predict(X)\n",
        "\n",
        "# プロットを実行\n",
        "# 大きなクラスタのところに､小さなクラスタが食い込んでしまっているのがわかる\n",
        "kmeans_plot(3, km, X)"
      ],
      "execution_count": 0,
      "outputs": [
        {
          "output_type": "display_data",
          "data": {
            "image/png": "[encoded data removed]",
            "text/plain": [
              "<Figure size 432x288 with 1 Axes>"
            ]
          },
          "metadata": {
            "tags": []
          }
        }
      ]
    },
    {
      "cell_type": "markdown",
      "metadata": {
        "id": "ViLL4W-xdRRf",
        "colab_type": "text"
      },
      "source": [
        "## クラスタ内のサンプル数が大きく異なる場合"
      ]
    },
    {
      "cell_type": "code",
      "metadata": {
        "id": "ciXA34XSdP5t",
        "colab_type": "code",
        "outputId": "3196293f-23ab-47d4-894c-d333ac3488ed",
        "colab": {
          "base_uri": "https://localhost:8080/",
          "height": 269
        }
      },
      "source": [
        "# サンプル数が大きく異なるクラスタを生成\n",
        "from sklearn.datasets import make_blobs\n",
        "\n",
        "# サンプル数25のクラスタを2つ生成\n",
        "X_1, _ = make_blobs(n_samples=50,\n",
        "                 n_features=2,\n",
        "                 centers=2,\n",
        "                 cluster_std=0.5,\n",
        "                 random_state=3\n",
        "                )\n",
        "\n",
        "# サンプル数300のクラスタを1つ生成\n",
        "X_2, _ = make_blobs(n_samples=300,\n",
        "                 n_features=2,\n",
        "                 centers=1,\n",
        "                 cluster_std=1.0,\n",
        "                 center_box=(-5, 5),\n",
        "                 random_state=5\n",
        "                )\n",
        "\n",
        "# 2種類のクラスタを色分けして表示\n",
        "plt.scatter(X_1[:, 0], X_1[:, 1], c='y', marker='o', s=50)\n",
        "plt.scatter(X_2[:, 0], X_2[:, 1], c='b', marker='x', s=50)\n",
        "plt.show()"
      ],
      "execution_count": 0,
      "outputs": [
        {
          "output_type": "display_data",
          "data": {
            "image/png": "[encoded data removed]",
            "text/plain": [
              "<Figure size 432x288 with 1 Axes>"
            ]
          },
          "metadata": {
            "tags": []
          }
        }
      ]
    },
    {
      "cell_type": "code",
      "metadata": {
        "id": "H9Yp4BmidWrB",
        "colab_type": "code",
        "outputId": "b3d0f55a-4e24-4614-9b77-8b581cf61b09",
        "colab": {
          "base_uri": "https://localhost:8080/",
          "height": 269
        }
      },
      "source": [
        "# 生成したクラスタのデータを統合\n",
        "X_blobs = np.vstack((X_1, X_2))\n",
        "\n",
        "# k-means法を実行\n",
        "from sklearn.cluster import KMeans\n",
        "km = KMeans(n_clusters=3,   # クラスタの個数を指定\n",
        "            init='random',  # セントロイドの初期値の決め方を決定\n",
        "            n_init=10,      # 異なるセントロイドの初期値を用いた実行回数\n",
        "            max_iter=300,   # ひとつのセントロイドを用いたときの最大イテレーション回数\n",
        "            tol=1e-04,      # 収束と判定するための相対的な許容誤差\n",
        "            random_state=0, # セントロイドの初期化に用いる乱数生成器の状態\n",
        "           )\n",
        "\n",
        "# クラスラベルを予測\n",
        "y_km = km.fit_predict(X_blobs)\n",
        "\n",
        "# プロットを実行\n",
        "kmeans_plot(3, km, X_blobs)"
      ],
      "execution_count": 0,
      "outputs": [
        {
          "output_type": "display_data",
          "data": {
            "image/png": "[encoded data removed]",
            "text/plain": [
              "<Figure size 432x288 with 1 Axes>"
            ]
          },
          "metadata": {
            "tags": []
          }
        }
      ]
    },
    {
      "cell_type": "markdown",
      "metadata": {
        "id": "7vw8Nen2eFiT",
        "colab_type": "text"
      },
      "source": [
        "## クラスタの数 k を自分で決めなければならない"
      ]
    },
    {
      "cell_type": "code",
      "metadata": {
        "id": "G030_6efeLRy",
        "colab_type": "code",
        "outputId": "ca3d0b80-9c4e-481b-885f-c5c31d96be67",
        "colab": {
          "base_uri": "https://localhost:8080/",
          "height": 283
        }
      },
      "source": [
        "# エルボー法による､適切なkの値の確認\n",
        "\n",
        "# 各kで算出されたSSEを格納するリストを定義\n",
        "distortions = []\n",
        "\n",
        "# kを変えながらk-means法を実行\n",
        "for k  in range(1,11):              # 1~10クラスタまで繰り返し計算 \n",
        "    km = KMeans(n_clusters=k,       # クラスタの数をk個に指定\n",
        "                init='random',   # セントロイドの初期値をk-means++法で設定\n",
        "                n_init=10,          # セントロイドの初期値を変えての繰り返し回数を指定\n",
        "                max_iter=300,       # 一回の最適化の繰り返し回数を指定\n",
        "                random_state=0)     # 乱数の生成状態を指定\n",
        "    \n",
        "    km.fit(X_pca[:, 0:2])                       # クラスタリングの計算を実行\n",
        "    distortions.append(km.inertia_) # SSEをリストに格納していく\n",
        "\n",
        "# 結果を散布図に出力\n",
        "plt.plot(range(1,11), distortions,marker='o') # 1から10までのSSEを順にプロット\n",
        "plt.xticks([i for i in range(1, 11)])         # 横軸のメモリを1から10までの1刻みに設定\n",
        "plt.xlabel('Number of clusters')\n",
        "plt.ylabel('Distortion')\n",
        "plt.show()"
      ],
      "execution_count": 0,
      "outputs": [
        {
          "output_type": "display_data",
          "data": {
            "image/png": "[encoded data removed]",
            "text/plain": [
              "<Figure size 432x288 with 1 Axes>"
            ]
          },
          "metadata": {
            "tags": []
          }
        }
      ]
    },
    {
      "cell_type": "code",
      "metadata": {
        "id": "OCBzVltjfmTV",
        "colab_type": "code",
        "colab": {}
      },
      "source": [
        "# シルエット分析\n",
        "\n",
        "# k-means法を実行\n",
        "# 3クラスタに分ける\n",
        "from sklearn.cluster import KMeans\n",
        "km = KMeans(n_clusters=3,   # クラスタの個数を指定\n",
        "            init='random',  # セントロイドの初期値の決め方を決定\n",
        "            n_init=10,      # 異なるセントロイドの初期値を用いた実行回数\n",
        "            max_iter=300,   # ひとつのセントロイドを用いたときの最大イテレーション回数\n",
        "            tol=1e-04,      # 収束と判定するための相対的な許容誤差\n",
        "            random_state=0, # セントロイドの初期化に用いる乱数生成器の状態\n",
        "           )\n",
        "\n",
        "# クラスラベルを予測\n",
        "y_km = km.fit_predict(X_pca[:, 0:2])"
      ],
      "execution_count": 0,
      "outputs": []
    },
    {
      "cell_type": "code",
      "metadata": {
        "id": "A8d0YSbJftZK",
        "colab_type": "code",
        "outputId": "d20a1328-5426-422c-d023-fe0775ab4fcd",
        "colab": {
          "base_uri": "https://localhost:8080/",
          "height": 527
        }
      },
      "source": [
        "from sklearn.metrics import silhouette_samples\n",
        "\n",
        "# 全サンプルのシルエット係数を計算\n",
        "# (X, y_km, 利用する距離の種類)\n",
        "# 'euclidiean' はユークリッド距離\n",
        "s = silhouette_samples(X_pca[:, 0:2], y_km, metric='euclidean')\n",
        "\n",
        "# シルエット係数を確認\n",
        "s"
      ],
      "execution_count": 0,
      "outputs": [
        {
          "output_type": "execute_result",
          "data": {
            "text/plain": [
              "array([0.74854729, 0.58305935, 0.68967131, 0.63471634, 0.74018336,\n",
              "       0.6173363 , 0.73559557, 0.74569985, 0.49571272, 0.65164057,\n",
              "       0.69177451, 0.74363842, 0.59211546, 0.5584545 , 0.57175234,\n",
              "       0.45920715, 0.63136612, 0.74386004, 0.60249249, 0.69122245,\n",
              "       0.69920148, 0.70910224, 0.72140149, 0.65239653, 0.74010498,\n",
              "       0.56181597, 0.72442514, 0.74006849, 0.74047161, 0.68500069,\n",
              "       0.63713228, 0.67628776, 0.59879231, 0.54368425, 0.64109494,\n",
              "       0.69942423, 0.71457845, 0.73840669, 0.56510926, 0.7426258 ,\n",
              "       0.75018755, 0.07009961, 0.66386222, 0.71003719, 0.67549658,\n",
              "       0.5700876 , 0.69278128, 0.6827922 , 0.70263422, 0.72610171,\n",
              "       0.46198339, 0.21801337, 0.48230408, 0.56888632, 0.18630657,\n",
              "       0.58778126, 0.28896616, 0.42968724, 0.06976405, 0.61179026,\n",
              "       0.43636388, 0.37555161, 0.55695232, 0.3712984 , 0.53109867,\n",
              "       0.26214009, 0.46065016, 0.61278171, 0.45906095, 0.61766171,\n",
              "       0.10475938, 0.53543074, 0.43281009, 0.50734246, 0.29342383,\n",
              "       0.08054818, 0.06484906, 0.43463482, 0.41423665, 0.60594306,\n",
              "       0.59441239, 0.58769862, 0.616215  , 0.43777106, 0.50482694,\n",
              "       0.15620881, 0.36489424, 0.51469571, 0.47439118, 0.61831535,\n",
              "       0.62829219, 0.25797696, 0.62843401, 0.45590447, 0.6236715 ,\n",
              "       0.46034942, 0.5375872 , 0.39977265, 0.46246825, 0.59059778,\n",
              "       0.62720074, 0.41536993, 0.59503386, 0.22470777, 0.54407397,\n",
              "       0.53576781, 0.59476274, 0.56132046, 0.02713972, 0.50103045,\n",
              "       0.5381487 , 0.00345245, 0.58369394, 0.44735593, 0.07959047,\n",
              "       0.59218027, 0.4433539 , 0.43089403, 0.36661602, 0.44465233,\n",
              "       0.62442078, 0.45086095, 0.47963989, 0.20811845, 0.60674203,\n",
              "       0.62026452, 0.20273556, 0.00873829, 0.28128663, 0.61191206,\n",
              "       0.51082129, 0.4242129 , 0.30897031, 0.22793492, 0.42362318,\n",
              "       0.53013334, 0.58515309, 0.46774261, 0.08793497, 0.62463927,\n",
              "       0.61747783, 0.62699295, 0.41536993, 0.62575954, 0.61516257,\n",
              "       0.57431914, 0.26034112, 0.46683796, 0.5482502 , 0.10175327])"
            ]
          },
          "metadata": {
            "tags": []
          },
          "execution_count": 12
        }
      ]
    },
    {
      "cell_type": "code",
      "metadata": {
        "id": "nxHyyquzfzPq",
        "colab_type": "code",
        "outputId": "13e79d32-f0c8-4468-ef75-7cda389ff394",
        "colab": {
          "base_uri": "https://localhost:8080/",
          "height": 34
        }
      },
      "source": [
        "# サンプル数と同じ150個のシルエット係数が算出されていることを確認\n",
        "len(s)"
      ],
      "execution_count": 0,
      "outputs": [
        {
          "output_type": "execute_result",
          "data": {
            "text/plain": [
              "150"
            ]
          },
          "metadata": {
            "tags": []
          },
          "execution_count": 13
        }
      ]
    },
    {
      "cell_type": "code",
      "metadata": {
        "id": "LksZ-PxEf26Y",
        "colab_type": "code",
        "outputId": "36912ce9-383a-4775-d766-40dab7b1153a",
        "colab": {
          "base_uri": "https://localhost:8080/",
          "height": 283
        }
      },
      "source": [
        "# シルエット図を出力\n",
        "from matplotlib import cm\n",
        "\n",
        "# シルエット図を出力する関数を定義\n",
        "def draw_silhouettes(X, y_km):\n",
        "    cluster_labels = np.unique(y_km)                     # クラスラベルを重複なく抽出\n",
        "    n_clusters = cluster_labels.shape[0]                 # クラスタの数を算出\n",
        "\n",
        "    # シルエット係数を計算\n",
        "    # (X, y_km, 距離の種類)\n",
        "    s = silhouette_samples(X, y_km, metric='euclidean')\n",
        "\n",
        "    # 各ラベルごとにシルエット図を描画\n",
        "    y_ax_lower, y_ax_upper= 0, 0                         # シルエット図の上端と下端の初期値を設定\n",
        "    yticks = []                                          # 縦軸のメモリ位置を格納するリストを生成\n",
        "    for i, label in enumerate(cluster_labels):\n",
        "            label_s = s[y_km==label]                     # 該当するクラスタについて､シルエット係数を算出\n",
        "            label_s.sort()                               # シルエット係数を小さい順に並べ替える\n",
        "            y_ax_upper += len(label_s)                   # シルエット図の上端を､サンプルの数だけ引き上げる\n",
        "            color = cm.jet(float(i) / n_clusters)        # color mapから色を取得\n",
        "            plt.barh(range(y_ax_lower, y_ax_upper),      # 横軸の範囲を指定\n",
        "                             label_s,                    # バーの幅を指定\n",
        "                             height=1.0,                 # バーの厚みを指\n",
        "                             color=color)                # バーの色を指定\n",
        "            yticks.append((y_ax_lower + y_ax_upper) / 2) # クラスタラベルの表示位置を追加\n",
        "            y_ax_lower += len(label_s)                   # シルエット図の下端を､サンプルの数だけ引き上げる\n",
        "\n",
        "            \n",
        "    plt.axvline(np.mean(s), color=\"red\", linestyle=\"--\") # 係数の平均値に破線を引く(横軸の値, 色, 線の形式)\n",
        "    plt.yticks(yticks, cluster_labels + 1)               # クラスタレベルを表示(位置, 縦軸の値)\n",
        "    plt.ylabel('Cluster')\n",
        "    plt.xlabel('silhouette coefficient')\n",
        "    plt.show()\n",
        "\n",
        "# シルエット図を出力\n",
        "draw_silhouettes(X_pca[:, 0:2], y_km)"
      ],
      "execution_count": 0,
      "outputs": [
        {
          "output_type": "display_data",
          "data": {
            "image/png": "[encoded data removed]",
            "text/plain": [
              "<Figure size 432x288 with 1 Axes>"
            ]
          },
          "metadata": {
            "tags": []
          }
        }
      ]
    },
    {
      "cell_type": "code",
      "metadata": {
        "id": "uPDO2fsugRNL",
        "colab_type": "code",
        "outputId": "8553e7a8-c300-4f57-f940-0aa43f2ea6bc",
        "colab": {
          "base_uri": "https://localhost:8080/",
          "height": 283
        }
      },
      "source": [
        "# クラスタリングが適切でない場合のシルエット図\n",
        "\n",
        "# k-means法を実行\n",
        "# 2クラスタに分ける\n",
        "from sklearn.cluster import KMeans\n",
        "km = KMeans(n_clusters=2,   # クラスタの個数を指定\n",
        "            init='random',  # セントロイドの初期値の決め方を決定\n",
        "            n_init=10,      # 異なるセントロイドの初期値を用いた実行回数\n",
        "            max_iter=300,   # ひとつのセントロイドを用いたときの最大イテレーション回数\n",
        "            tol=1e-04,      # 収束と判定するための相対的な許容誤差\n",
        "            random_state=0, # セントロイドの初期化に用いる乱数生成器の状態\n",
        "           )\n",
        "y_km = km.fit_predict(X_pca[:, 0:2])\n",
        "\n",
        "# シルエット図を描画\n",
        "draw_silhouettes(X_pca[:, 0:2], y_km)"
      ],
      "execution_count": 0,
      "outputs": [
        {
          "output_type": "display_data",
          "data": {
            "image/png": "[encoded data removed]",
            "text/plain": [
              "<Figure size 432x288 with 1 Axes>"
            ]
          },
          "metadata": {
            "tags": []
          }
        }
      ]
    },
    {
      "cell_type": "code",
      "metadata": {
        "id": "PTq2l2y6gcIp",
        "colab_type": "code",
        "outputId": "9c9b9364-7273-4d12-b647-eec8ffd14432",
        "colab": {
          "base_uri": "https://localhost:8080/",
          "height": 283
        }
      },
      "source": [
        "# k-means法を実行\n",
        "# 4クラスタに分ける\n",
        "from sklearn.cluster import KMeans\n",
        "km = KMeans(n_clusters=4,   # クラスタの個数を指定\n",
        "            init='random',  # セントロイドの初期値の決め方を決定\n",
        "            n_init=10,      # 異なるセントロイドの初期値を用いた実行回数\n",
        "            max_iter=300,   # ひとつのセントロイドを用いたときの最大イテレーション回数\n",
        "            tol=1e-04,      # 収束と判定するための相対的な許容誤差\n",
        "            random_state=0, # セントロイドの初期化に用いる乱数生成器の状態\n",
        "           )\n",
        "y_km = km.fit_predict(X_pca[:, 0:2])\n",
        "\n",
        "# シルエット図を描画\n",
        "draw_silhouettes(X_pca[:, 0:2], y_km)"
      ],
      "execution_count": 0,
      "outputs": [
        {
          "output_type": "display_data",
          "data": {
            "image/png": "[encoded data removed]",
            "text/plain": [
              "<Figure size 432x288 with 1 Axes>"
            ]
          },
          "metadata": {
            "tags": []
          }
        }
      ]
    }
  ]
}