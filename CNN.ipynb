{
  "nbformat": 4,
  "nbformat_minor": 0,
  "metadata": {
    "colab": {
      "name": "CNN.ipynb",
      "version": "0.3.2",
      "provenance": [],
      "collapsed_sections": [],
      "include_colab_link": true
    },
    "kernelspec": {
      "name": "python3",
      "display_name": "Python 3"
    }
  },
  "cells": [
    {
      "cell_type": "markdown",
      "metadata": {
        "id": "view-in-github",
        "colab_type": "text"
      },
      "source": [
        "<a href=\"https://colab.research.google.com/github/keng-oh/colab/blob/master/CNN.ipynb\" target=\"_parent\"><img src=\"https://colab.research.google.com/assets/colab-badge.svg\" alt=\"Open In Colab\"/></a>"
      ]
    },
    {
      "cell_type": "markdown",
      "metadata": {
        "id": "psi1hfUFbtac",
        "colab_type": "text"
      },
      "source": [
        "# CNN 画像処理"
      ]
    },
    {
      "cell_type": "code",
      "metadata": {
        "id": "1xuQfOsCbqWl",
        "colab_type": "code",
        "colab": {}
      },
      "source": [
        "# 必要なライブラリの読み込み\n",
        "import matplotlib.pyplot as plt\n",
        "import numpy as np\n",
        "%matplotlib inline\n",
        "\n",
        "# 不要な警告を非表示にする\n",
        "import warnings\n",
        "warnings.filterwarnings('ignore')"
      ],
      "execution_count": 0,
      "outputs": []
    },
    {
      "cell_type": "code",
      "metadata": {
        "id": "HKSENrINqn9l",
        "colab_type": "code",
        "outputId": "4cc77d32-9bcc-4482-a3c1-31f0b5bb61aa",
        "colab": {
          "base_uri": "https://localhost:8080/",
          "height": 34
        }
      },
      "source": [
        "# データセットのダウンロード\n",
        "# 2回目以降は実行する必要はありません\n",
        "from urllib import request\n",
        "\n",
        "# trainデータのダウンロード\n",
        "url = 'http://dv129ryj03col.cloudfront.net/train.pickle'\n",
        "request.urlretrieve(url, 'train.pickle')\n",
        "\n",
        "# testデータのダウンロード\n",
        "url = 'http://dv129ryj03col.cloudfront.net/test.pickle'\n",
        "request.urlretrieve(url, 'test.pickle')\n",
        "\n",
        "# ラベルデータのダウンロード\n",
        "url = 'http://dv129ryj03col.cloudfront.net/label.pickle'\n",
        "request.urlretrieve(url, 'label.pickle')"
      ],
      "execution_count": 0,
      "outputs": [
        {
          "output_type": "execute_result",
          "data": {
            "text/plain": [
              "('label.pickle', <http.client.HTTPMessage at 0x7fb493b558d0>)"
            ]
          },
          "metadata": {
            "tags": []
          },
          "execution_count": 2
        }
      ]
    },
    {
      "cell_type": "code",
      "metadata": {
        "id": "QKFke51xrFse",
        "colab_type": "code",
        "outputId": "10ef8fdb-9d83-4057-b7e8-d0e959fcd314",
        "colab": {
          "base_uri": "https://localhost:8080/",
          "height": 34
        }
      },
      "source": [
        "# pickleのサンプルプログラム\n",
        "import pickle\n",
        "\n",
        "# 適当なオブジェクトを用意\n",
        "obj = '保存されるオブジェクトです'\n",
        "\n",
        "# Pythonオブジェクトをpickleファイルとして保存\n",
        "with open('sample.pickle','wb') as f:\n",
        "    pickle.dump(obj, f) # (Pythonオブジェクト, pickleファイル)\n",
        "\n",
        "# pickleファイルをPythonオブジェクトとして読込\n",
        "with open('sample.pickle','rb') as f:\n",
        "    loaded_obj = pickle.load(f)  # (pickleファイル)\n",
        "\n",
        "# 読み込んだオブジェクトを確認\n",
        "print(loaded_obj)"
      ],
      "execution_count": 0,
      "outputs": [
        {
          "output_type": "stream",
          "text": [
            "保存されるオブジェクトです\n"
          ],
          "name": "stdout"
        }
      ]
    },
    {
      "cell_type": "code",
      "metadata": {
        "id": "CerVGb0hr5OD",
        "colab_type": "code",
        "colab": {}
      },
      "source": [
        "# pickle形式のファイルを読み込む関数\n",
        "# (保存されたpickleファイル)\n",
        "\n",
        "def unpickle(file):\n",
        "    # 保存されたpickleファイルを読み込み\n",
        "    # 'rb'は｢読み込み専用(r)｣かつ｢バイト列(b)｣を意味する\n",
        "    with open(file, 'rb') as f:\n",
        "        return pickle.load(f, encoding='bytes')"
      ],
      "execution_count": 0,
      "outputs": []
    },
    {
      "cell_type": "code",
      "metadata": {
        "id": "Ze_-5Zuxr9NQ",
        "colab_type": "code",
        "colab": {}
      },
      "source": [
        "# データの読み込みを実行\n",
        "train = unpickle('train.pickle')\n",
        "test = unpickle('test.pickle')\n",
        "label = unpickle('label.pickle')"
      ],
      "execution_count": 0,
      "outputs": []
    },
    {
      "cell_type": "code",
      "metadata": {
        "id": "GJ_k7js7sDAQ",
        "colab_type": "code",
        "outputId": "828eab9b-c8f8-44f5-c868-9e1d1e53c629",
        "colab": {
          "base_uri": "https://localhost:8080/",
          "height": 68
        }
      },
      "source": [
        "# trainデータの型を確認\n",
        "print(type(train))\n",
        "print(type(test))\n",
        "print(type(label))"
      ],
      "execution_count": 0,
      "outputs": [
        {
          "output_type": "stream",
          "text": [
            "<class 'dict'>\n",
            "<class 'dict'>\n",
            "<class 'list'>\n"
          ],
          "name": "stdout"
        }
      ]
    },
    {
      "cell_type": "code",
      "metadata": {
        "id": "sBfCeIQPsTmA",
        "colab_type": "code",
        "outputId": "e2b6d00d-29cf-4308-b50f-5f93884d5608",
        "colab": {
          "base_uri": "https://localhost:8080/",
          "height": 34
        }
      },
      "source": [
        "# クラスラベルを確認\n",
        "label"
      ],
      "execution_count": 0,
      "outputs": [
        {
          "output_type": "execute_result",
          "data": {
            "text/plain": [
              "['clock', 'cup', 'bicycle', 'television', 'chair']"
            ]
          },
          "metadata": {
            "tags": []
          },
          "execution_count": 7
        }
      ]
    },
    {
      "cell_type": "code",
      "metadata": {
        "id": "M-WDTVufsbgf",
        "colab_type": "code",
        "colab": {}
      },
      "source": [
        "# データを変数に格納\n",
        "X_train = train['data']\n",
        "y_train = train['label']\n",
        "X_test = test['data']\n",
        "y_test = test['label']"
      ],
      "execution_count": 0,
      "outputs": []
    },
    {
      "cell_type": "code",
      "metadata": {
        "id": "cQNlCVvIsd2h",
        "colab_type": "code",
        "outputId": "9f358a57-bead-4adf-a901-efb7e13729b5",
        "colab": {
          "base_uri": "https://localhost:8080/",
          "height": 34
        }
      },
      "source": [
        "# サンプル数を確認\n",
        "N_train = len(X_train)  \n",
        "N_test = len(X_test)\n",
        "\n",
        "print(N_train, N_test)"
      ],
      "execution_count": 0,
      "outputs": [
        {
          "output_type": "stream",
          "text": [
            "2500 500\n"
          ],
          "name": "stdout"
        }
      ]
    },
    {
      "cell_type": "code",
      "metadata": {
        "id": "pSh55oyHs1YE",
        "colab_type": "code",
        "outputId": "a8d0c260-08c0-44ff-f803-e3c49fc286b2",
        "colab": {
          "base_uri": "https://localhost:8080/",
          "height": 51
        }
      },
      "source": [
        "# 画像サイズを確認\n",
        "# (サンプル数, チャンネル数, 縦のピクセル数, 横のピクセル数)\n",
        "print(X_train.shape)\n",
        "print(X_test.shape)"
      ],
      "execution_count": 0,
      "outputs": [
        {
          "output_type": "stream",
          "text": [
            "(2500, 3, 32, 32)\n",
            "(500, 3, 32, 32)\n"
          ],
          "name": "stdout"
        }
      ]
    },
    {
      "cell_type": "code",
      "metadata": {
        "id": "_yrJctHfwXhV",
        "colab_type": "code",
        "colab": {}
      },
      "source": [
        "# (サンプル数, channel, height, width)を(サンプル数, height, width, channel)に変換\n",
        "X_train = X_train.transpose([0, 2, 3, 1])\n",
        "X_test = X_test.transpose([0, 2, 3, 1])"
      ],
      "execution_count": 0,
      "outputs": []
    },
    {
      "cell_type": "code",
      "metadata": {
        "id": "H6FVvPdpwcfO",
        "colab_type": "code",
        "colab": {}
      },
      "source": [
        "#Kerasに入力するためにyをOne-Hot表現に変換\n",
        "#（例：[1, 0, 2] -> [[0, 1, 0],[1, 0, 0],[0, 0, 1]])\n",
        "Y_train = np.identity(5)[y_train].astype('i')\n",
        "Y_test = np.identity(5)[y_test].astype('i')"
      ],
      "execution_count": 0,
      "outputs": []
    },
    {
      "cell_type": "code",
      "metadata": {
        "id": "G-9fK-fwwjEF",
        "colab_type": "code",
        "colab": {}
      },
      "source": [
        "# 正規化処理\n",
        "X_train /= 255.0\n",
        "X_test /= 255.0"
      ],
      "execution_count": 0,
      "outputs": []
    },
    {
      "cell_type": "code",
      "metadata": {
        "id": "-oJoplJYwpUt",
        "colab_type": "code",
        "colab": {}
      },
      "source": [
        "# trainデータのサンプルについて情報を確認する関数\n",
        "# (trainデータのindex)\n",
        "def show_train_sample_info(index):\n",
        "    img = X_train[index]\n",
        "    \n",
        "    # 画像を出力\n",
        "    plt.imshow(img)\n",
        "    plt.show()\n",
        "    \n",
        "    # 正解ラベルを出力\n",
        "    print('class: ' + label[y_train[index]])\n",
        "    print('label: ' + str(y_train[index]))"
      ],
      "execution_count": 0,
      "outputs": []
    },
    {
      "cell_type": "code",
      "metadata": {
        "id": "B4a1fOEJwstQ",
        "colab_type": "code",
        "outputId": "88ee104a-2ccb-432b-ff69-667f7bdb98cf",
        "colab": {
          "base_uri": "https://localhost:8080/",
          "height": 303
        }
      },
      "source": [
        "# trainデータのサンプルについて情報を確認\n",
        "# 引数のindexを変えていろいろな画像を出力してみましょう\n",
        "show_train_sample_info(1300)"
      ],
      "execution_count": 0,
      "outputs": [
        {
          "output_type": "display_data",
          "data": {
            "image/png": "[encoded data removed]",
            "text/plain": [
              "<Figure size 432x288 with 1 Axes>"
            ]
          },
          "metadata": {
            "tags": []
          }
        },
        {
          "output_type": "stream",
          "text": [
            "class: bicycle\n",
            "label: 2\n"
          ],
          "name": "stdout"
        }
      ]
    },
    {
      "cell_type": "markdown",
      "metadata": {
        "id": "uKX8-XMX88ma",
        "colab_type": "text"
      },
      "source": [
        "# CNNの実装"
      ]
    },
    {
      "cell_type": "code",
      "metadata": {
        "id": "UX15Zwge85Qa",
        "colab_type": "code",
        "outputId": "3d88b357-3375-48f6-c151-9df7172d1155",
        "colab": {
          "base_uri": "https://localhost:8080/",
          "height": 34
        }
      },
      "source": [
        "import keras\n",
        "# 層構造のモデルを定義するためのメソッド\n",
        "from keras.models import Sequential\n",
        "# Denseは層の生成メソッド、Activationは活性化関数を定義するためのメソッド\n",
        "from keras.layers import Dense, Activation\n",
        "from keras.layers.convolutional import Conv2D\n",
        "from keras.layers.pooling import MaxPool2D\n",
        "from keras.layers import Flatten\n",
        "from keras.optimizers import SGD\n",
        "import tensorflow as tf"
      ],
      "execution_count": 0,
      "outputs": [
        {
          "output_type": "stream",
          "text": [
            "Using TensorFlow backend.\n"
          ],
          "name": "stderr"
        }
      ]
    },
    {
      "cell_type": "code",
      "metadata": {
        "id": "yqaavDsJ9Dkw",
        "colab_type": "code",
        "outputId": "957daf9d-92b2-4bad-b508-32227e4ec156",
        "colab": {
          "base_uri": "https://localhost:8080/",
          "height": 190
        }
      },
      "source": [
        "# モデルの定義\n",
        "\n",
        "#-----------\n",
        "# CNNモデル\n",
        "#-----------\n",
        "\n",
        "model = Sequential()\n",
        "\n",
        "model.add(Conv2D(filters=64, input_shape=(32, 32, 3), kernel_size=(4, 4), strides=(1, 1), padding='same'))\n",
        "model.add(MaxPool2D(pool_size=(2, 2)))\n",
        "model.add(Activation('relu'))\n",
        "\n",
        "model.add(Conv2D(filters=128, kernel_size=(4, 4), strides=(1, 1), padding='same'))\n",
        "model.add(MaxPool2D(pool_size=(2, 2)))\n",
        "model.add(Activation('relu'))\n",
        "\n",
        "model.add(Conv2D(filters=128, kernel_size=(4, 4), strides=(1, 1), padding='same'))\n",
        "model.add(MaxPool2D(pool_size=(2, 2)))\n",
        "model.add(Activation('relu'))\n",
        "\n",
        "model.add(Flatten())\n",
        "model.add(Dense(512))\n",
        "model.add(Activation('relu'))\n",
        "model.add(Dense(5))\n",
        "model.add(Activation('softmax'))"
      ],
      "execution_count": 0,
      "outputs": [
        {
          "output_type": "stream",
          "text": [
            "WARNING: Logging before flag parsing goes to stderr.\n",
            "W0622 16:10:57.895824 140414126036864 deprecation_wrapper.py:119] From /usr/local/lib/python3.6/dist-packages/keras/backend/tensorflow_backend.py:74: The name tf.get_default_graph is deprecated. Please use tf.compat.v1.get_default_graph instead.\n",
            "\n",
            "W0622 16:10:57.957366 140414126036864 deprecation_wrapper.py:119] From /usr/local/lib/python3.6/dist-packages/keras/backend/tensorflow_backend.py:517: The name tf.placeholder is deprecated. Please use tf.compat.v1.placeholder instead.\n",
            "\n",
            "W0622 16:10:57.966357 140414126036864 deprecation_wrapper.py:119] From /usr/local/lib/python3.6/dist-packages/keras/backend/tensorflow_backend.py:4138: The name tf.random_uniform is deprecated. Please use tf.random.uniform instead.\n",
            "\n",
            "W0622 16:10:58.011044 140414126036864 deprecation_wrapper.py:119] From /usr/local/lib/python3.6/dist-packages/keras/backend/tensorflow_backend.py:3976: The name tf.nn.max_pool is deprecated. Please use tf.nn.max_pool2d instead.\n",
            "\n"
          ],
          "name": "stderr"
        }
      ]
    },
    {
      "cell_type": "code",
      "metadata": {
        "id": "4ZkXc8KCBVz1",
        "colab_type": "code",
        "outputId": "09e2ce47-f58c-482b-de66-c236a9b43883",
        "colab": {
          "base_uri": "https://localhost:8080/",
          "height": 105
        }
      },
      "source": [
        "# 同様に学習前にコンパイルします。\n",
        "model.compile(loss='categorical_crossentropy',\n",
        "              optimizer=SGD(0.01), # 学習率を0.01に指定\n",
        "              metrics=['accuracy'])\n",
        "\n",
        "# ミニバッチに含まれるサンプル数を指定\n",
        "batch_size = 500\n",
        "\n",
        "# epoch数を指定\n",
        "n_epoch = 30"
      ],
      "execution_count": 0,
      "outputs": [
        {
          "output_type": "stream",
          "text": [
            "W0622 16:29:32.387684 140414126036864 deprecation_wrapper.py:119] From /usr/local/lib/python3.6/dist-packages/keras/optimizers.py:790: The name tf.train.Optimizer is deprecated. Please use tf.compat.v1.train.Optimizer instead.\n",
            "\n",
            "W0622 16:29:32.401012 140414126036864 deprecation_wrapper.py:119] From /usr/local/lib/python3.6/dist-packages/keras/backend/tensorflow_backend.py:3295: The name tf.log is deprecated. Please use tf.math.log instead.\n",
            "\n"
          ],
          "name": "stderr"
        }
      ]
    },
    {
      "cell_type": "code",
      "metadata": {
        "id": "YiG16mwLBZWP",
        "colab_type": "code",
        "outputId": "f5c60ba3-ddc9-474a-e741-80d6ad0f54a5",
        "colab": {
          "base_uri": "https://localhost:8080/",
          "height": 1159
        }
      },
      "source": [
        "# 学習を開始します。\n",
        "hist = model.fit(X_train,\n",
        "                 Y_train,\n",
        "                 epochs=n_epoch,\n",
        "                 validation_data=(X_test, Y_test),\n",
        "                 verbose=1,\n",
        "                 batch_size=batch_size)"
      ],
      "execution_count": 0,
      "outputs": [
        {
          "output_type": "stream",
          "text": [
            "W0622 16:29:50.795730 140414126036864 deprecation.py:323] From /usr/local/lib/python3.6/dist-packages/tensorflow/python/ops/math_grad.py:1250: add_dispatch_support.<locals>.wrapper (from tensorflow.python.ops.array_ops) is deprecated and will be removed in a future version.\n",
            "Instructions for updating:\n",
            "Use tf.where in 2.0, which has the same broadcast rule as np.where\n",
            "W0622 16:29:50.871745 140414126036864 deprecation_wrapper.py:119] From /usr/local/lib/python3.6/dist-packages/keras/backend/tensorflow_backend.py:986: The name tf.assign_add is deprecated. Please use tf.compat.v1.assign_add instead.\n",
            "\n"
          ],
          "name": "stderr"
        },
        {
          "output_type": "stream",
          "text": [
            "Train on 2500 samples, validate on 500 samples\n",
            "Epoch 1/30\n",
            "2500/2500 [==============================] - 23s 9ms/step - loss: 1.6170 - acc: 0.2412 - val_loss: 1.6082 - val_acc: 0.2560\n",
            "Epoch 2/30\n",
            "2500/2500 [==============================] - 22s 9ms/step - loss: 1.6054 - acc: 0.2464 - val_loss: 1.6005 - val_acc: 0.2460\n",
            "Epoch 3/30\n",
            "2500/2500 [==============================] - 22s 9ms/step - loss: 1.5990 - acc: 0.2820 - val_loss: 1.5954 - val_acc: 0.2980\n",
            "Epoch 4/30\n",
            "2500/2500 [==============================] - 23s 9ms/step - loss: 1.5944 - acc: 0.2664 - val_loss: 1.5916 - val_acc: 0.2660\n",
            "Epoch 5/30\n",
            "2500/2500 [==============================] - 23s 9ms/step - loss: 1.5908 - acc: 0.2488 - val_loss: 1.5882 - val_acc: 0.2440\n",
            "Epoch 6/30\n",
            "2500/2500 [==============================] - 22s 9ms/step - loss: 1.5879 - acc: 0.2428 - val_loss: 1.5852 - val_acc: 0.2360\n",
            "Epoch 7/30\n",
            "2500/2500 [==============================] - 23s 9ms/step - loss: 1.5850 - acc: 0.2400 - val_loss: 1.5824 - val_acc: 0.2400\n",
            "Epoch 8/30\n",
            "2500/2500 [==============================] - 23s 9ms/step - loss: 1.5825 - acc: 0.2376 - val_loss: 1.5799 - val_acc: 0.2480\n",
            "Epoch 9/30\n",
            "2500/2500 [==============================] - 23s 9ms/step - loss: 1.5799 - acc: 0.2424 - val_loss: 1.5772 - val_acc: 0.2440\n",
            "Epoch 10/30\n",
            "2500/2500 [==============================] - 23s 9ms/step - loss: 1.5776 - acc: 0.2436 - val_loss: 1.5747 - val_acc: 0.2540\n",
            "Epoch 11/30\n",
            "2500/2500 [==============================] - 23s 9ms/step - loss: 1.5751 - acc: 0.2456 - val_loss: 1.5722 - val_acc: 0.2640\n",
            "Epoch 12/30\n",
            "2500/2500 [==============================] - 23s 9ms/step - loss: 1.5727 - acc: 0.2544 - val_loss: 1.5694 - val_acc: 0.2640\n",
            "Epoch 13/30\n",
            "2500/2500 [==============================] - 23s 9ms/step - loss: 1.5701 - acc: 0.2560 - val_loss: 1.5666 - val_acc: 0.2640\n",
            "Epoch 14/30\n",
            "2500/2500 [==============================] - 23s 9ms/step - loss: 1.5675 - acc: 0.2596 - val_loss: 1.5637 - val_acc: 0.2740\n",
            "Epoch 15/30\n",
            "2500/2500 [==============================] - 23s 9ms/step - loss: 1.5648 - acc: 0.2624 - val_loss: 1.5606 - val_acc: 0.2800\n",
            "Epoch 16/30\n",
            "2500/2500 [==============================] - 23s 9ms/step - loss: 1.5623 - acc: 0.2604 - val_loss: 1.5577 - val_acc: 0.2940\n",
            "Epoch 17/30\n",
            "2500/2500 [==============================] - 23s 9ms/step - loss: 1.5593 - acc: 0.2776 - val_loss: 1.5546 - val_acc: 0.2900\n",
            "Epoch 18/30\n",
            "2500/2500 [==============================] - 23s 9ms/step - loss: 1.5566 - acc: 0.2708 - val_loss: 1.5517 - val_acc: 0.3020\n",
            "Epoch 19/30\n",
            "2500/2500 [==============================] - 23s 9ms/step - loss: 1.5535 - acc: 0.2812 - val_loss: 1.5481 - val_acc: 0.3140\n",
            "Epoch 20/30\n",
            "2500/2500 [==============================] - 23s 9ms/step - loss: 1.5505 - acc: 0.2856 - val_loss: 1.5447 - val_acc: 0.3100\n",
            "Epoch 21/30\n",
            "2500/2500 [==============================] - 23s 9ms/step - loss: 1.5473 - acc: 0.2852 - val_loss: 1.5410 - val_acc: 0.3160\n",
            "Epoch 22/30\n",
            "2500/2500 [==============================] - 23s 9ms/step - loss: 1.5440 - acc: 0.2852 - val_loss: 1.5374 - val_acc: 0.3240\n",
            "Epoch 23/30\n",
            "2500/2500 [==============================] - 23s 9ms/step - loss: 1.5402 - acc: 0.2928 - val_loss: 1.5336 - val_acc: 0.3200\n",
            "Epoch 24/30\n",
            "2500/2500 [==============================] - 23s 9ms/step - loss: 1.5369 - acc: 0.3008 - val_loss: 1.5299 - val_acc: 0.3260\n",
            "Epoch 25/30\n",
            "2500/2500 [==============================] - 23s 9ms/step - loss: 1.5337 - acc: 0.2972 - val_loss: 1.5254 - val_acc: 0.3300\n",
            "Epoch 26/30\n",
            "2500/2500 [==============================] - 23s 9ms/step - loss: 1.5291 - acc: 0.3016 - val_loss: 1.5214 - val_acc: 0.3360\n",
            "Epoch 27/30\n",
            "2500/2500 [==============================] - 23s 9ms/step - loss: 1.5255 - acc: 0.3228 - val_loss: 1.5175 - val_acc: 0.3280\n",
            "Epoch 28/30\n",
            "2500/2500 [==============================] - 23s 9ms/step - loss: 1.5219 - acc: 0.3160 - val_loss: 1.5130 - val_acc: 0.3340\n",
            "Epoch 29/30\n",
            "2500/2500 [==============================] - 22s 9ms/step - loss: 1.5176 - acc: 0.3164 - val_loss: 1.5075 - val_acc: 0.3440\n",
            "Epoch 30/30\n",
            "2500/2500 [==============================] - 23s 9ms/step - loss: 1.5137 - acc: 0.3224 - val_loss: 1.5026 - val_acc: 0.3540\n"
          ],
          "name": "stdout"
        }
      ]
    },
    {
      "cell_type": "code",
      "metadata": {
        "id": "MYursVDzBgod",
        "colab_type": "code",
        "outputId": "ced85293-6764-4b10-a81a-b6d80d4bc64c",
        "colab": {
          "base_uri": "https://localhost:8080/",
          "height": 85
        }
      },
      "source": [
        "# 性能指標を確認\n",
        "from sklearn import metrics\n",
        "print('accuracy: %.3f' % metrics.accuracy_score(y_test, model.predict(X_test).argmax(axis=1)))\n",
        "print('recall: %.3f' % metrics.recall_score(y_test, model.predict(X_test).argmax(axis=1), average='macro'))\n",
        "print('precision: %.3f' % metrics.precision_score(y_test, model.predict(X_test).argmax(axis=1), average='macro'))\n",
        "print('f1_score: %.3f' % metrics.f1_score(y_test, model.predict(X_test).argmax(axis=1), average='macro'))"
      ],
      "execution_count": 0,
      "outputs": [
        {
          "output_type": "stream",
          "text": [
            "accuracy: 0.354\n",
            "recall: 0.354\n",
            "precision: 0.424\n",
            "f1_score: 0.295\n"
          ],
          "name": "stdout"
        }
      ]
    },
    {
      "cell_type": "code",
      "metadata": {
        "id": "IoR2r-PwBiuh",
        "colab_type": "code",
        "outputId": "d342538a-dbfe-41e7-fe95-38a338099063",
        "colab": {
          "base_uri": "https://localhost:8080/",
          "height": 573
        }
      },
      "source": [
        "def plot_history_loss(hist):\n",
        "    # 損失値(Loss)の遷移のプロット\n",
        "    plt.plot(hist.history['loss'],label=\"loss for training\")\n",
        "    plt.plot(hist.history['val_loss'],label=\"loss for validation\")\n",
        "    plt.title('model loss')\n",
        "    plt.xlabel('epoch')\n",
        "    plt.ylabel('loss')\n",
        "    plt.legend(loc='best')\n",
        "    plt.show()\n",
        "\n",
        "def plot_history_acc(hist):\n",
        "    # 精度(Accuracy)の遷移のプロット\n",
        "    plt.plot(hist.history['acc'],label=\"loss for training\")\n",
        "    plt.plot(hist.history['val_acc'],label=\"loss for validation\")\n",
        "    plt.title('model accuracy')\n",
        "    plt.xlabel('epoch')\n",
        "    plt.ylabel('accuracy')\n",
        "    plt.legend(loc='best')\n",
        "    plt.ylim([0, 1])\n",
        "    plt.show()\n",
        "\n",
        "plot_history_loss(hist)\n",
        "plot_history_acc(hist)"
      ],
      "execution_count": 0,
      "outputs": [
        {
          "output_type": "display_data",
          "data": {
            "image/png": "[encoded data removed]",
            "text/plain": [
              "<Figure size 432x288 with 1 Axes>"
            ]
          },
          "metadata": {
            "tags": []
          }
        },
        {
          "output_type": "display_data",
          "data": {
            "image/png": "[encoded data removed]",
            "text/plain": [
              "<Figure size 432x288 with 1 Axes>"
            ]
          },
          "metadata": {
            "tags": []
          }
        }
      ]
    },
    {
      "cell_type": "code",
      "metadata": {
        "id": "QDXb1PWJBsfC",
        "colab_type": "code",
        "colab": {}
      },
      "source": [
        "# testデータのサンプルについて情報を確認する関数\n",
        "# (testデータのindex)\n",
        "def show_test_sample_info(index):\n",
        "    img = X_test[index]\n",
        "    \n",
        "    # 画像を出力\n",
        "    plt.imshow(img)\n",
        "    plt.show()\n",
        "    \n",
        "    # 正解ラベルを出力\n",
        "    print('class: ' + label[y_test[index]])\n",
        "    print('label: ' + str(y_test[index]))"
      ],
      "execution_count": 0,
      "outputs": []
    },
    {
      "cell_type": "code",
      "metadata": {
        "id": "3chBxRJbBu0X",
        "colab_type": "code",
        "outputId": "9b48587e-ccd5-4bd1-cd76-29676b877996",
        "colab": {
          "base_uri": "https://localhost:8080/",
          "height": 337
        }
      },
      "source": [
        "# indexを指定\n",
        "index = 0\n",
        "\n",
        "# 画像を出力\n",
        "show_test_sample_info(index)\n",
        "\n",
        "# 指定のindexが与えられたtestデータについて確認\n",
        "pred = model.predict(X_test[index].reshape(1, 32, 32, 3)).argmax()\n",
        "print('predict: {}'.format(pred))\n",
        "\n",
        "# 正解か不正解かを出力\n",
        "if pred == y_test[index]:\n",
        "    print('正解です｡')\n",
        "else:\n",
        "    print('間違いです｡')"
      ],
      "execution_count": 0,
      "outputs": [
        {
          "output_type": "display_data",
          "data": {
            "image/png": "[encoded data removed]",
            "text/plain": [
              "<Figure size 432x288 with 1 Axes>"
            ]
          },
          "metadata": {
            "tags": []
          }
        },
        {
          "output_type": "stream",
          "text": [
            "class: clock\n",
            "label: 0\n",
            "predict: 0\n",
            "正解です｡\n"
          ],
          "name": "stdout"
        }
      ]
    },
    {
      "cell_type": "markdown",
      "metadata": {
        "id": "5nE_jj7yEYl-",
        "colab_type": "text"
      },
      "source": [
        "# 混合行列の出力"
      ]
    },
    {
      "cell_type": "code",
      "metadata": {
        "id": "xHde__PpEexm",
        "colab_type": "code",
        "outputId": "f0506d8b-e3c2-47c0-c356-9a5749a5c4fb",
        "colab": {
          "base_uri": "https://localhost:8080/",
          "height": 334
        }
      },
      "source": [
        "from sklearn.metrics import confusion_matrix as cm\n",
        "\n",
        "# 混同行列きれいに出力する関数\n",
        "def plot_cm(y_true, y_pred):\n",
        "    confmat = cm(y_true, y_pred)\n",
        "    fig, ax = plt.subplots(figsize=(5, 5))\n",
        "    ax.matshow(confmat, cmap=plt.cm.Blues, alpha=0.3)\n",
        "    for i in range(confmat.shape[0]):\n",
        "        for j in range(confmat.shape[1]):\n",
        "            ax.text(x=j, y=i, s=confmat[i, j], va='center', ha='center')\n",
        "    plt.xticks(np.arange(0, 5, 1))                               \n",
        "    plt.yticks(np.arange(0, 5, 1))  \n",
        "    plt.xlabel('true label')\n",
        "    plt.ylabel('predicted label')\n",
        "    plt.show()\n",
        "    \n",
        "# 混同行列を出力\n",
        "result = model.predict(X_test).argmax(axis=1)\n",
        "plot_cm(y_test, result)"
      ],
      "execution_count": 0,
      "outputs": [
        {
          "output_type": "display_data",
          "data": {
            "image/png": "[encoded data removed]",
            "text/plain": [
              "<Figure size 360x360 with 1 Axes>"
            ]
          },
          "metadata": {
            "tags": []
          }
        }
      ]
    },
    {
      "cell_type": "code",
      "metadata": {
        "id": "JFrSeQDdEjlJ",
        "colab_type": "code",
        "outputId": "0a14ccca-acaa-4c84-8b27-7cbdb44c91d5",
        "colab": {
          "base_uri": "https://localhost:8080/",
          "height": 34
        }
      },
      "source": [
        "# ラベルを確認\n",
        "print(label)"
      ],
      "execution_count": 0,
      "outputs": [
        {
          "output_type": "stream",
          "text": [
            "['clock', 'cup', 'bicycle', 'television', 'chair']\n"
          ],
          "name": "stdout"
        }
      ]
    },
    {
      "cell_type": "code",
      "metadata": {
        "id": "3DkVt8YGEmqF",
        "colab_type": "code",
        "colab": {}
      },
      "source": [
        "# 予測が外れたtestデータを格納するリストを用意\n",
        "errors = []\n",
        "\n",
        "# すべてのtestデータをチェック\n",
        "for i in range(len(y_test)):\n",
        "    pred_1 = model.predict(X_test[i].reshape(1, 32, 32, 3)).argmax()\n",
        "    if pred_1 != y_test[i]:\n",
        "        # (index, 正解ラベル, 予測ラベル)をタプル形式で格納\n",
        "        errors.append((i, label[y_test[i]], label[pred_1]))"
      ],
      "execution_count": 0,
      "outputs": []
    },
    {
      "cell_type": "code",
      "metadata": {
        "id": "NpdgUlHjEqHb",
        "colab_type": "code",
        "outputId": "e5dd1e10-545d-4865-e65c-d75eb9bcfc12",
        "colab": {
          "base_uri": "https://localhost:8080/",
          "height": 34
        }
      },
      "source": [
        "# 誤分類の総数を出力\n",
        "len(errors)"
      ],
      "execution_count": 0,
      "outputs": [
        {
          "output_type": "execute_result",
          "data": {
            "text/plain": [
              "323"
            ]
          },
          "metadata": {
            "tags": []
          },
          "execution_count": 27
        }
      ]
    },
    {
      "cell_type": "code",
      "metadata": {
        "id": "j2UpknmWEpbW",
        "colab_type": "code",
        "outputId": "f76b04ea-625c-45f5-d27d-b90f413d7d6f",
        "colab": {
          "base_uri": "https://localhost:8080/",
          "height": 977
        }
      },
      "source": [
        "# 予測が外れた画像を集めて表示する\n",
        "# 数が多いので3つだけ表示\n",
        "for error_index, corr_label, pred_label in errors[:3]:\n",
        "    show_test_sample_info(error_index)\n",
        "    print(corr_label)\n",
        "    print(pred_label)"
      ],
      "execution_count": 0,
      "outputs": [
        {
          "output_type": "display_data",
          "data": {
            "image/png": "[encoded data removed]",
            "text/plain": [
              "<Figure size 432x288 with 1 Axes>"
            ]
          },
          "metadata": {
            "tags": []
          }
        },
        {
          "output_type": "stream",
          "text": [
            "class: clock\n",
            "label: 0\n",
            "clock\n",
            "chair\n"
          ],
          "name": "stdout"
        },
        {
          "output_type": "display_data",
          "data": {
            "image/png": "[encoded data removed]",
            "text/plain": [
              "<Figure size 432x288 with 1 Axes>"
            ]
          },
          "metadata": {
            "tags": []
          }
        },
        {
          "output_type": "stream",
          "text": [
            "class: clock\n",
            "label: 0\n",
            "clock\n",
            "chair\n"
          ],
          "name": "stdout"
        },
        {
          "output_type": "display_data",
          "data": {
            "image/png": "[encoded data removed]",
            "text/plain": [
              "<Figure size 432x288 with 1 Axes>"
            ]
          },
          "metadata": {
            "tags": []
          }
        },
        {
          "output_type": "stream",
          "text": [
            "class: clock\n",
            "label: 0\n",
            "clock\n",
            "chair\n"
          ],
          "name": "stdout"
        }
      ]
    },
    {
      "cell_type": "markdown",
      "metadata": {
        "id": "Ip_SfdZFFFXW",
        "colab_type": "text"
      },
      "source": [
        "# いろいろなニューラルネットワーク\n"
      ]
    },
    {
      "cell_type": "code",
      "metadata": {
        "id": "VQ41S2GaFMYe",
        "colab_type": "code",
        "colab": {}
      },
      "source": [
        "def AlexNet(ROWS=32, COLS=32):\n",
        "    model = Sequential()\n",
        "\n",
        "    # 第1畳み込み層\n",
        "    model.add(conv2d(96, 11, strides=(4,4), bias_init=0, input_shape=(ROWS, COLS, 3)))\n",
        "    model.add(MaxPooling2D(pool_size=(3, 3), strides=(2, 2)))\n",
        "    model.add(BatchNormalization())\n",
        "\n",
        "    # 第２畳み込み層\n",
        "    model.add(conv2d(256, 5, bias_init=1))\n",
        "    model.add(MaxPooling2D(pool_size=(3, 3), strides=(2, 2)))\n",
        "    model.add(BatchNormalization())\n",
        "\n",
        "    # 第３−５畳み込み層\n",
        "    model.add(conv2d(384, 3, bias_init=0))\n",
        "    model.add(conv2d(384, 3, bias_init=1))\n",
        "    model.add(conv2d(256, 3, bias_init=1))\n",
        "    model.add(MaxPooling2D(pool_size=(3, 3), strides=(2, 2)))\n",
        "    model.add(BatchNormalization())\n",
        "\n",
        "    # 密結合層\n",
        "    model.add(Flatten())\n",
        "    model.add(dense(4096))\n",
        "    model.add(Dropout(0.5))\n",
        "    model.add(dense(4096))\n",
        "    model.add(Dropout(0.5))\n",
        "\n",
        "    # 読み出し層\n",
        "    model.add(Dense(2, activation='softmax'))\n",
        "\n",
        "    model.compile(optimizer=SGD(lr=0.01), loss='categorical_crossentropy', metrics=['accuracy'])\n",
        "    return model"
      ],
      "execution_count": 0,
      "outputs": []
    },
    {
      "cell_type": "code",
      "metadata": {
        "id": "Xgxp8dEKFOsD",
        "colab_type": "code",
        "colab": {}
      },
      "source": [
        "from keras import regularizers\n",
        "from keras.layers.convolutional import ZeroPadding2D, MaxPooling2D\n",
        "from keras.layers import BatchNormalization, Dropout, AveragePooling2D, merge\n",
        "\n",
        "def inception_module(x, params, concat_axis,\n",
        "                     subsample=(1, 1), activation='relu',\n",
        "                     border_mode='same', weight_decay=None):\n",
        "\n",
        "    (branch1, branch2, branch3, branch4) = params\n",
        "\n",
        "    if weight_decay:\n",
        "        W_regularizer = regularizers.l2(weight_decay)\n",
        "        b_regularizer = regularizers.l2(weight_decay)\n",
        "    else:\n",
        "        W_regularizer = None\n",
        "        b_regularizer = None\n",
        "\n",
        "    pathway1 = Conv2D(branch1[0], 1, 1,\n",
        "                             subsample=subsample,\n",
        "                             activation=activation,\n",
        "                             border_mode=border_mode,\n",
        "                             W_regularizer=W_regularizer,\n",
        "                             b_regularizer=b_regularizer,\n",
        "                             bias=False)(x)\n",
        "\n",
        "    \n",
        "    pathway2 = Conv2D(branch2[0], 1, 1,\n",
        "                             subsample=subsample,\n",
        "                             activation=activation,\n",
        "                             border_mode=border_mode,\n",
        "                             W_regularizer=W_regularizer,\n",
        "                             b_regularizer=b_regularizer,\n",
        "                             bias=False)(x)\n",
        "    pathway2 = Conv2D(branch2[1], 3, 3,\n",
        "                             subsample=subsample,\n",
        "                             activation=activation,\n",
        "                             border_mode=border_mode,\n",
        "                             W_regularizer=W_regularizer,\n",
        "                             b_regularizer=b_regularizer,\n",
        "                             bias=False)(pathway2)\n",
        "\n",
        "    \n",
        "    pathway3 = Conv2D(branch3[0], 1, 1,\n",
        "                             subsample=subsample,\n",
        "                             activation=activation,\n",
        "                             border_mode=border_mode,\n",
        "                             W_regularizer=W_regularizer,\n",
        "                             b_regularizer=b_regularizer,\n",
        "                             bias=False)(x)\n",
        "    pathway3 = Conv2D(branch3[1], 5, 5,\n",
        "                             subsample=subsample,\n",
        "                             activation=activation,\n",
        "                             border_mode=border_mode,\n",
        "                             W_regularizer=W_regularizer,\n",
        "                             b_regularizer=b_regularizer,\n",
        "                             bias=False)(pathway3)\n",
        "\n",
        "    \n",
        "    pathway4 = MaxPooling2D(pool_size=(1, 1))(x)\n",
        "    pathway4 = Conv2D(branch4[0], 1, 1,\n",
        "                             subsample=subsample,\n",
        "                             activation=activation,\n",
        "                             border_mode=border_mode,\n",
        "                             W_regularizer=W_regularizer,\n",
        "                             b_regularizer=b_regularizer,\n",
        "                             bias=False,\n",
        "                             )(pathway4)\n",
        "\n",
        "    return merge([pathway1, pathway2, pathway3, pathway4],\n",
        "                 mode='concat', concat_axis=concat_axis)\n",
        "  \n",
        "#Model\n",
        "def GoogleNet(ROWS=277, COLS=277):\n",
        "    input = keras.layers.Input(shape=(ROWS, COLS, 3))\n",
        "    x = Conv2D(64, input_shape=(ROWS, COLS, 3),\n",
        "                 kernel_size=(7, 7),\n",
        "                 strides=(1, 1))(input)\n",
        "    x = ZeroPadding2D(padding=(3, 3))(x)\n",
        "    x = MaxPool2D(pool_size=(2, 2), strides=(3, 3))(x)\n",
        "    x = Conv2D(64, kernel_size=(1, 1))(x)\n",
        "    x = Conv2D(192, kernel_size=(3, 3), strides=(1, 1))(x)\n",
        "    x = ZeroPadding2D(padding=(1, 1))(x)\n",
        "    x = MaxPool2D(pool_size=(2, 2), strides=(3, 3))(x)\n",
        "\n",
        "    CONCAT_AXIS = 3\n",
        "    x = inception_module(x, params=[(64, ), (96, 128), (16, 32), (32, )],\n",
        "                     concat_axis=CONCAT_AXIS)\n",
        "    x = inception_module(x, params=[(128,), (128, 192), (32, 96), (64, )],\n",
        "                     concat_axis=CONCAT_AXIS)\n",
        "\n",
        "    x = MaxPool2D(pool_size=(1, 1), strides=(1, 1))(x)\n",
        "    x = ZeroPadding2D(padding=(1, 1))(x)\n",
        "\n",
        "    x = inception_module(x, params=[(192,), (96, 208), (16, 48), (64, )],\n",
        "                     concat_axis=CONCAT_AXIS)\n",
        "\n",
        "    \n",
        "    x = inception_module(x, params=[(160,), (112, 224), (24, 64), (64, )],\n",
        "                     concat_axis=CONCAT_AXIS)\n",
        "    x = inception_module(x, params=[(128,), (128, 256), (24, 64), (64, )],\n",
        "                     concat_axis=CONCAT_AXIS)\n",
        "    x = inception_module(x, params=[(112,), (144, 288), (32, 64), (64, )],\n",
        "                     concat_axis=CONCAT_AXIS)\n",
        "\n",
        "    \n",
        "    x = inception_module(x, params=[(256,), (160, 320), (32, 128), (128,)],\n",
        "                     concat_axis=CONCAT_AXIS)\n",
        "    x = MaxPool2D(pool_size=(1, 1), strides=(1, 1))(x)\n",
        "\n",
        "    x = inception_module(x, params=[(256,), (160, 320), (32, 128), (128,)],\n",
        "                     concat_axis=CONCAT_AXIS)\n",
        "    x = inception_module(x, params=[(384,), (192, 384), (48, 128), (128,)],\n",
        "                     concat_axis=CONCAT_AXIS)\n",
        "\n",
        "    x = AveragePooling2D(pool_size=(7, 7), strides=(1, 1))(x)\n",
        "    x = Flatten()(x)\n",
        "    x = Dropout(0.4)(x)\n",
        "    x = Dense(1000)(x)\n",
        "    x = Activation('linear')(x)\n",
        "    x = Dense(1000)(x)\n",
        "    x = Activation('softmax')(x)\n",
        "    \n",
        "    model = keras.models.Model(inputs=input, outputs=x)\n",
        "    model.compile(optimizer=SGD(lr=0.01), loss='categorical_crossentropy', metrics=['accuracy'])\n",
        "\n",
        "    return model"
      ],
      "execution_count": 0,
      "outputs": []
    },
    {
      "cell_type": "code",
      "metadata": {
        "id": "g9M60-nKFXN1",
        "colab_type": "code",
        "colab": {}
      },
      "source": [
        "import os\n",
        "import warnings\n",
        "\n",
        "from keras.models import Model\n",
        "from keras.layers import Flatten, Dense, Input, Conv2D, MaxPooling2D, GlobalAveragePooling2D, GlobalMaxPooling2D\n",
        "from keras.engine.topology import get_source_inputs\n",
        "from keras.utils import layer_utils\n",
        "from keras.utils.data_utils import get_file\n",
        "from keras import backend as K\n",
        "from keras.applications.imagenet_utils import decode_predictions, preprocess_input, _obtain_input_shape\n",
        "\n",
        "WEIGHTS_PATH = 'https://github.com/fchollet/deep-learning-models/releases/download/v0.1/vgg16_weights_tf_dim_ordering_tf_kernels.h5'\n",
        "WEIGHTS_PATH_NO_TOP = 'https://github.com/fchollet/deep-learning-models/releases/download/v0.1/vgg16_weights_tf_dim_ordering_tf_kernels_notop.h5'\n",
        "\n",
        "\n",
        "def VGG16(include_top=True, weights='imagenet',\n",
        "          input_tensor=None, input_shape=None,\n",
        "          pooling=None,\n",
        "          classes=1000):\n",
        "\n",
        "    input_shape = _obtain_input_shape(input_shape,\n",
        "                                      default_size=224,\n",
        "                                      min_size=48,\n",
        "                                      data_format=K.image_data_format(),\n",
        "                                      require_flatten=include_top,\n",
        "                                      weights=weights)\n",
        "\n",
        "    if input_tensor is None:\n",
        "        img_input = Input(shape=input_shape)\n",
        "    else:\n",
        "        if not K.is_keras_tensor(input_tensor):\n",
        "            img_input = Input(tensor=input_tensor, shape=input_shape)\n",
        "        else:\n",
        "            img_input = input_tensor\n",
        "    # Block 1\n",
        "    x = Conv2D(64, (3, 3), activation='relu', padding='same', name='block1_conv1')(img_input)\n",
        "    x = Conv2D(64, (3, 3), activation='relu', padding='same', name='block1_conv2')(x)\n",
        "    x = MaxPooling2D((2, 2), strides=(2, 2), name='block1_pool')(x)\n",
        "\n",
        "    # Block 2\n",
        "    x = Conv2D(128, (3, 3), activation='relu', padding='same', name='block2_conv1')(x)\n",
        "    x = Conv2D(128, (3, 3), activation='relu', padding='same', name='block2_conv2')(x)\n",
        "    x = MaxPooling2D((2, 2), strides=(2, 2), name='block2_pool')(x)\n",
        "\n",
        "    # Block 3\n",
        "    x = Conv2D(256, (3, 3), activation='relu', padding='same', name='block3_conv1')(x)\n",
        "    x = Conv2D(256, (3, 3), activation='relu', padding='same', name='block3_conv2')(x)\n",
        "    x = Conv2D(256, (3, 3), activation='relu', padding='same', name='block3_conv3')(x)\n",
        "    x = MaxPooling2D((2, 2), strides=(2, 2), name='block3_pool')(x)\n",
        "\n",
        "    # Block 4\n",
        "    x = Conv2D(512, (3, 3), activation='relu', padding='same', name='block4_conv1')(x)\n",
        "    x = Conv2D(512, (3, 3), activation='relu', padding='same', name='block4_conv2')(x)\n",
        "    x = Conv2D(512, (3, 3), activation='relu', padding='same', name='block4_conv3')(x)\n",
        "    x = MaxPooling2D((2, 2), strides=(2, 2), name='block4_pool')(x)\n",
        "\n",
        "    # Block 5\n",
        "    x = Conv2D(512, (3, 3), activation='relu', padding='same', name='block5_conv1')(x)\n",
        "    x = Conv2D(512, (3, 3), activation='relu', padding='same', name='block5_conv2')(x)\n",
        "    x = Conv2D(512, (3, 3), activation='relu', padding='same', name='block5_conv3')(x)\n",
        "    x = MaxPooling2D((2, 2), strides=(2, 2), name='block5_pool')(x)\n",
        "\n",
        "    if include_top:\n",
        "        # Classification block\n",
        "        x = Flatten(name='flatten')(x)\n",
        "        x = Dense(4096, activation='relu', name='fc1')(x)\n",
        "        x = Dense(4096, activation='relu', name='fc2')(x)\n",
        "        x = Dense(classes, activation='softmax', name='predictions')(x)\n",
        "    else:\n",
        "        if pooling == 'avg':\n",
        "            x = GlobalAveragePooling2D()(x)\n",
        "        elif pooling == 'max':\n",
        "            x = GlobalMaxPooling2D()(x)\n",
        "\n",
        "    if input_tensor is not None:\n",
        "        inputs = get_source_inputs(input_tensor)\n",
        "    else:\n",
        "        inputs = img_input\n",
        "    # モデル作成\n",
        "    model = Model(inputs, x, name='vgg16')\n",
        "\n",
        "    # 重り読み込み\n",
        "    if weights == 'imagenet':\n",
        "        if include_top:\n",
        "            weights_path = get_file('vgg16_weights_tf_dim_ordering_tf_kernels.h5',\n",
        "                                    WEIGHTS_PATH,\n",
        "                                    cache_subdir='models',\n",
        "                                    file_hash='64373286793e3c8b2b4e3219cbf3544b')\n",
        "        else:\n",
        "            weights_path = get_file('vgg16_weights_tf_dim_ordering_tf_kernels_notop.h5',\n",
        "                                    WEIGHTS_PATH_NO_TOP,\n",
        "                                    cache_subdir='models',\n",
        "                                    file_hash='6d6bbae143d832006294945121d1f1fc')\n",
        "        model.load_weights(weights_path)\n",
        "        if K.backend() == 'theano':\n",
        "            layer_utils.convert_all_kernels_in_model(model)\n",
        "\n",
        "        if K.image_data_format() == 'channels_first':\n",
        "            if include_top:\n",
        "                maxpool = model.get_layer(name='block5_pool')\n",
        "                shape = maxpool.output_shape[1:]\n",
        "                dense = model.get_layer(name='fc1')\n",
        "                layer_utils.convert_dense_weights_data_format(dense, shape, 'channels_first')\n",
        "\n",
        "            if K.backend() == 'tensorflow':\n",
        "                warnings.warn('You are using the TensorFlow backend, yet you '\n",
        "                              'are using the Theano '\n",
        "                              'image data format convention '\n",
        "                              '(`image_data_format=\"channels_first\"`). '\n",
        "                              'For best performance, set '\n",
        "                              '`image_data_format=\"channels_last\"` in '\n",
        "                              'your Keras config '\n",
        "                              'at ~/.keras/keras.json.')\n",
        "    elif weights is not None:\n",
        "        model.load_weights(weights)\n",
        "\n",
        "        \n",
        "    model.compile(optimizer=SGD(lr=0.01), loss='categorical_crossentropy', metrics=['accuracy'])\n",
        "    return model"
      ],
      "execution_count": 0,
      "outputs": []
    },
    {
      "cell_type": "code",
      "metadata": {
        "id": "CO1GsQFuFpvl",
        "colab_type": "code",
        "colab": {}
      },
      "source": [
        "import six\n",
        "from keras.models import Model\n",
        "from keras.layers import Input, Activation, Dense, Flatten\n",
        "from keras.layers.convolutional import Conv2D, MaxPooling2D, AveragePooling2D\n",
        "from keras.layers.merge import add\n",
        "from keras.layers.normalization import BatchNormalization\n",
        "from keras.regularizers import l2\n",
        "from keras import backend as K\n",
        "\n",
        "\n",
        "def _bn_relu(input):\n",
        "\n",
        "    norm = BatchNormalization(axis=CHANNEL_AXIS)(input)\n",
        "    return Activation(\"relu\")(norm)\n",
        "\n",
        "\n",
        "def _conv_bn_relu(**conv_params):\n",
        "    \n",
        "    filters = conv_params[\"filters\"]\n",
        "    kernel_size = conv_params[\"kernel_size\"]\n",
        "    strides = conv_params.setdefault(\"strides\", (1, 1))\n",
        "    kernel_initializer = conv_params.setdefault(\"kernel_initializer\", \"he_normal\")\n",
        "    padding = conv_params.setdefault(\"padding\", \"same\")\n",
        "    kernel_regularizer = conv_params.setdefault(\"kernel_regularizer\", l2(1.e-4))\n",
        "\n",
        "    def f(input):\n",
        "        conv = Conv2D(filters=filters, kernel_size=kernel_size,\n",
        "                      strides=strides, padding=padding,\n",
        "                      kernel_initializer=kernel_initializer,\n",
        "                      kernel_regularizer=kernel_regularizer)(input)\n",
        "        return _bn_relu(conv)\n",
        "\n",
        "    return f\n",
        "\n",
        "\n",
        "def _bn_relu_conv(**conv_params):\n",
        "    \n",
        "    filters = conv_params[\"filters\"]\n",
        "    kernel_size = conv_params[\"kernel_size\"]\n",
        "    strides = conv_params.setdefault(\"strides\", (1, 1))\n",
        "    kernel_initializer = conv_params.setdefault(\"kernel_initializer\", \"he_normal\")\n",
        "    padding = conv_params.setdefault(\"padding\", \"same\")\n",
        "    kernel_regularizer = conv_params.setdefault(\"kernel_regularizer\", l2(1.e-4))\n",
        "\n",
        "    def f(input):\n",
        "        activation = _bn_relu(input)\n",
        "        return Conv2D(filters=filters, kernel_size=kernel_size,\n",
        "                      strides=strides, padding=padding,\n",
        "                      kernel_initializer=kernel_initializer,\n",
        "                      kernel_regularizer=kernel_regularizer)(activation)\n",
        "\n",
        "    return f\n",
        "\n",
        "\n",
        "def _shortcut(input, residual):\n",
        "    \n",
        "    input_shape = K.int_shape(input)\n",
        "    residual_shape = K.int_shape(residual)\n",
        "    stride_width = int(round(input_shape[ROW_AXIS] / residual_shape[ROW_AXIS]))\n",
        "    stride_height = int(round(input_shape[COL_AXIS] / residual_shape[COL_AXIS]))\n",
        "    equal_channels = input_shape[CHANNEL_AXIS] == residual_shape[CHANNEL_AXIS]\n",
        "\n",
        "    shortcut = input\n",
        "    \n",
        "    if stride_width > 1 or stride_height > 1 or not equal_channels:\n",
        "        shortcut = Conv2D(filters=residual_shape[CHANNEL_AXIS],\n",
        "                          kernel_size=(1, 1),\n",
        "                          strides=(stride_width, stride_height),\n",
        "                          padding=\"valid\",\n",
        "                          kernel_initializer=\"he_normal\",\n",
        "                          kernel_regularizer=l2(0.0001))(input)\n",
        "\n",
        "    return add([shortcut, residual])\n",
        "\n",
        "\n",
        "def _residual_block(block_function, filters, repetitions, is_first_layer=False):\n",
        "    \n",
        "    def f(input):\n",
        "        for i in range(repetitions):\n",
        "            init_strides = (1, 1)\n",
        "            if i == 0 and not is_first_layer:\n",
        "                init_strides = (2, 2)\n",
        "            input = block_function(filters=filters, init_strides=init_strides,\n",
        "                                   is_first_block_of_first_layer=(is_first_layer and i == 0))(input)\n",
        "        return input\n",
        "\n",
        "    return f\n",
        "\n",
        "\n",
        "def basic_block(filters, init_strides=(1, 1), is_first_block_of_first_layer=False):\n",
        "    \n",
        "    def f(input):\n",
        "\n",
        "        if is_first_block_of_first_layer:\n",
        "            # don't repeat bn->relu since we just did bn->relu->maxpool\n",
        "            conv1 = Conv2D(filters=filters, kernel_size=(3, 3),\n",
        "                           strides=init_strides,\n",
        "                           padding=\"same\",\n",
        "                           kernel_initializer=\"he_normal\",\n",
        "                           kernel_regularizer=l2(1e-4))(input)\n",
        "        else:\n",
        "            conv1 = _bn_relu_conv(filters=filters, kernel_size=(3, 3),\n",
        "                                  strides=init_strides)(input)\n",
        "\n",
        "        residual = _bn_relu_conv(filters=filters, kernel_size=(3, 3))(conv1)\n",
        "        return _shortcut(input, residual)\n",
        "\n",
        "    return f\n",
        "\n",
        "\n",
        "def bottleneck(filters, init_strides=(1, 1), is_first_block_of_first_layer=False):\n",
        "    \n",
        "    def f(input):\n",
        "\n",
        "        if is_first_block_of_first_layer:\n",
        "            conv_1_1 = Conv2D(filters=filters, kernel_size=(1, 1),\n",
        "                              strides=init_strides,\n",
        "                              padding=\"same\",\n",
        "                              kernel_initializer=\"he_normal\",\n",
        "                              kernel_regularizer=l2(1e-4))(input)\n",
        "        else:\n",
        "            conv_1_1 = _bn_relu_conv(filters=filters, kernel_size=(1, 1),\n",
        "                                     strides=init_strides)(input)\n",
        "\n",
        "        conv_3_3 = _bn_relu_conv(filters=filters, kernel_size=(3, 3))(conv_1_1)\n",
        "        residual = _bn_relu_conv(filters=filters * 4, kernel_size=(1, 1))(conv_3_3)\n",
        "        return _shortcut(input, residual)\n",
        "\n",
        "    return f\n",
        "\n",
        "\n",
        "def _handle_dim_ordering():\n",
        "    global ROW_AXIS\n",
        "    global COL_AXIS\n",
        "    global CHANNEL_AXIS\n",
        "    if K.image_dim_ordering() == 'tf':\n",
        "        ROW_AXIS = 1\n",
        "        COL_AXIS = 2\n",
        "        CHANNEL_AXIS = 3\n",
        "    else:\n",
        "        CHANNEL_AXIS = 1\n",
        "        ROW_AXIS = 2\n",
        "        COL_AXIS = 3\n",
        "\n",
        "\n",
        "def _get_block(identifier):\n",
        "    if isinstance(identifier, six.string_types):\n",
        "        res = globals().get(identifier)\n",
        "        if not res:\n",
        "            raise ValueError('Invalid {}'.format(identifier))\n",
        "        return res\n",
        "    return identifier\n",
        "\n",
        "\n",
        "class ResnetBuilder(object):\n",
        "    @staticmethod\n",
        "    def build(input_shape, num_outputs, block_fn, repetitions):\n",
        "        \n",
        "        _handle_dim_ordering()\n",
        "        if len(input_shape) != 3:\n",
        "            raise Exception(\"Input shape should be a tuple (nb_channels, nb_rows, nb_cols)\")\n",
        "\n",
        "        if K.image_dim_ordering() == 'tf':\n",
        "            input_shape = (input_shape[1], input_shape[2], input_shape[0])\n",
        "\n",
        "        block_fn = _get_block(block_fn)\n",
        "\n",
        "        input = Input(shape=input_shape)\n",
        "        conv1 = _conv_bn_relu(filters=64, kernel_size=(7, 7), strides=(2, 2))(input)\n",
        "        pool1 = MaxPooling2D(pool_size=(3, 3), strides=(2, 2), padding=\"same\")(conv1)\n",
        "\n",
        "        block = pool1\n",
        "        filters = 64\n",
        "        for i, r in enumerate(repetitions):\n",
        "            block = _residual_block(block_fn, filters=filters, repetitions=r, is_first_layer=(i == 0))(block)\n",
        "            filters *= 2\n",
        "\n",
        "        block = _bn_relu(block)\n",
        "\n",
        "        \n",
        "        block_shape = K.int_shape(block)\n",
        "        pool2 = AveragePooling2D(pool_size=(block_shape[ROW_AXIS], block_shape[COL_AXIS]),\n",
        "                                 strides=(1, 1))(block)\n",
        "        flatten1 = Flatten()(pool2)\n",
        "        dense = Dense(units=num_outputs, kernel_initializer=\"he_normal\",\n",
        "                      activation=\"softmax\")(flatten1)\n",
        "\n",
        "        model = Model(inputs=input, outputs=dense)\n",
        "        model.compile(optimizer=SGD(lr=0.01), loss='categorical_crossentropy', metrics=['accuracy'])\n",
        "        return model\n",
        "\n",
        "    @staticmethod\n",
        "    def build_resnet_18(input_shape, num_outputs):\n",
        "        return ResnetBuilder.build(input_shape, num_outputs, basic_block, [2, 2, 2, 2])\n",
        "\n",
        "    @staticmethod\n",
        "    def build_resnet_34(input_shape, num_outputs):\n",
        "        return ResnetBuilder.build(input_shape, num_outputs, basic_block, [3, 4, 6, 3])\n",
        "\n",
        "    @staticmethod\n",
        "    def build_resnet_50(input_shape, num_outputs):\n",
        "        return ResnetBuilder.build(input_shape, num_outputs, bottleneck, [3, 4, 6, 3])\n",
        "\n",
        "    @staticmethod\n",
        "    def build_resnet_101(input_shape, num_outputs):\n",
        "        return ResnetBuilder.build(input_shape, num_outputs, bottleneck, [3, 4, 23, 3])\n",
        "\n",
        "    @staticmethod\n",
        "    def build_resnet_152(input_shape, num_outputs):\n",
        "        return ResnetBuilder.build(input_shape, num_outputs, bottleneck, [3, 8, 36, 3])"
      ],
      "execution_count": 0,
      "outputs": []
    }
  ]
}